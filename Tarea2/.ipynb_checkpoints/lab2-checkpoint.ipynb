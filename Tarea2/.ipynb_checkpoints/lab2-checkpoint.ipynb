{
 "cells": [
  {
   "cell_type": "markdown",
   "id": "palestinian-hobby",
   "metadata": {},
   "source": [
    "# Lab 2\n",
    "\n",
    "## Part 1"
   ]
  },
  {
   "cell_type": "code",
   "execution_count": 44,
   "id": "mature-calgary",
   "metadata": {},
   "outputs": [
    {
     "name": "stdout",
     "output_type": "stream",
     "text": [
      "The tensorboard extension is already loaded. To reload it, use:\n",
      "  %reload_ext tensorboard\n"
     ]
    }
   ],
   "source": [
    "# Load the TensorBoard notebook extension\n",
    "%load_ext tensorboard"
   ]
  },
  {
   "cell_type": "code",
   "execution_count": 45,
   "id": "instructional-notebook",
   "metadata": {},
   "outputs": [],
   "source": [
    "import tensorflow as tf\n",
    "import datetime, os\n",
    "import numpy as np\n",
    "import pandas as pd\n",
    "from sklearn.model_selection import train_test_split\n",
    "%matplotlib inline\n",
    "import matplotlib.pyplot as plt\n",
    "from datetime import datetime"
   ]
  },
  {
   "cell_type": "code",
   "execution_count": 46,
   "id": "actual-chick",
   "metadata": {},
   "outputs": [
    {
     "name": "stdout",
     "output_type": "stream",
     "text": [
      "2.3.0\n"
     ]
    }
   ],
   "source": [
    "print(tf.__version__)"
   ]
  },
  {
   "cell_type": "code",
   "execution_count": 47,
   "id": "proof-graphics",
   "metadata": {},
   "outputs": [
    {
     "name": "stdout",
     "output_type": "stream",
     "text": [
      "Enabled compatitility to tf1.x\n"
     ]
    }
   ],
   "source": [
    "if tf.__version__.startswith(\"2.\"):\n",
    "  import tensorflow.compat.v1 as tf\n",
    "  tf.compat.v1.disable_v2_behavior()\n",
    "  tf.compat.v1.disable_eager_execution()\n",
    "  print(\"Enabled compatitility to tf1.x\")"
   ]
  },
  {
   "cell_type": "code",
   "execution_count": 48,
   "id": "other-vienna",
   "metadata": {},
   "outputs": [
    {
     "data": {
      "text/html": [
       "<div>\n",
       "<style scoped>\n",
       "    .dataframe tbody tr th:only-of-type {\n",
       "        vertical-align: middle;\n",
       "    }\n",
       "\n",
       "    .dataframe tbody tr th {\n",
       "        vertical-align: top;\n",
       "    }\n",
       "\n",
       "    .dataframe thead th {\n",
       "        text-align: right;\n",
       "    }\n",
       "</style>\n",
       "<table border=\"1\" class=\"dataframe\">\n",
       "  <thead>\n",
       "    <tr style=\"text-align: right;\">\n",
       "      <th></th>\n",
       "      <th>Province/State</th>\n",
       "      <th>Country/Region</th>\n",
       "      <th>Lat</th>\n",
       "      <th>Long</th>\n",
       "      <th>Date</th>\n",
       "      <th>Confirmed</th>\n",
       "      <th>Deaths</th>\n",
       "      <th>Recovered</th>\n",
       "    </tr>\n",
       "  </thead>\n",
       "  <tbody>\n",
       "    <tr>\n",
       "      <th>0</th>\n",
       "      <td>NaN</td>\n",
       "      <td>Afghanistan</td>\n",
       "      <td>33.0000</td>\n",
       "      <td>65.0000</td>\n",
       "      <td>2020-01-22</td>\n",
       "      <td>0</td>\n",
       "      <td>0</td>\n",
       "      <td>0</td>\n",
       "    </tr>\n",
       "    <tr>\n",
       "      <th>1</th>\n",
       "      <td>NaN</td>\n",
       "      <td>Albania</td>\n",
       "      <td>41.1533</td>\n",
       "      <td>20.1683</td>\n",
       "      <td>2020-01-22</td>\n",
       "      <td>0</td>\n",
       "      <td>0</td>\n",
       "      <td>0</td>\n",
       "    </tr>\n",
       "    <tr>\n",
       "      <th>2</th>\n",
       "      <td>NaN</td>\n",
       "      <td>Algeria</td>\n",
       "      <td>28.0339</td>\n",
       "      <td>1.6596</td>\n",
       "      <td>2020-01-22</td>\n",
       "      <td>0</td>\n",
       "      <td>0</td>\n",
       "      <td>0</td>\n",
       "    </tr>\n",
       "    <tr>\n",
       "      <th>3</th>\n",
       "      <td>NaN</td>\n",
       "      <td>Andorra</td>\n",
       "      <td>42.5063</td>\n",
       "      <td>1.5218</td>\n",
       "      <td>2020-01-22</td>\n",
       "      <td>0</td>\n",
       "      <td>0</td>\n",
       "      <td>0</td>\n",
       "    </tr>\n",
       "    <tr>\n",
       "      <th>4</th>\n",
       "      <td>NaN</td>\n",
       "      <td>Angola</td>\n",
       "      <td>-11.2027</td>\n",
       "      <td>17.8739</td>\n",
       "      <td>2020-01-22</td>\n",
       "      <td>0</td>\n",
       "      <td>0</td>\n",
       "      <td>0</td>\n",
       "    </tr>\n",
       "  </tbody>\n",
       "</table>\n",
       "</div>"
      ],
      "text/plain": [
       "  Province/State Country/Region      Lat     Long       Date  Confirmed  \\\n",
       "0            NaN    Afghanistan  33.0000  65.0000 2020-01-22          0   \n",
       "1            NaN        Albania  41.1533  20.1683 2020-01-22          0   \n",
       "2            NaN        Algeria  28.0339   1.6596 2020-01-22          0   \n",
       "3            NaN        Andorra  42.5063   1.5218 2020-01-22          0   \n",
       "4            NaN         Angola -11.2027  17.8739 2020-01-22          0   \n",
       "\n",
       "   Deaths  Recovered  \n",
       "0       0          0  \n",
       "1       0          0  \n",
       "2       0          0  \n",
       "3       0          0  \n",
       "4       0          0  "
      ]
     },
     "execution_count": 48,
     "metadata": {},
     "output_type": "execute_result"
    }
   ],
   "source": [
    "covid19_data = pd.read_csv('covid_19_clean_complete.csv')\n",
    "covid19_data[\"Date\"] = pd.to_datetime(covid19_data[\"Date\"],infer_datetime_format = True)\n",
    "covid19_data.head()"
   ]
  },
  {
   "cell_type": "code",
   "execution_count": 49,
   "id": "photographic-assault",
   "metadata": {},
   "outputs": [
    {
     "data": {
      "text/plain": [
       "<AxesSubplot:xlabel='Date', ylabel='Confirmed'>"
      ]
     },
     "execution_count": 49,
     "metadata": {},
     "output_type": "execute_result"
    },
    {
     "data": {
      "image/png": "[encoded data removed]",
      "text/plain": [
       "<Figure size 432x288 with 1 Axes>"
      ]
     },
     "metadata": {
      "needs_background": "light"
     },
     "output_type": "display_data"
    }
   ],
   "source": [
    "GT_confirmed = covid19_data[(covid19_data[\"Country/Region\"] == 'Guatemala') & (covid19_data[\"Confirmed\"] > 0)].copy()\n",
    "GT_confirmed.plot.scatter(x = \"Date\",y=\"Confirmed\")"
   ]
  },
  {
   "cell_type": "code",
   "execution_count": 50,
   "id": "forbidden-burner",
   "metadata": {},
   "outputs": [
    {
     "data": {
      "text/html": [
       "<div>\n",
       "<style scoped>\n",
       "    .dataframe tbody tr th:only-of-type {\n",
       "        vertical-align: middle;\n",
       "    }\n",
       "\n",
       "    .dataframe tbody tr th {\n",
       "        vertical-align: top;\n",
       "    }\n",
       "\n",
       "    .dataframe thead th {\n",
       "        text-align: right;\n",
       "    }\n",
       "</style>\n",
       "<table border=\"1\" class=\"dataframe\">\n",
       "  <thead>\n",
       "    <tr style=\"text-align: right;\">\n",
       "      <th></th>\n",
       "      <th>Province/State</th>\n",
       "      <th>Country/Region</th>\n",
       "      <th>Lat</th>\n",
       "      <th>Long</th>\n",
       "      <th>Date</th>\n",
       "      <th>Confirmed</th>\n",
       "      <th>Deaths</th>\n",
       "      <th>Recovered</th>\n",
       "    </tr>\n",
       "  </thead>\n",
       "  <tbody>\n",
       "    <tr>\n",
       "      <th>13851</th>\n",
       "      <td>NaN</td>\n",
       "      <td>Guatemala</td>\n",
       "      <td>15.7835</td>\n",
       "      <td>-90.2308</td>\n",
       "      <td>2020-03-14</td>\n",
       "      <td>1</td>\n",
       "      <td>0</td>\n",
       "      <td>0</td>\n",
       "    </tr>\n",
       "    <tr>\n",
       "      <th>14115</th>\n",
       "      <td>NaN</td>\n",
       "      <td>Guatemala</td>\n",
       "      <td>15.7835</td>\n",
       "      <td>-90.2308</td>\n",
       "      <td>2020-03-15</td>\n",
       "      <td>1</td>\n",
       "      <td>0</td>\n",
       "      <td>0</td>\n",
       "    </tr>\n",
       "    <tr>\n",
       "      <th>14379</th>\n",
       "      <td>NaN</td>\n",
       "      <td>Guatemala</td>\n",
       "      <td>15.7835</td>\n",
       "      <td>-90.2308</td>\n",
       "      <td>2020-03-16</td>\n",
       "      <td>2</td>\n",
       "      <td>1</td>\n",
       "      <td>0</td>\n",
       "    </tr>\n",
       "    <tr>\n",
       "      <th>14643</th>\n",
       "      <td>NaN</td>\n",
       "      <td>Guatemala</td>\n",
       "      <td>15.7835</td>\n",
       "      <td>-90.2308</td>\n",
       "      <td>2020-03-17</td>\n",
       "      <td>6</td>\n",
       "      <td>1</td>\n",
       "      <td>0</td>\n",
       "    </tr>\n",
       "    <tr>\n",
       "      <th>14907</th>\n",
       "      <td>NaN</td>\n",
       "      <td>Guatemala</td>\n",
       "      <td>15.7835</td>\n",
       "      <td>-90.2308</td>\n",
       "      <td>2020-03-18</td>\n",
       "      <td>6</td>\n",
       "      <td>1</td>\n",
       "      <td>0</td>\n",
       "    </tr>\n",
       "    <tr>\n",
       "      <th>15171</th>\n",
       "      <td>NaN</td>\n",
       "      <td>Guatemala</td>\n",
       "      <td>15.7835</td>\n",
       "      <td>-90.2308</td>\n",
       "      <td>2020-03-19</td>\n",
       "      <td>9</td>\n",
       "      <td>1</td>\n",
       "      <td>0</td>\n",
       "    </tr>\n",
       "    <tr>\n",
       "      <th>15435</th>\n",
       "      <td>NaN</td>\n",
       "      <td>Guatemala</td>\n",
       "      <td>15.7835</td>\n",
       "      <td>-90.2308</td>\n",
       "      <td>2020-03-20</td>\n",
       "      <td>12</td>\n",
       "      <td>1</td>\n",
       "      <td>0</td>\n",
       "    </tr>\n",
       "    <tr>\n",
       "      <th>15699</th>\n",
       "      <td>NaN</td>\n",
       "      <td>Guatemala</td>\n",
       "      <td>15.7835</td>\n",
       "      <td>-90.2308</td>\n",
       "      <td>2020-03-21</td>\n",
       "      <td>17</td>\n",
       "      <td>1</td>\n",
       "      <td>0</td>\n",
       "    </tr>\n",
       "    <tr>\n",
       "      <th>15963</th>\n",
       "      <td>NaN</td>\n",
       "      <td>Guatemala</td>\n",
       "      <td>15.7835</td>\n",
       "      <td>-90.2308</td>\n",
       "      <td>2020-03-22</td>\n",
       "      <td>19</td>\n",
       "      <td>1</td>\n",
       "      <td>0</td>\n",
       "    </tr>\n",
       "    <tr>\n",
       "      <th>16227</th>\n",
       "      <td>NaN</td>\n",
       "      <td>Guatemala</td>\n",
       "      <td>15.7835</td>\n",
       "      <td>-90.2308</td>\n",
       "      <td>2020-03-23</td>\n",
       "      <td>20</td>\n",
       "      <td>1</td>\n",
       "      <td>0</td>\n",
       "    </tr>\n",
       "    <tr>\n",
       "      <th>16491</th>\n",
       "      <td>NaN</td>\n",
       "      <td>Guatemala</td>\n",
       "      <td>15.7835</td>\n",
       "      <td>-90.2308</td>\n",
       "      <td>2020-03-24</td>\n",
       "      <td>21</td>\n",
       "      <td>1</td>\n",
       "      <td>0</td>\n",
       "    </tr>\n",
       "    <tr>\n",
       "      <th>16755</th>\n",
       "      <td>NaN</td>\n",
       "      <td>Guatemala</td>\n",
       "      <td>15.7835</td>\n",
       "      <td>-90.2308</td>\n",
       "      <td>2020-03-25</td>\n",
       "      <td>24</td>\n",
       "      <td>1</td>\n",
       "      <td>4</td>\n",
       "    </tr>\n",
       "    <tr>\n",
       "      <th>17019</th>\n",
       "      <td>NaN</td>\n",
       "      <td>Guatemala</td>\n",
       "      <td>15.7835</td>\n",
       "      <td>-90.2308</td>\n",
       "      <td>2020-03-26</td>\n",
       "      <td>25</td>\n",
       "      <td>1</td>\n",
       "      <td>4</td>\n",
       "    </tr>\n",
       "    <tr>\n",
       "      <th>17283</th>\n",
       "      <td>NaN</td>\n",
       "      <td>Guatemala</td>\n",
       "      <td>15.7835</td>\n",
       "      <td>-90.2308</td>\n",
       "      <td>2020-03-27</td>\n",
       "      <td>28</td>\n",
       "      <td>1</td>\n",
       "      <td>4</td>\n",
       "    </tr>\n",
       "    <tr>\n",
       "      <th>17547</th>\n",
       "      <td>NaN</td>\n",
       "      <td>Guatemala</td>\n",
       "      <td>15.7835</td>\n",
       "      <td>-90.2308</td>\n",
       "      <td>2020-03-28</td>\n",
       "      <td>34</td>\n",
       "      <td>1</td>\n",
       "      <td>10</td>\n",
       "    </tr>\n",
       "    <tr>\n",
       "      <th>17811</th>\n",
       "      <td>NaN</td>\n",
       "      <td>Guatemala</td>\n",
       "      <td>15.7835</td>\n",
       "      <td>-90.2308</td>\n",
       "      <td>2020-03-29</td>\n",
       "      <td>34</td>\n",
       "      <td>1</td>\n",
       "      <td>10</td>\n",
       "    </tr>\n",
       "    <tr>\n",
       "      <th>18075</th>\n",
       "      <td>NaN</td>\n",
       "      <td>Guatemala</td>\n",
       "      <td>15.7835</td>\n",
       "      <td>-90.2308</td>\n",
       "      <td>2020-03-30</td>\n",
       "      <td>36</td>\n",
       "      <td>1</td>\n",
       "      <td>10</td>\n",
       "    </tr>\n",
       "    <tr>\n",
       "      <th>18339</th>\n",
       "      <td>NaN</td>\n",
       "      <td>Guatemala</td>\n",
       "      <td>15.7835</td>\n",
       "      <td>-90.2308</td>\n",
       "      <td>2020-03-31</td>\n",
       "      <td>38</td>\n",
       "      <td>1</td>\n",
       "      <td>12</td>\n",
       "    </tr>\n",
       "    <tr>\n",
       "      <th>18603</th>\n",
       "      <td>NaN</td>\n",
       "      <td>Guatemala</td>\n",
       "      <td>15.7835</td>\n",
       "      <td>-90.2308</td>\n",
       "      <td>2020-04-01</td>\n",
       "      <td>39</td>\n",
       "      <td>1</td>\n",
       "      <td>12</td>\n",
       "    </tr>\n",
       "    <tr>\n",
       "      <th>18867</th>\n",
       "      <td>NaN</td>\n",
       "      <td>Guatemala</td>\n",
       "      <td>15.7835</td>\n",
       "      <td>-90.2308</td>\n",
       "      <td>2020-04-02</td>\n",
       "      <td>47</td>\n",
       "      <td>1</td>\n",
       "      <td>12</td>\n",
       "    </tr>\n",
       "  </tbody>\n",
       "</table>\n",
       "</div>"
      ],
      "text/plain": [
       "      Province/State Country/Region      Lat     Long       Date  Confirmed  \\\n",
       "13851            NaN      Guatemala  15.7835 -90.2308 2020-03-14          1   \n",
       "14115            NaN      Guatemala  15.7835 -90.2308 2020-03-15          1   \n",
       "14379            NaN      Guatemala  15.7835 -90.2308 2020-03-16          2   \n",
       "14643            NaN      Guatemala  15.7835 -90.2308 2020-03-17          6   \n",
       "14907            NaN      Guatemala  15.7835 -90.2308 2020-03-18          6   \n",
       "15171            NaN      Guatemala  15.7835 -90.2308 2020-03-19          9   \n",
       "15435            NaN      Guatemala  15.7835 -90.2308 2020-03-20         12   \n",
       "15699            NaN      Guatemala  15.7835 -90.2308 2020-03-21         17   \n",
       "15963            NaN      Guatemala  15.7835 -90.2308 2020-03-22         19   \n",
       "16227            NaN      Guatemala  15.7835 -90.2308 2020-03-23         20   \n",
       "16491            NaN      Guatemala  15.7835 -90.2308 2020-03-24         21   \n",
       "16755            NaN      Guatemala  15.7835 -90.2308 2020-03-25         24   \n",
       "17019            NaN      Guatemala  15.7835 -90.2308 2020-03-26         25   \n",
       "17283            NaN      Guatemala  15.7835 -90.2308 2020-03-27         28   \n",
       "17547            NaN      Guatemala  15.7835 -90.2308 2020-03-28         34   \n",
       "17811            NaN      Guatemala  15.7835 -90.2308 2020-03-29         34   \n",
       "18075            NaN      Guatemala  15.7835 -90.2308 2020-03-30         36   \n",
       "18339            NaN      Guatemala  15.7835 -90.2308 2020-03-31         38   \n",
       "18603            NaN      Guatemala  15.7835 -90.2308 2020-04-01         39   \n",
       "18867            NaN      Guatemala  15.7835 -90.2308 2020-04-02         47   \n",
       "\n",
       "       Deaths  Recovered  \n",
       "13851       0          0  \n",
       "14115       0          0  \n",
       "14379       1          0  \n",
       "14643       1          0  \n",
       "14907       1          0  \n",
       "15171       1          0  \n",
       "15435       1          0  \n",
       "15699       1          0  \n",
       "15963       1          0  \n",
       "16227       1          0  \n",
       "16491       1          0  \n",
       "16755       1          4  \n",
       "17019       1          4  \n",
       "17283       1          4  \n",
       "17547       1         10  \n",
       "17811       1         10  \n",
       "18075       1         10  \n",
       "18339       1         12  \n",
       "18603       1         12  \n",
       "18867       1         12  "
      ]
     },
     "execution_count": 50,
     "metadata": {},
     "output_type": "execute_result"
    }
   ],
   "source": [
    "GT_confirmed.head(20)"
   ]
  },
  {
   "cell_type": "code",
   "execution_count": 51,
   "id": "documented-compact",
   "metadata": {},
   "outputs": [
    {
     "data": {
      "text/plain": [
       "<AxesSubplot:xlabel='Date', ylabel='ln(confirmed)'>"
      ]
     },
     "execution_count": 51,
     "metadata": {},
     "output_type": "execute_result"
    },
    {
     "data": {
      "image/png": "[encoded data removed]",
      "text/plain": [
       "<Figure size 432x288 with 1 Axes>"
      ]
     },
     "metadata": {
      "needs_background": "light"
     },
     "output_type": "display_data"
    }
   ],
   "source": [
    "GT_confirmed[\"ln(confirmed)\"] = np.log(GT_confirmed[\"Confirmed\"])\n",
    "GT_confirmed.plot.scatter(x = \"Date\",y=\"ln(confirmed)\")"
   ]
  },
  {
   "cell_type": "code",
   "execution_count": 54,
   "id": "ecological-typing",
   "metadata": {},
   "outputs": [
    {
     "data": {
      "text/plain": [
       "<AxesSubplot:xlabel='Date', ylabel='ln(confirmed)'>"
      ]
     },
     "execution_count": 54,
     "metadata": {},
     "output_type": "execute_result"
    },
    {
     "data": {
      "image/png": "[encoded data removed]",
      "text/plain": [
       "<Figure size 432x288 with 1 Axes>"
      ]
     },
     "metadata": {
      "needs_background": "light"
     },
     "output_type": "display_data"
    }
   ],
   "source": [
    "GT_confirmed_post24 = GT_confirmed[(GT_confirmed.Date >= '2020-03-22') & (GT_confirmed.Date < '2020-05-30')].copy()\n",
    "GT_confirmed_post24.plot.scatter(x = \"Date\",y=\"ln(confirmed)\")\n"
   ]
  },
  {
   "cell_type": "code",
   "execution_count": 55,
   "id": "forward-presence",
   "metadata": {},
   "outputs": [
    {
     "name": "stdout",
     "output_type": "stream",
     "text": [
      "2020-03-22 00:00:00 2020-05-10 00:00:00\n"
     ]
    }
   ],
   "source": [
    "start_date = GT_confirmed_post24.Date.min()\n",
    "finish_date = GT_confirmed_post24.Date.max()\n",
    "print(start_date, finish_date)\n",
    "start_date = GT_confirmed_post24.Date.min()\n",
    "GT_confirmed_post24[\"n_day\"] = (GT_confirmed_post24.Date - start_date).dt.days\n"
   ]
  },
  {
   "cell_type": "code",
   "execution_count": 56,
   "id": "higher-partner",
   "metadata": {},
   "outputs": [
    {
     "data": {
      "text/plain": [
       "<AxesSubplot:xlabel='n_day', ylabel='ln(confirmed)'>"
      ]
     },
     "execution_count": 56,
     "metadata": {},
     "output_type": "execute_result"
    },
    {
     "data": {
      "image/png": "[encoded data removed]",
      "text/plain": [
       "<Figure size 432x288 with 1 Axes>"
      ]
     },
     "metadata": {
      "needs_background": "light"
     },
     "output_type": "display_data"
    }
   ],
   "source": [
    "GT_confirmed_post24.plot.scatter(x = \"n_day\",y=\"ln(confirmed)\")"
   ]
  },
  {
   "cell_type": "code",
   "execution_count": 66,
   "id": "suffering-avatar",
   "metadata": {},
   "outputs": [],
   "source": [
    "def compute_prediction(X, params):\n",
    "    ## add a column of one's to add the bias (b) in the same vectorize operation\n",
    "    with tf.name_scope(\"Model\"):\n",
    "        padding = tf.constant([[0,0],[1, 0]], name=\"Padding\")\n",
    "        X_with_bias = tf.pad(X, padding, \"CONSTANT\", constant_values=1, name=\"PreparedData\")\n",
    "        model = tf.linalg.matmul(X_with_bias, params, name=\"Predict\")\n",
    "    return model\n",
    "\n",
    "def compute_mse(y, y_hat):\n",
    "    with tf.name_scope(\"Cost\"):\n",
    "        diff = tf.math.square(tf.math.subtract(y, y_hat))\n",
    "        mse = 0.5 * tf.reduce_mean(diff, name=\"MSE\")\n",
    "        mse_summary = tf.summary.scalar(name=\"MSE_Summary\", tensor=mse)\n",
    "    return mse, mse_summary\n",
    "\n",
    "def build_linear_model_graph(tensor_x, tensor_y, params, lr=0.001):\n",
    "    prediction = compute_prediction(tensor_x, params)\n",
    "    mse, mse_summary = compute_mse(tensor_y, prediction)\n",
    "    with tf.name_scope(\"GradieDescent\"):\n",
    "        gradient = tf.gradients(mse, [params], name=\"Gradient\")\n",
    "        update_params = tf.assign(params, params - lr * gradient[0], name=\"UpdateParams\")\n",
    "    return prediction, update_params, params, mse, mse_summary\n",
    "\n",
    "def fit(X, Y, batch_size, epochs=100, lr=0.001, print_n=10, logs_path='./logs/graph_'):\n",
    "    tf.reset_default_graph()\n",
    "    params = tf.get_variable(\"Params\", dtype=tf.float32, shape=[2, 1],initializer=tf.zeros_initializer())\n",
    "    tensor_x = tf.placeholder(tf.float32, [None,1], name=\"X\")\n",
    "    tensor_y = tf.placeholder(tf.float32, [None,1], name=\"Y\")\n",
    "    get_prediction, update_params, params, mse, mse_summary = build_linear_model_graph(tensor_x, tensor_y, params, lr)\n",
    "    n = X.shape[0] // batch_size\n",
    "    final_tetha = None\n",
    "    path = f\"{logs_path}batch_size_{batch_size}_lr_{lr}_{datetime.today().strftime('%Y%m%d-%H%M%S')}\"\n",
    "    with tf.train.MonitoredSession() as session:\n",
    "        with tf.summary.FileWriter(path, session.graph) as train_writer:\n",
    "            for epoch in range(epochs): \n",
    "                for i in range(n):\n",
    "                    start, end = i * batch_size, (i+1) * batch_size\n",
    "                    x_mbatch = np.array(X[start:end,]).reshape(-1,1)\n",
    "                    y_mbatch = np.array(Y[start:end]).reshape(-1,1)\n",
    "                    feed_dict = { tensor_x: x_mbatch, tensor_y: y_mbatch}\n",
    "                    _, theta = session.run([update_params, params], feed_dict=feed_dict)\n",
    "                if (epoch + 1) % print_n == 0:\n",
    "                    feed_dict = { tensor_x: np.array(X).reshape(-1,1), tensor_y: np.array(Y).reshape(-1,1) }\n",
    "                    e_summary, error =  session.run([mse_summary, mse], feed_dict = feed_dict)\n",
    "                    train_writer.add_summary(e_summary, epoch)\n",
    "            final_theta = session.run(params, feed_dict=feed_dict)\n",
    "    def predict(x): \n",
    "        return compute_prediction(x, params)\n",
    "    return final_theta, predict"
   ]
  },
  {
   "cell_type": "code",
   "execution_count": 67,
   "id": "secret-matrix",
   "metadata": {},
   "outputs": [
    {
     "data": {
      "text/plain": [
       "[69]"
      ]
     },
     "execution_count": 67,
     "metadata": {},
     "output_type": "execute_result"
    }
   ],
   "source": [
    "x_test = [(datetime.strptime(\"2020-05-30\", '%Y-%m-%d') - start_date).days]\n",
    "x_test"
   ]
  },
  {
   "cell_type": "code",
   "execution_count": 68,
   "id": "duplicate-glucose",
   "metadata": {},
   "outputs": [
    {
     "data": {
      "text/plain": [
       "Reusing TensorBoard on port 6006 (pid 12700), started 0:04:33 ago. (Use '!kill 12700' to kill it.)"
      ]
     },
     "metadata": {},
     "output_type": "display_data"
    },
    {
     "data": {
      "text/html": [
       "\n",
       "      <iframe id=\"tensorboard-frame-72be5c1f8651706e\" width=\"100%\" height=\"800\" frameborder=\"0\">\n",
       "      </iframe>\n",
       "      <script>\n",
       "        (function() {\n",
       "          const frame = document.getElementById(\"tensorboard-frame-72be5c1f8651706e\");\n",
       "          const url = new URL(\"/\", window.location);\n",
       "          const port = 6006;\n",
       "          if (port) {\n",
       "            url.port = port;\n",
       "          }\n",
       "          frame.src = url;\n",
       "        })();\n",
       "      </script>\n",
       "    "
      ],
      "text/plain": [
       "<IPython.core.display.HTML object>"
      ]
     },
     "metadata": {},
     "output_type": "display_data"
    },
    {
     "name": "stdout",
     "output_type": "stream",
     "text": [
      "INFO:tensorflow:Graph was finalized.\n",
      "INFO:tensorflow:Running local_init_op.\n",
      "INFO:tensorflow:Done running local_init_op.\n",
      "[[8.279983]]\n"
     ]
    }
   ],
   "source": [
    "%tensorboard --logdir logs\n",
    "x_train, y_train = GT_confirmed_post24[\"n_day\"], GT_confirmed_post24[\"ln(confirmed)\"]\n",
    "theta, predict = fit(x_train, y_train, batch_size=10, epochs=1000, lr=0.001, print_n=20)\n"
   ]
  },
  {
   "cell_type": "code",
   "execution_count": 70,
   "id": "honey-morocco",
   "metadata": {},
   "outputs": [
    {
     "name": "stdout",
     "output_type": "stream",
     "text": [
      "[[3944.1257]]\n"
     ]
    }
   ],
   "source": [
    "with tf.Session() as session:\n",
    "    y_estimates = session.run(compute_prediction(np.array(x_test).reshape(-1,1).astype('float32'), theta))\n",
    "    print(np.exp(y_estimates))"
   ]
  },
  {
   "cell_type": "markdown",
   "id": "tropical-table",
   "metadata": {},
   "source": [
    "<img src=\"https://github.com/mazg-95/statistical-learning/blob/main/Tarea2/images/tb.png?raw=true\">"
   ]
  },
  {
   "cell_type": "markdown",
   "id": "primary-liechtenstein",
   "metadata": {},
   "source": [
    "## Part 2\n"
   ]
  },
  {
   "cell_type": "code",
   "execution_count": 147,
   "id": "proved-swiss",
   "metadata": {},
   "outputs": [],
   "source": [
    "data = pd.read_csv('winequality-red.csv')\n",
    "np.random.seed(101)\n",
    "tf.set_random_seed(101)"
   ]
  },
  {
   "cell_type": "code",
   "execution_count": 148,
   "id": "advised-plaintiff",
   "metadata": {},
   "outputs": [
    {
     "data": {
      "text/html": [
       "<div>\n",
       "<style scoped>\n",
       "    .dataframe tbody tr th:only-of-type {\n",
       "        vertical-align: middle;\n",
       "    }\n",
       "\n",
       "    .dataframe tbody tr th {\n",
       "        vertical-align: top;\n",
       "    }\n",
       "\n",
       "    .dataframe thead th {\n",
       "        text-align: right;\n",
       "    }\n",
       "</style>\n",
       "<table border=\"1\" class=\"dataframe\">\n",
       "  <thead>\n",
       "    <tr style=\"text-align: right;\">\n",
       "      <th></th>\n",
       "      <th>fixed acidity</th>\n",
       "      <th>volatile acidity</th>\n",
       "      <th>citric acid</th>\n",
       "      <th>residual sugar</th>\n",
       "      <th>chlorides</th>\n",
       "      <th>free sulfur dioxide</th>\n",
       "      <th>total sulfur dioxide</th>\n",
       "      <th>density</th>\n",
       "      <th>pH</th>\n",
       "      <th>sulphates</th>\n",
       "      <th>alcohol</th>\n",
       "      <th>quality</th>\n",
       "    </tr>\n",
       "  </thead>\n",
       "  <tbody>\n",
       "    <tr>\n",
       "      <th>0</th>\n",
       "      <td>7.4</td>\n",
       "      <td>0.70</td>\n",
       "      <td>0.00</td>\n",
       "      <td>1.9</td>\n",
       "      <td>0.076</td>\n",
       "      <td>11.0</td>\n",
       "      <td>34.0</td>\n",
       "      <td>0.9978</td>\n",
       "      <td>3.51</td>\n",
       "      <td>0.56</td>\n",
       "      <td>9.4</td>\n",
       "      <td>5</td>\n",
       "    </tr>\n",
       "    <tr>\n",
       "      <th>1</th>\n",
       "      <td>7.8</td>\n",
       "      <td>0.88</td>\n",
       "      <td>0.00</td>\n",
       "      <td>2.6</td>\n",
       "      <td>0.098</td>\n",
       "      <td>25.0</td>\n",
       "      <td>67.0</td>\n",
       "      <td>0.9968</td>\n",
       "      <td>3.20</td>\n",
       "      <td>0.68</td>\n",
       "      <td>9.8</td>\n",
       "      <td>5</td>\n",
       "    </tr>\n",
       "    <tr>\n",
       "      <th>2</th>\n",
       "      <td>7.8</td>\n",
       "      <td>0.76</td>\n",
       "      <td>0.04</td>\n",
       "      <td>2.3</td>\n",
       "      <td>0.092</td>\n",
       "      <td>15.0</td>\n",
       "      <td>54.0</td>\n",
       "      <td>0.9970</td>\n",
       "      <td>3.26</td>\n",
       "      <td>0.65</td>\n",
       "      <td>9.8</td>\n",
       "      <td>5</td>\n",
       "    </tr>\n",
       "    <tr>\n",
       "      <th>3</th>\n",
       "      <td>11.2</td>\n",
       "      <td>0.28</td>\n",
       "      <td>0.56</td>\n",
       "      <td>1.9</td>\n",
       "      <td>0.075</td>\n",
       "      <td>17.0</td>\n",
       "      <td>60.0</td>\n",
       "      <td>0.9980</td>\n",
       "      <td>3.16</td>\n",
       "      <td>0.58</td>\n",
       "      <td>9.8</td>\n",
       "      <td>6</td>\n",
       "    </tr>\n",
       "    <tr>\n",
       "      <th>4</th>\n",
       "      <td>7.4</td>\n",
       "      <td>0.70</td>\n",
       "      <td>0.00</td>\n",
       "      <td>1.9</td>\n",
       "      <td>0.076</td>\n",
       "      <td>11.0</td>\n",
       "      <td>34.0</td>\n",
       "      <td>0.9978</td>\n",
       "      <td>3.51</td>\n",
       "      <td>0.56</td>\n",
       "      <td>9.4</td>\n",
       "      <td>5</td>\n",
       "    </tr>\n",
       "  </tbody>\n",
       "</table>\n",
       "</div>"
      ],
      "text/plain": [
       "   fixed acidity  volatile acidity  citric acid  residual sugar  chlorides  \\\n",
       "0            7.4              0.70         0.00             1.9      0.076   \n",
       "1            7.8              0.88         0.00             2.6      0.098   \n",
       "2            7.8              0.76         0.04             2.3      0.092   \n",
       "3           11.2              0.28         0.56             1.9      0.075   \n",
       "4            7.4              0.70         0.00             1.9      0.076   \n",
       "\n",
       "   free sulfur dioxide  total sulfur dioxide  density    pH  sulphates  \\\n",
       "0                 11.0                  34.0   0.9978  3.51       0.56   \n",
       "1                 25.0                  67.0   0.9968  3.20       0.68   \n",
       "2                 15.0                  54.0   0.9970  3.26       0.65   \n",
       "3                 17.0                  60.0   0.9980  3.16       0.58   \n",
       "4                 11.0                  34.0   0.9978  3.51       0.56   \n",
       "\n",
       "   alcohol  quality  \n",
       "0      9.4        5  \n",
       "1      9.8        5  \n",
       "2      9.8        5  \n",
       "3      9.8        6  \n",
       "4      9.4        5  "
      ]
     },
     "execution_count": 148,
     "metadata": {},
     "output_type": "execute_result"
    }
   ],
   "source": [
    "data.head()"
   ]
  },
  {
   "cell_type": "code",
   "execution_count": 149,
   "id": "widespread-provision",
   "metadata": {},
   "outputs": [
    {
     "data": {
      "text/plain": [
       "<AxesSubplot:>"
      ]
     },
     "execution_count": 149,
     "metadata": {},
     "output_type": "execute_result"
    },
    {
     "data": {
      "image/png": "[encoded data removed]",
      "text/plain": [
       "<Figure size 432x288 with 1 Axes>"
      ]
     },
     "metadata": {
      "needs_background": "light"
     },
     "output_type": "display_data"
    }
   ],
   "source": [
    "data.plot()"
   ]
  },
  {
   "cell_type": "code",
   "execution_count": 77,
   "id": "built-chicken",
   "metadata": {},
   "outputs": [
    {
     "data": {
      "text/html": [
       "<div>\n",
       "<style scoped>\n",
       "    .dataframe tbody tr th:only-of-type {\n",
       "        vertical-align: middle;\n",
       "    }\n",
       "\n",
       "    .dataframe tbody tr th {\n",
       "        vertical-align: top;\n",
       "    }\n",
       "\n",
       "    .dataframe thead th {\n",
       "        text-align: right;\n",
       "    }\n",
       "</style>\n",
       "<table border=\"1\" class=\"dataframe\">\n",
       "  <thead>\n",
       "    <tr style=\"text-align: right;\">\n",
       "      <th></th>\n",
       "      <th>fixed acidity</th>\n",
       "      <th>volatile acidity</th>\n",
       "      <th>citric acid</th>\n",
       "      <th>residual sugar</th>\n",
       "      <th>chlorides</th>\n",
       "      <th>free sulfur dioxide</th>\n",
       "      <th>total sulfur dioxide</th>\n",
       "      <th>density</th>\n",
       "      <th>pH</th>\n",
       "      <th>sulphates</th>\n",
       "      <th>alcohol</th>\n",
       "      <th>quality</th>\n",
       "    </tr>\n",
       "  </thead>\n",
       "  <tbody>\n",
       "    <tr>\n",
       "      <th>count</th>\n",
       "      <td>1599.000000</td>\n",
       "      <td>1599.000000</td>\n",
       "      <td>1599.000000</td>\n",
       "      <td>1599.000000</td>\n",
       "      <td>1599.000000</td>\n",
       "      <td>1599.000000</td>\n",
       "      <td>1599.000000</td>\n",
       "      <td>1599.000000</td>\n",
       "      <td>1599.000000</td>\n",
       "      <td>1599.000000</td>\n",
       "      <td>1599.000000</td>\n",
       "      <td>1599.000000</td>\n",
       "    </tr>\n",
       "    <tr>\n",
       "      <th>mean</th>\n",
       "      <td>8.319637</td>\n",
       "      <td>0.527821</td>\n",
       "      <td>0.270976</td>\n",
       "      <td>2.538806</td>\n",
       "      <td>0.087467</td>\n",
       "      <td>15.874922</td>\n",
       "      <td>46.467792</td>\n",
       "      <td>0.996747</td>\n",
       "      <td>3.311113</td>\n",
       "      <td>0.658149</td>\n",
       "      <td>10.422983</td>\n",
       "      <td>5.636023</td>\n",
       "    </tr>\n",
       "    <tr>\n",
       "      <th>std</th>\n",
       "      <td>1.741096</td>\n",
       "      <td>0.179060</td>\n",
       "      <td>0.194801</td>\n",
       "      <td>1.409928</td>\n",
       "      <td>0.047065</td>\n",
       "      <td>10.460157</td>\n",
       "      <td>32.895324</td>\n",
       "      <td>0.001887</td>\n",
       "      <td>0.154386</td>\n",
       "      <td>0.169507</td>\n",
       "      <td>1.065668</td>\n",
       "      <td>0.807569</td>\n",
       "    </tr>\n",
       "    <tr>\n",
       "      <th>min</th>\n",
       "      <td>4.600000</td>\n",
       "      <td>0.120000</td>\n",
       "      <td>0.000000</td>\n",
       "      <td>0.900000</td>\n",
       "      <td>0.012000</td>\n",
       "      <td>1.000000</td>\n",
       "      <td>6.000000</td>\n",
       "      <td>0.990070</td>\n",
       "      <td>2.740000</td>\n",
       "      <td>0.330000</td>\n",
       "      <td>8.400000</td>\n",
       "      <td>3.000000</td>\n",
       "    </tr>\n",
       "    <tr>\n",
       "      <th>25%</th>\n",
       "      <td>7.100000</td>\n",
       "      <td>0.390000</td>\n",
       "      <td>0.090000</td>\n",
       "      <td>1.900000</td>\n",
       "      <td>0.070000</td>\n",
       "      <td>7.000000</td>\n",
       "      <td>22.000000</td>\n",
       "      <td>0.995600</td>\n",
       "      <td>3.210000</td>\n",
       "      <td>0.550000</td>\n",
       "      <td>9.500000</td>\n",
       "      <td>5.000000</td>\n",
       "    </tr>\n",
       "    <tr>\n",
       "      <th>50%</th>\n",
       "      <td>7.900000</td>\n",
       "      <td>0.520000</td>\n",
       "      <td>0.260000</td>\n",
       "      <td>2.200000</td>\n",
       "      <td>0.079000</td>\n",
       "      <td>14.000000</td>\n",
       "      <td>38.000000</td>\n",
       "      <td>0.996750</td>\n",
       "      <td>3.310000</td>\n",
       "      <td>0.620000</td>\n",
       "      <td>10.200000</td>\n",
       "      <td>6.000000</td>\n",
       "    </tr>\n",
       "    <tr>\n",
       "      <th>75%</th>\n",
       "      <td>9.200000</td>\n",
       "      <td>0.640000</td>\n",
       "      <td>0.420000</td>\n",
       "      <td>2.600000</td>\n",
       "      <td>0.090000</td>\n",
       "      <td>21.000000</td>\n",
       "      <td>62.000000</td>\n",
       "      <td>0.997835</td>\n",
       "      <td>3.400000</td>\n",
       "      <td>0.730000</td>\n",
       "      <td>11.100000</td>\n",
       "      <td>6.000000</td>\n",
       "    </tr>\n",
       "    <tr>\n",
       "      <th>max</th>\n",
       "      <td>15.900000</td>\n",
       "      <td>1.580000</td>\n",
       "      <td>1.000000</td>\n",
       "      <td>15.500000</td>\n",
       "      <td>0.611000</td>\n",
       "      <td>72.000000</td>\n",
       "      <td>289.000000</td>\n",
       "      <td>1.003690</td>\n",
       "      <td>4.010000</td>\n",
       "      <td>2.000000</td>\n",
       "      <td>14.900000</td>\n",
       "      <td>8.000000</td>\n",
       "    </tr>\n",
       "  </tbody>\n",
       "</table>\n",
       "</div>"
      ],
      "text/plain": [
       "       fixed acidity  volatile acidity  citric acid  residual sugar  \\\n",
       "count    1599.000000       1599.000000  1599.000000     1599.000000   \n",
       "mean        8.319637          0.527821     0.270976        2.538806   \n",
       "std         1.741096          0.179060     0.194801        1.409928   \n",
       "min         4.600000          0.120000     0.000000        0.900000   \n",
       "25%         7.100000          0.390000     0.090000        1.900000   \n",
       "50%         7.900000          0.520000     0.260000        2.200000   \n",
       "75%         9.200000          0.640000     0.420000        2.600000   \n",
       "max        15.900000          1.580000     1.000000       15.500000   \n",
       "\n",
       "         chlorides  free sulfur dioxide  total sulfur dioxide      density  \\\n",
       "count  1599.000000          1599.000000           1599.000000  1599.000000   \n",
       "mean      0.087467            15.874922             46.467792     0.996747   \n",
       "std       0.047065            10.460157             32.895324     0.001887   \n",
       "min       0.012000             1.000000              6.000000     0.990070   \n",
       "25%       0.070000             7.000000             22.000000     0.995600   \n",
       "50%       0.079000            14.000000             38.000000     0.996750   \n",
       "75%       0.090000            21.000000             62.000000     0.997835   \n",
       "max       0.611000            72.000000            289.000000     1.003690   \n",
       "\n",
       "                pH    sulphates      alcohol      quality  \n",
       "count  1599.000000  1599.000000  1599.000000  1599.000000  \n",
       "mean      3.311113     0.658149    10.422983     5.636023  \n",
       "std       0.154386     0.169507     1.065668     0.807569  \n",
       "min       2.740000     0.330000     8.400000     3.000000  \n",
       "25%       3.210000     0.550000     9.500000     5.000000  \n",
       "50%       3.310000     0.620000    10.200000     6.000000  \n",
       "75%       3.400000     0.730000    11.100000     6.000000  \n",
       "max       4.010000     2.000000    14.900000     8.000000  "
      ]
     },
     "execution_count": 77,
     "metadata": {},
     "output_type": "execute_result"
    }
   ],
   "source": [
    "data.describe()"
   ]
  },
  {
   "cell_type": "code",
   "execution_count": 78,
   "id": "humanitarian-footwear",
   "metadata": {},
   "outputs": [
    {
     "data": {
      "text/plain": [
       "Index(['fixed acidity', 'volatile acidity', 'citric acid', 'residual sugar',\n",
       "       'chlorides', 'free sulfur dioxide', 'total sulfur dioxide', 'density',\n",
       "       'pH', 'sulphates', 'alcohol', 'quality'],\n",
       "      dtype='object')"
      ]
     },
     "execution_count": 78,
     "metadata": {},
     "output_type": "execute_result"
    }
   ],
   "source": [
    "data.columns"
   ]
  },
  {
   "cell_type": "code",
   "execution_count": 79,
   "id": "driven-lingerie",
   "metadata": {},
   "outputs": [
    {
     "data": {
      "text/plain": [
       "(1599, 12)"
      ]
     },
     "execution_count": 79,
     "metadata": {},
     "output_type": "execute_result"
    }
   ],
   "source": [
    "data.shape"
   ]
  },
  {
   "cell_type": "code",
   "execution_count": 82,
   "id": "excellent-bargain",
   "metadata": {},
   "outputs": [
    {
     "data": {
      "text/plain": [
       "fixed acidity           float64\n",
       "volatile acidity        float64\n",
       "citric acid             float64\n",
       "residual sugar          float64\n",
       "chlorides               float64\n",
       "free sulfur dioxide     float64\n",
       "total sulfur dioxide    float64\n",
       "density                 float64\n",
       "pH                      float64\n",
       "sulphates               float64\n",
       "alcohol                 float64\n",
       "quality                   int64\n",
       "dtype: object"
      ]
     },
     "execution_count": 82,
     "metadata": {},
     "output_type": "execute_result"
    }
   ],
   "source": [
    "data.dtypes"
   ]
  },
  {
   "cell_type": "code",
   "execution_count": 83,
   "id": "alone-highlight",
   "metadata": {},
   "outputs": [
    {
     "name": "stdout",
     "output_type": "stream",
     "text": [
      "<class 'pandas.core.frame.DataFrame'>\n",
      "RangeIndex: 1599 entries, 0 to 1598\n",
      "Data columns (total 12 columns):\n",
      " #   Column                Non-Null Count  Dtype  \n",
      "---  ------                --------------  -----  \n",
      " 0   fixed acidity         1599 non-null   float64\n",
      " 1   volatile acidity      1599 non-null   float64\n",
      " 2   citric acid           1599 non-null   float64\n",
      " 3   residual sugar        1599 non-null   float64\n",
      " 4   chlorides             1599 non-null   float64\n",
      " 5   free sulfur dioxide   1599 non-null   float64\n",
      " 6   total sulfur dioxide  1599 non-null   float64\n",
      " 7   density               1599 non-null   float64\n",
      " 8   pH                    1599 non-null   float64\n",
      " 9   sulphates             1599 non-null   float64\n",
      " 10  alcohol               1599 non-null   float64\n",
      " 11  quality               1599 non-null   int64  \n",
      "dtypes: float64(11), int64(1)\n",
      "memory usage: 150.0 KB\n"
     ]
    }
   ],
   "source": [
    "data.info()"
   ]
  },
  {
   "cell_type": "code",
   "execution_count": 85,
   "id": "devoted-blocking",
   "metadata": {},
   "outputs": [
    {
     "data": {
      "text/plain": [
       "fixed acidity           0\n",
       "volatile acidity        0\n",
       "citric acid             0\n",
       "residual sugar          0\n",
       "chlorides               0\n",
       "free sulfur dioxide     0\n",
       "total sulfur dioxide    0\n",
       "density                 0\n",
       "pH                      0\n",
       "sulphates               0\n",
       "alcohol                 0\n",
       "quality                 0\n",
       "dtype: int64"
      ]
     },
     "execution_count": 85,
     "metadata": {},
     "output_type": "execute_result"
    }
   ],
   "source": [
    "data.isnull().sum()"
   ]
  },
  {
   "cell_type": "code",
   "execution_count": 102,
   "id": "premium-houston",
   "metadata": {},
   "outputs": [
    {
     "name": "stdout",
     "output_type": "stream",
     "text": [
      "Histogramas\n"
     ]
    },
    {
     "data": {
      "image/png": "[encoded data removed]",
      "text/plain": [
       "<Figure size 2880x2880 with 12 Axes>"
      ]
     },
     "metadata": {
      "needs_background": "light"
     },
     "output_type": "display_data"
    }
   ],
   "source": [
    "fig = data.hist(layout=(6,2), figsize=(40,40), legend=True, xlabelsize=20)\n",
    "[x.title.set_size(32) for x in fig.ravel()]\n",
    "print(\"Histogramas\")"
   ]
  },
  {
   "cell_type": "code",
   "execution_count": 120,
   "id": "integral-hudson",
   "metadata": {},
   "outputs": [
    {
     "data": {
      "text/plain": [
       "volatile acidity       -0.390558\n",
       "total sulfur dioxide   -0.185100\n",
       "density                -0.174919\n",
       "chlorides              -0.128907\n",
       "pH                     -0.057731\n",
       "free sulfur dioxide    -0.050656\n",
       "residual sugar          0.013732\n",
       "fixed acidity           0.124052\n",
       "citric acid             0.226373\n",
       "sulphates               0.251397\n",
       "alcohol                 0.476166\n",
       "quality                 1.000000\n",
       "Name: quality, dtype: float64"
      ]
     },
     "execution_count": 120,
     "metadata": {},
     "output_type": "execute_result"
    }
   ],
   "source": [
    "data.corr().sort_values(\"quality\")[\"quality\"]"
   ]
  },
  {
   "cell_type": "code",
   "execution_count": 139,
   "id": "foreign-capital",
   "metadata": {},
   "outputs": [
    {
     "data": {
      "text/plain": [
       "Index(['fixed acidity', 'volatile acidity', 'citric acid', 'residual sugar',\n",
       "       'chlorides', 'free sulfur dioxide', 'total sulfur dioxide', 'density',\n",
       "       'pH', 'sulphates', 'alcohol', 'quality'],\n",
       "      dtype='object')"
      ]
     },
     "execution_count": 139,
     "metadata": {},
     "output_type": "execute_result"
    }
   ],
   "source": [
    "data.columns"
   ]
  },
  {
   "cell_type": "code",
   "execution_count": 138,
   "id": "british-harbor",
   "metadata": {},
   "outputs": [
    {
     "data": {
      "image/png": "[encoded data removed]",
      "text/plain": [
       "<Figure size 432x288 with 1 Axes>"
      ]
     },
     "metadata": {
      "needs_background": "light"
     },
     "output_type": "display_data"
    },
    {
     "data": {
      "image/png": "[encoded data removed]",
      "text/plain": [
       "<Figure size 432x288 with 1 Axes>"
      ]
     },
     "metadata": {
      "needs_background": "light"
     },
     "output_type": "display_data"
    },
    {
     "data": {
      "image/png": "[encoded data removed]",
      "text/plain": [
       "<Figure size 432x288 with 1 Axes>"
      ]
     },
     "metadata": {
      "needs_background": "light"
     },
     "output_type": "display_data"
    },
    {
     "data": {
      "image/png": "[encoded data removed]",
      "text/plain": [
       "<Figure size 432x288 with 1 Axes>"
      ]
     },
     "metadata": {
      "needs_background": "light"
     },
     "output_type": "display_data"
    },
    {
     "data": {
      "image/png": "[encoded data removed]",
      "text/plain": [
       "<Figure size 432x288 with 1 Axes>"
      ]
     },
     "metadata": {
      "needs_background": "light"
     },
     "output_type": "display_data"
    },
    {
     "data": {
      "image/png": "[encoded data removed]",
      "text/plain": [
       "<Figure size 432x288 with 1 Axes>"
      ]
     },
     "metadata": {
      "needs_background": "light"
     },
     "output_type": "display_data"
    },
    {
     "data": {
      "image/png": "[encoded data removed]",
      "text/plain": [
       "<Figure size 432x288 with 1 Axes>"
      ]
     },
     "metadata": {
      "needs_background": "light"
     },
     "output_type": "display_data"
    },
    {
     "data": {
      "image/png": "[encoded data removed]",
      "text/plain": [
       "<Figure size 432x288 with 1 Axes>"
      ]
     },
     "metadata": {
      "needs_background": "light"
     },
     "output_type": "display_data"
    },
    {
     "data": {
      "image/png": "[encoded data removed]",
      "text/plain": [
       "<Figure size 432x288 with 1 Axes>"
      ]
     },
     "metadata": {
      "needs_background": "light"
     },
     "output_type": "display_data"
    },
    {
     "data": {
      "image/png": "[encoded data removed]",
      "text/plain": [
       "<Figure size 432x288 with 1 Axes>"
      ]
     },
     "metadata": {
      "needs_background": "light"
     },
     "output_type": "display_data"
    },
    {
     "data": {
      "image/png": "[encoded data removed]",
      "text/plain": [
       "<Figure size 432x288 with 1 Axes>"
      ]
     },
     "metadata": {
      "needs_background": "light"
     },
     "output_type": "display_data"
    },
    {
     "data": {
      "image/png": "[encoded data removed]",
      "text/plain": [
       "<Figure size 432x288 with 1 Axes>"
      ]
     },
     "metadata": {
      "needs_background": "light"
     },
     "output_type": "display_data"
    }
   ],
   "source": [
    "for col in data.columns:\n",
    "    data.plot.scatter(x =col, y = \"quality\")"
   ]
  },
  {
   "cell_type": "code",
   "execution_count": 153,
   "id": "express-hartford",
   "metadata": {},
   "outputs": [
    {
     "data": {
      "text/plain": [
       "(      density    pH\n",
       " 1113  0.99698  3.12\n",
       " 1033  0.99592  3.30\n",
       " 607   0.99820  3.31\n",
       " 957   0.99613  3.29\n",
       " 1488  0.99420  3.72,\n",
       "       quality\n",
       " 1113        6\n",
       " 1033        6\n",
       " 607         6\n",
       " 957         6\n",
       " 1488        5)"
      ]
     },
     "execution_count": 153,
     "metadata": {},
     "output_type": "execute_result"
    }
   ],
   "source": [
    "data_prefered = data[[\"density\", \"pH\", \"quality\"]]\n",
    "data_prefered.describe()\n",
    "\n",
    "x, y = data_prefered[[\"density\", \"pH\"]], data_prefered[[\"quality\"]]\n",
    "train_x, test_x, train_y, test_y = train_test_split(x, y, test_size=0.3)\n",
    "train_x.head(), train_y.head()"
   ]
  },
  {
   "cell_type": "code",
   "execution_count": 154,
   "id": "impossible-round",
   "metadata": {},
   "outputs": [
    {
     "data": {
      "text/html": [
       "<div>\n",
       "<style scoped>\n",
       "    .dataframe tbody tr th:only-of-type {\n",
       "        vertical-align: middle;\n",
       "    }\n",
       "\n",
       "    .dataframe tbody tr th {\n",
       "        vertical-align: top;\n",
       "    }\n",
       "\n",
       "    .dataframe thead th {\n",
       "        text-align: right;\n",
       "    }\n",
       "</style>\n",
       "<table border=\"1\" class=\"dataframe\">\n",
       "  <thead>\n",
       "    <tr style=\"text-align: right;\">\n",
       "      <th></th>\n",
       "      <th>1</th>\n",
       "      <th>x0</th>\n",
       "      <th>x1</th>\n",
       "      <th>x0^2</th>\n",
       "      <th>x0 x1</th>\n",
       "      <th>x1^2</th>\n",
       "    </tr>\n",
       "  </thead>\n",
       "  <tbody>\n",
       "    <tr>\n",
       "      <th>0</th>\n",
       "      <td>1.0</td>\n",
       "      <td>0.99698</td>\n",
       "      <td>3.12</td>\n",
       "      <td>0.993969</td>\n",
       "      <td>3.110578</td>\n",
       "      <td>9.7344</td>\n",
       "    </tr>\n",
       "    <tr>\n",
       "      <th>1</th>\n",
       "      <td>1.0</td>\n",
       "      <td>0.99592</td>\n",
       "      <td>3.30</td>\n",
       "      <td>0.991857</td>\n",
       "      <td>3.286536</td>\n",
       "      <td>10.8900</td>\n",
       "    </tr>\n",
       "    <tr>\n",
       "      <th>2</th>\n",
       "      <td>1.0</td>\n",
       "      <td>0.99820</td>\n",
       "      <td>3.31</td>\n",
       "      <td>0.996403</td>\n",
       "      <td>3.304042</td>\n",
       "      <td>10.9561</td>\n",
       "    </tr>\n",
       "    <tr>\n",
       "      <th>3</th>\n",
       "      <td>1.0</td>\n",
       "      <td>0.99613</td>\n",
       "      <td>3.29</td>\n",
       "      <td>0.992275</td>\n",
       "      <td>3.277268</td>\n",
       "      <td>10.8241</td>\n",
       "    </tr>\n",
       "    <tr>\n",
       "      <th>4</th>\n",
       "      <td>1.0</td>\n",
       "      <td>0.99420</td>\n",
       "      <td>3.72</td>\n",
       "      <td>0.988434</td>\n",
       "      <td>3.698424</td>\n",
       "      <td>13.8384</td>\n",
       "    </tr>\n",
       "    <tr>\n",
       "      <th>...</th>\n",
       "      <td>...</td>\n",
       "      <td>...</td>\n",
       "      <td>...</td>\n",
       "      <td>...</td>\n",
       "      <td>...</td>\n",
       "      <td>...</td>\n",
       "    </tr>\n",
       "    <tr>\n",
       "      <th>1114</th>\n",
       "      <td>1.0</td>\n",
       "      <td>0.99738</td>\n",
       "      <td>3.14</td>\n",
       "      <td>0.994767</td>\n",
       "      <td>3.131773</td>\n",
       "      <td>9.8596</td>\n",
       "    </tr>\n",
       "    <tr>\n",
       "      <th>1115</th>\n",
       "      <td>1.0</td>\n",
       "      <td>0.99700</td>\n",
       "      <td>3.18</td>\n",
       "      <td>0.994009</td>\n",
       "      <td>3.170460</td>\n",
       "      <td>10.1124</td>\n",
       "    </tr>\n",
       "    <tr>\n",
       "      <th>1116</th>\n",
       "      <td>1.0</td>\n",
       "      <td>0.99440</td>\n",
       "      <td>3.54</td>\n",
       "      <td>0.988831</td>\n",
       "      <td>3.520176</td>\n",
       "      <td>12.5316</td>\n",
       "    </tr>\n",
       "    <tr>\n",
       "      <th>1117</th>\n",
       "      <td>1.0</td>\n",
       "      <td>0.99655</td>\n",
       "      <td>3.49</td>\n",
       "      <td>0.993112</td>\n",
       "      <td>3.477960</td>\n",
       "      <td>12.1801</td>\n",
       "    </tr>\n",
       "    <tr>\n",
       "      <th>1118</th>\n",
       "      <td>1.0</td>\n",
       "      <td>0.99658</td>\n",
       "      <td>3.30</td>\n",
       "      <td>0.993172</td>\n",
       "      <td>3.288714</td>\n",
       "      <td>10.8900</td>\n",
       "    </tr>\n",
       "  </tbody>\n",
       "</table>\n",
       "<p>1119 rows × 6 columns</p>\n",
       "</div>"
      ],
      "text/plain": [
       "        1       x0    x1      x0^2     x0 x1     x1^2\n",
       "0     1.0  0.99698  3.12  0.993969  3.110578   9.7344\n",
       "1     1.0  0.99592  3.30  0.991857  3.286536  10.8900\n",
       "2     1.0  0.99820  3.31  0.996403  3.304042  10.9561\n",
       "3     1.0  0.99613  3.29  0.992275  3.277268  10.8241\n",
       "4     1.0  0.99420  3.72  0.988434  3.698424  13.8384\n",
       "...   ...      ...   ...       ...       ...      ...\n",
       "1114  1.0  0.99738  3.14  0.994767  3.131773   9.8596\n",
       "1115  1.0  0.99700  3.18  0.994009  3.170460  10.1124\n",
       "1116  1.0  0.99440  3.54  0.988831  3.520176  12.5316\n",
       "1117  1.0  0.99655  3.49  0.993112  3.477960  12.1801\n",
       "1118  1.0  0.99658  3.30  0.993172  3.288714  10.8900\n",
       "\n",
       "[1119 rows x 6 columns]"
      ]
     },
     "execution_count": 154,
     "metadata": {},
     "output_type": "execute_result"
    }
   ],
   "source": [
    "from sklearn.preprocessing import PolynomialFeatures\n",
    "poly = PolynomialFeatures(2)\n",
    "transformed = poly.fit_transform(train_x)\n",
    "features = poly.get_feature_names()\n",
    "train_x = pd.DataFrame(transformed, columns=features)\n",
    "train_x"
   ]
  },
  {
   "cell_type": "code",
   "execution_count": null,
   "id": "compliant-transaction",
   "metadata": {},
   "outputs": [],
   "source": []
  },
  {
   "cell_type": "code",
   "execution_count": 155,
   "id": "simplified-batman",
   "metadata": {},
   "outputs": [
    {
     "data": {
      "text/html": [
       "<div>\n",
       "<style scoped>\n",
       "    .dataframe tbody tr th:only-of-type {\n",
       "        vertical-align: middle;\n",
       "    }\n",
       "\n",
       "    .dataframe tbody tr th {\n",
       "        vertical-align: top;\n",
       "    }\n",
       "\n",
       "    .dataframe thead th {\n",
       "        text-align: right;\n",
       "    }\n",
       "</style>\n",
       "<table border=\"1\" class=\"dataframe\">\n",
       "  <thead>\n",
       "    <tr style=\"text-align: right;\">\n",
       "      <th></th>\n",
       "      <th>1</th>\n",
       "      <th>x0</th>\n",
       "      <th>x1</th>\n",
       "      <th>x0^2</th>\n",
       "      <th>x0 x1</th>\n",
       "      <th>x1^2</th>\n",
       "    </tr>\n",
       "  </thead>\n",
       "  <tbody>\n",
       "    <tr>\n",
       "      <th>0</th>\n",
       "      <td>1.0</td>\n",
       "      <td>0.99538</td>\n",
       "      <td>3.51</td>\n",
       "      <td>0.990781</td>\n",
       "      <td>3.493784</td>\n",
       "      <td>12.3201</td>\n",
       "    </tr>\n",
       "    <tr>\n",
       "      <th>1</th>\n",
       "      <td>1.0</td>\n",
       "      <td>0.99720</td>\n",
       "      <td>3.47</td>\n",
       "      <td>0.994408</td>\n",
       "      <td>3.460284</td>\n",
       "      <td>12.0409</td>\n",
       "    </tr>\n",
       "    <tr>\n",
       "      <th>2</th>\n",
       "      <td>1.0</td>\n",
       "      <td>0.99700</td>\n",
       "      <td>3.37</td>\n",
       "      <td>0.994009</td>\n",
       "      <td>3.359890</td>\n",
       "      <td>11.3569</td>\n",
       "    </tr>\n",
       "    <tr>\n",
       "      <th>3</th>\n",
       "      <td>1.0</td>\n",
       "      <td>0.99870</td>\n",
       "      <td>2.88</td>\n",
       "      <td>0.997402</td>\n",
       "      <td>2.876256</td>\n",
       "      <td>8.2944</td>\n",
       "    </tr>\n",
       "    <tr>\n",
       "      <th>4</th>\n",
       "      <td>1.0</td>\n",
       "      <td>0.99669</td>\n",
       "      <td>3.32</td>\n",
       "      <td>0.993391</td>\n",
       "      <td>3.309011</td>\n",
       "      <td>11.0224</td>\n",
       "    </tr>\n",
       "    <tr>\n",
       "      <th>...</th>\n",
       "      <td>...</td>\n",
       "      <td>...</td>\n",
       "      <td>...</td>\n",
       "      <td>...</td>\n",
       "      <td>...</td>\n",
       "      <td>...</td>\n",
       "    </tr>\n",
       "    <tr>\n",
       "      <th>475</th>\n",
       "      <td>1.0</td>\n",
       "      <td>0.99636</td>\n",
       "      <td>3.35</td>\n",
       "      <td>0.992733</td>\n",
       "      <td>3.337806</td>\n",
       "      <td>11.2225</td>\n",
       "    </tr>\n",
       "    <tr>\n",
       "      <th>476</th>\n",
       "      <td>1.0</td>\n",
       "      <td>0.99640</td>\n",
       "      <td>3.38</td>\n",
       "      <td>0.992813</td>\n",
       "      <td>3.367832</td>\n",
       "      <td>11.4244</td>\n",
       "    </tr>\n",
       "    <tr>\n",
       "      <th>477</th>\n",
       "      <td>1.0</td>\n",
       "      <td>0.99768</td>\n",
       "      <td>3.52</td>\n",
       "      <td>0.995365</td>\n",
       "      <td>3.511834</td>\n",
       "      <td>12.3904</td>\n",
       "    </tr>\n",
       "    <tr>\n",
       "      <th>478</th>\n",
       "      <td>1.0</td>\n",
       "      <td>1.00100</td>\n",
       "      <td>3.43</td>\n",
       "      <td>1.002001</td>\n",
       "      <td>3.433430</td>\n",
       "      <td>11.7649</td>\n",
       "    </tr>\n",
       "    <tr>\n",
       "      <th>479</th>\n",
       "      <td>1.0</td>\n",
       "      <td>0.99484</td>\n",
       "      <td>3.19</td>\n",
       "      <td>0.989707</td>\n",
       "      <td>3.173540</td>\n",
       "      <td>10.1761</td>\n",
       "    </tr>\n",
       "  </tbody>\n",
       "</table>\n",
       "<p>480 rows × 6 columns</p>\n",
       "</div>"
      ],
      "text/plain": [
       "       1       x0    x1      x0^2     x0 x1     x1^2\n",
       "0    1.0  0.99538  3.51  0.990781  3.493784  12.3201\n",
       "1    1.0  0.99720  3.47  0.994408  3.460284  12.0409\n",
       "2    1.0  0.99700  3.37  0.994009  3.359890  11.3569\n",
       "3    1.0  0.99870  2.88  0.997402  2.876256   8.2944\n",
       "4    1.0  0.99669  3.32  0.993391  3.309011  11.0224\n",
       "..   ...      ...   ...       ...       ...      ...\n",
       "475  1.0  0.99636  3.35  0.992733  3.337806  11.2225\n",
       "476  1.0  0.99640  3.38  0.992813  3.367832  11.4244\n",
       "477  1.0  0.99768  3.52  0.995365  3.511834  12.3904\n",
       "478  1.0  1.00100  3.43  1.002001  3.433430  11.7649\n",
       "479  1.0  0.99484  3.19  0.989707  3.173540  10.1761\n",
       "\n",
       "[480 rows x 6 columns]"
      ]
     },
     "execution_count": 155,
     "metadata": {},
     "output_type": "execute_result"
    }
   ],
   "source": [
    "transformed = poly.fit_transform(test_x)\n",
    "features = poly.get_feature_names()\n",
    "test_x = pd.DataFrame(transformed, columns=features)\n",
    "test_x"
   ]
  },
  {
   "cell_type": "code",
   "execution_count": 177,
   "id": "external-devices",
   "metadata": {},
   "outputs": [],
   "source": [
    "def compute_prediction(X, params):\n",
    "    ## add a column of one's to add the bias (b) in the same vectorize operation\n",
    "    with tf.name_scope(\"Model\"):\n",
    "        model = tf.linalg.matmul(X, params, name=\"Predict\")\n",
    "    return model\n",
    "\n",
    "def compute_mse(y, y_hat):\n",
    "    with tf.name_scope(\"Cost\"):\n",
    "        diff = tf.math.square(tf.math.subtract(y, y_hat))\n",
    "        mse = 0.5 * tf.reduce_mean(diff, name=\"MSE\")\n",
    "        mse_summary = tf.summary.scalar(name=\"MSE_Summary\", tensor=mse)\n",
    "    return mse, mse_summary\n",
    "\n",
    "def build_linear_model_graph(tensor_x, tensor_y, params, lr=0.001):\n",
    "    prediction = compute_prediction(tensor_x, params)\n",
    "    mse, mse_summary = compute_mse(tensor_y, prediction)\n",
    "    with tf.name_scope(\"GradieDescent\"):\n",
    "        gradient = tf.gradients(mse, [params], name=\"Gradient\")\n",
    "        update_params = tf.assign(params, params - lr * gradient[0], name=\"UpdateParams\")\n",
    "    return prediction, update_params, params, mse, mse_summary\n",
    "\n",
    "def fit(X, Y, batch_size, epochs=100, lr=0.001, print_n=10, logs_path='./logs/graph_'):\n",
    "    tf.reset_default_graph()\n",
    "    X = np.array(X).reshape(-1,6)\n",
    "    Y = np.array(Y).reshape(-1,1)\n",
    "    params = tf.get_variable(\"Params\", dtype=tf.float32, shape=[6, 1],initializer=tf.zeros_initializer())\n",
    "    tensor_x = tf.placeholder(tf.float32, [None,6], name=\"X\")\n",
    "    tensor_y = tf.placeholder(tf.float32, [None,1], name=\"Y\")\n",
    "    get_prediction, update_params, params, mse, mse_summary = build_linear_model_graph(tensor_x, tensor_y, params, lr)\n",
    "    n = X.shape[0] // batch_size\n",
    "    final_tetha = None\n",
    "    path = f\"{logs_path}_lr_{lr}_pol2_batch_size_{batch_size}{datetime.today().strftime('%Y%m%d-%H%M%S')}\"\n",
    "    with tf.train.MonitoredSession() as session:\n",
    "        with tf.summary.FileWriter(path, session.graph) as train_writer:\n",
    "            for epoch in range(epochs): \n",
    "                for i in range(n):\n",
    "                    start, end = i * batch_size, (i+1) * batch_size\n",
    "                    x_mbatch = np.array(X[start:end,:]).reshape(-1,6)\n",
    "                    y_mbatch = np.array(Y[start:end]).reshape(-1,1)\n",
    "                    feed_dict = { tensor_x: x_mbatch, tensor_y: y_mbatch}\n",
    "                    _, theta = session.run([update_params, params], feed_dict=feed_dict)\n",
    "                if (epoch + 1) % print_n == 0:\n",
    "                    feed_dict = { tensor_x: np.array(X).reshape(-1,6), tensor_y: np.array(Y).reshape(-1,1) }\n",
    "                    e_summary, error =  session.run([mse_summary, mse], feed_dict = feed_dict)\n",
    "                    train_writer.add_summary(e_summary, epoch)\n",
    "            final_theta = session.run(params, feed_dict=feed_dict)\n",
    "    def predict(x): \n",
    "        return compute_prediction(x, params)\n",
    "    return final_theta, predict"
   ]
  },
  {
   "cell_type": "code",
   "execution_count": 178,
   "id": "visible-retail",
   "metadata": {},
   "outputs": [
    {
     "data": {
      "text/plain": [
       "Reusing TensorBoard on port 6006 (pid 38140), started 0:02:51 ago. (Use '!kill 38140' to kill it.)"
      ]
     },
     "metadata": {},
     "output_type": "display_data"
    },
    {
     "data": {
      "text/html": [
       "\n",
       "      <iframe id=\"tensorboard-frame-bb8e0b1ba73b377f\" width=\"100%\" height=\"800\" frameborder=\"0\">\n",
       "      </iframe>\n",
       "      <script>\n",
       "        (function() {\n",
       "          const frame = document.getElementById(\"tensorboard-frame-bb8e0b1ba73b377f\");\n",
       "          const url = new URL(\"/\", window.location);\n",
       "          const port = 6006;\n",
       "          if (port) {\n",
       "            url.port = port;\n",
       "          }\n",
       "          frame.src = url;\n",
       "        })();\n",
       "      </script>\n",
       "    "
      ],
      "text/plain": [
       "<IPython.core.display.HTML object>"
      ]
     },
     "metadata": {},
     "output_type": "display_data"
    },
    {
     "name": "stdout",
     "output_type": "stream",
     "text": [
      "INFO:tensorflow:Graph was finalized.\n",
      "INFO:tensorflow:Running local_init_op.\n",
      "INFO:tensorflow:Done running local_init_op.\n",
      "[[5.488731 ]\n",
      " [5.511383 ]\n",
      " [5.535385 ]\n",
      " [5.5618205]\n",
      " [5.5434904]\n",
      " [5.5662136]\n",
      " [5.5453053]\n",
      " [5.514815 ]\n",
      " [5.5421677]\n",
      " [5.554797 ]\n",
      " [5.529172 ]\n",
      " [5.5525618]\n",
      " [5.56898  ]\n",
      " [5.5074763]\n",
      " [5.5546227]\n",
      " [5.5018907]\n",
      " [5.5502462]\n",
      " [5.5352445]\n",
      " [5.582901 ]\n",
      " [5.543756 ]\n",
      " [5.296497 ]\n",
      " [5.324645 ]\n",
      " [5.546803 ]\n",
      " [5.499812 ]\n",
      " [5.5119267]\n",
      " [5.384088 ]\n",
      " [5.54447  ]\n",
      " [5.4623904]\n",
      " [5.5579863]\n",
      " [5.5294356]\n",
      " [5.562682 ]\n",
      " [5.5083895]\n",
      " [5.5780344]\n",
      " [5.585718 ]\n",
      " [5.3834906]\n",
      " [5.508468 ]\n",
      " [5.58555  ]\n",
      " [5.4897847]\n",
      " [5.55324  ]\n",
      " [5.4580855]\n",
      " [5.5522833]\n",
      " [5.5544853]\n",
      " [5.504836 ]\n",
      " [5.582696 ]\n",
      " [5.5717134]\n",
      " [5.570121 ]\n",
      " [5.528728 ]\n",
      " [5.5490565]\n",
      " [5.524271 ]\n",
      " [5.5259547]\n",
      " [5.5723276]\n",
      " [5.513393 ]\n",
      " [5.517776 ]\n",
      " [5.5240545]\n",
      " [5.570183 ]\n",
      " [5.540554 ]\n",
      " [5.521647 ]\n",
      " [5.5205383]\n",
      " [5.5575647]\n",
      " [5.537796 ]\n",
      " [5.5283647]\n",
      " [5.590047 ]\n",
      " [5.5588017]\n",
      " [5.5453053]\n",
      " [5.5524507]\n",
      " [5.563361 ]\n",
      " [5.45035  ]\n",
      " [5.5597515]\n",
      " [5.4734836]\n",
      " [5.511446 ]\n",
      " [5.572608 ]\n",
      " [5.552201 ]\n",
      " [5.5516634]\n",
      " [5.563902 ]\n",
      " [5.511809 ]\n",
      " [5.5649185]\n",
      " [5.5319424]\n",
      " [5.5448804]\n",
      " [5.5520687]\n",
      " [5.537838 ]\n",
      " [5.5294356]\n",
      " [5.5511293]\n",
      " [5.547581 ]\n",
      " [5.5547333]\n",
      " [5.5569   ]\n",
      " [5.553627 ]\n",
      " [5.5528936]\n",
      " [5.5298247]\n",
      " [5.580779 ]\n",
      " [5.5917892]\n",
      " [5.4887595]\n",
      " [5.55748  ]\n",
      " [5.552003 ]\n",
      " [5.5481615]\n",
      " [5.5520163]\n",
      " [5.575264 ]\n",
      " [5.504836 ]\n",
      " [5.523291 ]\n",
      " [5.542919 ]\n",
      " [5.565543 ]\n",
      " [5.524418 ]\n",
      " [5.56172  ]\n",
      " [5.4901233]\n",
      " [5.581279 ]\n",
      " [5.5833044]\n",
      " [5.547533 ]\n",
      " [5.565901 ]\n",
      " [5.452427 ]\n",
      " [5.5633593]\n",
      " [5.5455785]\n",
      " [5.5209274]\n",
      " [5.5453053]\n",
      " [5.564579 ]\n",
      " [5.50025  ]\n",
      " [5.551625 ]\n",
      " [5.538315 ]\n",
      " [5.55956  ]\n",
      " [5.570316 ]\n",
      " [5.5595875]\n",
      " [5.522581 ]\n",
      " [5.570121 ]\n",
      " [5.5264025]\n",
      " [5.535465 ]\n",
      " [5.561075 ]\n",
      " [5.5717525]\n",
      " [5.4549327]\n",
      " [5.5210724]\n",
      " [5.494139 ]\n",
      " [5.5256696]\n",
      " [5.5283647]\n",
      " [5.5254335]\n",
      " [5.579111 ]\n",
      " [5.560298 ]\n",
      " [5.532143 ]\n",
      " [5.553671 ]\n",
      " [5.4906955]\n",
      " [5.5515156]\n",
      " [5.5499763]\n",
      " [5.526542 ]\n",
      " [5.5005107]\n",
      " [5.561783 ]\n",
      " [5.5456867]\n",
      " [5.4976134]\n",
      " [5.472629 ]\n",
      " [5.553111 ]\n",
      " [5.5661087]\n",
      " [5.5785093]\n",
      " [5.510232 ]\n",
      " [5.5326777]\n",
      " [5.532351 ]\n",
      " [5.5506964]\n",
      " [5.4762454]\n",
      " [5.5425053]\n",
      " [5.5297265]\n",
      " [5.48167  ]\n",
      " [5.557852 ]\n",
      " [5.565876 ]\n",
      " [5.4851155]\n",
      " [5.572873 ]\n",
      " [5.513995 ]\n",
      " [5.541786 ]\n",
      " [5.5532227]\n",
      " [5.5604763]\n",
      " [5.4465103]\n",
      " [5.5377264]\n",
      " [5.5347676]\n",
      " [5.544444 ]\n",
      " [5.563677 ]\n",
      " [5.5556717]\n",
      " [5.563033 ]\n",
      " [5.5478907]\n",
      " [5.556836 ]\n",
      " [5.574522 ]\n",
      " [5.538138 ]\n",
      " [5.5841045]\n",
      " [5.52578  ]\n",
      " [5.5700006]\n",
      " [5.526771 ]\n",
      " [5.547128 ]\n",
      " [5.5235596]\n",
      " [5.5542   ]\n",
      " [5.565818 ]\n",
      " [5.4731565]\n",
      " [5.575072 ]\n",
      " [5.5122137]\n",
      " [5.521647 ]\n",
      " [5.518464 ]\n",
      " [5.555985 ]\n",
      " [5.547804 ]\n",
      " [5.504922 ]\n",
      " [5.571404 ]\n",
      " [5.530648 ]\n",
      " [5.5637045]\n",
      " [5.579706 ]\n",
      " [5.5520105]\n",
      " [5.444231 ]\n",
      " [5.5347443]\n",
      " [5.55457  ]\n",
      " [5.5435467]\n",
      " [5.548091 ]\n",
      " [5.546188 ]\n",
      " [5.5235596]\n",
      " [5.5049753]\n",
      " [5.561776 ]\n",
      " [5.5307097]\n",
      " [5.520609 ]\n",
      " [5.5312963]\n",
      " [5.5116596]\n",
      " [5.567123 ]\n",
      " [5.560362 ]\n",
      " [5.594776 ]\n",
      " [5.556932 ]\n",
      " [5.5275364]\n",
      " [5.490006 ]\n",
      " [5.547408 ]\n",
      " [5.5612974]\n",
      " [5.5746675]\n",
      " [5.5616164]\n",
      " [5.5651503]\n",
      " [5.5499763]\n",
      " [5.5561724]\n",
      " [5.5031695]\n",
      " [5.544386 ]\n",
      " [5.5287595]\n",
      " [5.5485835]\n",
      " [5.5668783]\n",
      " [5.5616164]\n",
      " [5.5691156]\n",
      " [5.566229 ]\n",
      " [5.5348206]\n",
      " [5.546005 ]\n",
      " [5.5366745]\n",
      " [5.532068 ]\n",
      " [5.5642996]\n",
      " [5.5723343]\n",
      " [5.503804 ]\n",
      " [5.5435467]\n",
      " [5.5783234]\n",
      " [5.5274754]\n",
      " [5.5765915]\n",
      " [5.5290728]\n",
      " [5.401179 ]\n",
      " [5.578027 ]\n",
      " [5.5221887]\n",
      " [5.5221057]\n",
      " [5.515841 ]\n",
      " [5.5451984]\n",
      " [5.4098506]\n",
      " [5.5757556]\n",
      " [5.5456734]\n",
      " [5.530074 ]\n",
      " [5.521647 ]\n",
      " [5.5223923]\n",
      " [5.5422783]\n",
      " [5.555637 ]\n",
      " [5.560789 ]\n",
      " [5.530568 ]\n",
      " [5.5701494]\n",
      " [5.574522 ]\n",
      " [5.5375   ]\n",
      " [5.5092287]\n",
      " [5.582576 ]\n",
      " [5.566787 ]\n",
      " [5.5193696]\n",
      " [5.569359 ]\n",
      " [5.555629 ]\n",
      " [5.548176 ]\n",
      " [5.5283647]\n",
      " [5.5254335]\n",
      " [5.544371 ]\n",
      " [5.564267 ]\n",
      " [5.4844747]\n",
      " [5.57148  ]\n",
      " [5.5304136]\n",
      " [5.551031 ]\n",
      " [5.502767 ]\n",
      " [5.5294104]\n",
      " [5.5704145]\n",
      " [5.5180387]\n",
      " [5.439382 ]\n",
      " [5.552022 ]\n",
      " [5.5431952]\n",
      " [5.461097 ]\n",
      " [5.5436325]\n",
      " [5.556511 ]\n",
      " [5.5164223]\n",
      " [5.4007134]\n",
      " [5.5620117]\n",
      " [5.5375915]\n",
      " [5.4879775]\n",
      " [5.5698576]\n",
      " [5.5339737]\n",
      " [5.5478945]\n",
      " [5.5451055]\n",
      " [5.550577 ]\n",
      " [5.5439663]\n",
      " [5.560362 ]\n",
      " [5.555262 ]\n",
      " [5.5749445]\n",
      " [5.563491 ]\n",
      " [5.5476413]\n",
      " [5.566964 ]\n",
      " [5.5807447]\n",
      " [5.4847665]\n",
      " [5.288421 ]\n",
      " [5.5344863]\n",
      " [5.5159903]\n",
      " [5.490849 ]\n",
      " [5.5448904]\n",
      " [5.57148  ]\n",
      " [5.560362 ]\n",
      " [5.522792 ]\n",
      " [5.5630646]\n",
      " [5.4866543]\n",
      " [5.5146127]\n",
      " [5.542259 ]\n",
      " [5.5659266]\n",
      " [5.5654984]\n",
      " [5.5529633]\n",
      " [5.5180387]\n",
      " [5.5903826]\n",
      " [5.5456867]\n",
      " [5.5771046]\n",
      " [5.5562267]\n",
      " [5.511774 ]\n",
      " [5.220246 ]\n",
      " [5.5626383]\n",
      " [5.50991  ]\n",
      " [5.5419474]\n",
      " [5.588876 ]\n",
      " [5.523291 ]\n",
      " [5.519459 ]\n",
      " [5.5723343]\n",
      " [5.5712833]\n",
      " [5.5584707]\n",
      " [5.5728893]\n",
      " [5.55579  ]\n",
      " [5.5628667]\n",
      " [5.566866 ]\n",
      " [5.531904 ]\n",
      " [5.48791  ]\n",
      " [5.5861454]\n",
      " [5.549377 ]\n",
      " [5.5728607]\n",
      " [5.5608196]\n",
      " [5.5761423]\n",
      " [5.522376 ]\n",
      " [5.5681133]\n",
      " [5.4508133]\n",
      " [5.593875 ]\n",
      " [5.5720425]\n",
      " [5.537576 ]\n",
      " [5.5588017]\n",
      " [5.523567 ]\n",
      " [5.518609 ]\n",
      " [5.5565658]\n",
      " [5.551161 ]\n",
      " [5.5572357]\n",
      " [5.569331 ]\n",
      " [5.5685024]\n",
      " [5.541603 ]\n",
      " [5.5550356]\n",
      " [5.527407 ]\n",
      " [5.4840226]\n",
      " [5.5690575]\n",
      " [5.57629  ]\n",
      " [5.5561724]\n",
      " [5.5566874]\n",
      " [5.4688053]\n",
      " [5.5581427]\n",
      " [5.572491 ]\n",
      " [5.538628 ]\n",
      " [5.5726423]\n",
      " [5.542987 ]\n",
      " [5.555985 ]\n",
      " [5.5577865]\n",
      " [5.524515 ]\n",
      " [5.5437994]\n",
      " [5.5841045]\n",
      " [5.560519 ]\n",
      " [5.5785694]\n",
      " [5.5597157]\n",
      " [5.567116 ]\n",
      " [5.5441895]\n",
      " [5.5504127]\n",
      " [5.5525093]\n",
      " [5.568513 ]\n",
      " [5.5165358]\n",
      " [5.5710564]\n",
      " [5.528598 ]\n",
      " [5.565543 ]\n",
      " [5.582485 ]\n",
      " [5.541403 ]\n",
      " [5.4888635]\n",
      " [5.463549 ]\n",
      " [5.5305834]\n",
      " [5.5642357]\n",
      " [5.556836 ]\n",
      " [5.5825386]\n",
      " [5.461228 ]\n",
      " [5.563903 ]\n",
      " [5.590047 ]\n",
      " [5.561637 ]\n",
      " [5.5241203]\n",
      " [5.537965 ]\n",
      " [5.5491133]\n",
      " [5.548538 ]\n",
      " [5.529042 ]\n",
      " [5.563838 ]\n",
      " [5.561392 ]\n",
      " [5.5530424]\n",
      " [5.5254383]\n",
      " [5.53489  ]\n",
      " [5.542826 ]\n",
      " [5.463706 ]\n",
      " [5.5514383]\n",
      " [5.5453396]\n",
      " [5.518922 ]\n",
      " [5.512262 ]\n",
      " [5.542469 ]\n",
      " [5.5596876]\n",
      " [5.5501966]\n",
      " [5.542464 ]\n",
      " [5.3815813]\n",
      " [5.5597157]\n",
      " [5.5049753]\n",
      " [5.5254335]\n",
      " [5.5615816]\n",
      " [5.564909 ]\n",
      " [5.5281725]\n",
      " [5.549914 ]\n",
      " [5.511383 ]\n",
      " [5.4840226]\n",
      " [5.513084 ]\n",
      " [5.521257 ]\n",
      " [5.5534887]\n",
      " [5.566434 ]\n",
      " [5.5670233]\n",
      " [5.5362277]\n",
      " [5.569908 ]\n",
      " [5.5196896]\n",
      " [5.5292883]\n",
      " [5.5339737]\n",
      " [5.561776 ]\n",
      " [5.5440445]\n",
      " [5.570675 ]\n",
      " [5.5092707]\n",
      " [5.5572357]\n",
      " [5.531684 ]\n",
      " [5.5428195]\n",
      " [5.53752  ]\n",
      " [5.5668783]\n",
      " [5.5009103]\n",
      " [5.5191746]\n",
      " [5.5193696]\n",
      " [5.5591536]\n",
      " [5.557852 ]\n",
      " [5.590186 ]\n",
      " [5.544386 ]\n",
      " [5.593581 ]\n",
      " [5.5435467]\n",
      " [5.553406 ]\n",
      " [5.5329046]\n",
      " [5.5735464]\n",
      " [5.51733  ]\n",
      " [5.5303693]\n",
      " [5.581129 ]\n",
      " [5.502767 ]\n",
      " [5.536709 ]\n",
      " [5.5528526]\n",
      " [5.5454793]\n",
      " [5.5453753]\n",
      " [5.498462 ]\n",
      " [5.5752153]\n",
      " [5.511383 ]\n",
      " [5.5359383]\n",
      " [5.5298038]\n",
      " [5.4988685]\n",
      " [5.5440407]\n",
      " [5.550479 ]]\n",
      "--------------------------------------------------\n",
      "(0.33266652, b'\\n\\x19\\n\\x12Cost_1/MSE_Summary\\x15DS\\xaa>')\n"
     ]
    }
   ],
   "source": [
    "%tensorboard --logdir logs_part2\n",
    "theta, predict = fit(train_x, train_y, batch_size=10, epochs=1000, lr=0.001, print_n=20)\n",
    "with tf.Session() as session:\n",
    "    predictions = compute_prediction(np.array(test_x).reshape(-1,6).astype('float32'),theta)                               \n",
    "    y_estimates, mse = session.run([predictions, compute_mse(np.array(test_y).reshape(-1,1).astype('float32'), predictions)])\n",
    "    print(50 * \"-\")\n",
    "    print(mse)"
   ]
  },
  {
   "cell_type": "code",
   "execution_count": null,
   "id": "interstate-miniature",
   "metadata": {},
   "outputs": [],
   "source": []
  }
 ],
 "metadata": {
  "kernelspec": {
   "display_name": "Python 3",
   "language": "python",
   "name": "python3"
  },
  "language_info": {
   "codemirror_mode": {
    "name": "ipython",
    "version": 3
   },
   "file_extension": ".py",
   "mimetype": "text/x-python",
   "name": "python",
   "nbconvert_exporter": "python",
   "pygments_lexer": "ipython3",
   "version": "3.8.5"
  }
 },
 "nbformat": 4,
 "nbformat_minor": 5
}
