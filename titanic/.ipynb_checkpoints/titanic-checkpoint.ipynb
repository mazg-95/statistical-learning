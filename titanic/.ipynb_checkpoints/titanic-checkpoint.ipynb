{
 "cells": [
  {
   "cell_type": "markdown",
   "id": "recent-celebration",
   "metadata": {},
   "source": [
    "# Titanic Project\n",
    "\n",
    "#### Marco Zuñiga\n",
    "#### Statistical Learning I\n",
    "#### 2021-6-28"
   ]
  },
  {
   "cell_type": "code",
   "execution_count": 1876,
   "id": "published-statement",
   "metadata": {},
   "outputs": [],
   "source": [
    "import tensorflow as tf\n",
    "import datetime, os\n",
    "import numpy as np\n",
    "import pandas as pd\n",
    "from sklearn.model_selection import train_test_split, GridSearchCV, cross_val_score\n",
    "from sklearn.tree import DecisionTreeClassifier\n",
    "from sklearn.preprocessing import OneHotEncoder, normalize, scale\n",
    "from sklearn import svm\n",
    "%matplotlib inline\n",
    "import matplotlib.pyplot as plt\n",
    "from datetime import datetime\n",
    "import seaborn as sns\n",
    "from joblib import dump"
   ]
  },
  {
   "cell_type": "code",
   "execution_count": 1877,
   "id": "dressed-blend",
   "metadata": {},
   "outputs": [
    {
     "name": "stdout",
     "output_type": "stream",
     "text": [
      "Enabled compatitility to tf1.x\n"
     ]
    }
   ],
   "source": [
    "if tf.__version__.startswith(\"2.\"):\n",
    "  import tensorflow.compat.v1 as tf\n",
    "  tf.compat.v1.disable_v2_behavior()\n",
    "  tf.compat.v1.disable_eager_execution()\n",
    "  print(\"Enabled compatitility to tf1.x\")"
   ]
  },
  {
   "cell_type": "code",
   "execution_count": 1878,
   "id": "ultimate-holmes",
   "metadata": {},
   "outputs": [],
   "source": [
    "seed = 101\n",
    "\n",
    "np.random.seed(seed)\n",
    "os.environ['PYTHONHASHSEED'] = str(seed)\n",
    "tf.set_random_seed(seed)"
   ]
  },
  {
   "cell_type": "code",
   "execution_count": 1879,
   "id": "hundred-bench",
   "metadata": {},
   "outputs": [
    {
     "name": "stdout",
     "output_type": "stream",
     "text": [
      "The tensorboard extension is already loaded. To reload it, use:\n",
      "  %reload_ext tensorboard\n"
     ]
    }
   ],
   "source": [
    "# Load the TensorBoard notebook extension\n",
    "%load_ext tensorboard"
   ]
  },
  {
   "cell_type": "code",
   "execution_count": 1880,
   "id": "unsigned-object",
   "metadata": {},
   "outputs": [],
   "source": [
    "%config IPCompleter.greedy=True"
   ]
  },
  {
   "cell_type": "markdown",
   "id": "sharp-grenada",
   "metadata": {},
   "source": [
    "## EDA"
   ]
  },
  {
   "cell_type": "code",
   "execution_count": 1881,
   "id": "technical-spectrum",
   "metadata": {},
   "outputs": [],
   "source": [
    "df = pd.read_csv(\"./data_titanic_proyecto.csv\")"
   ]
  },
  {
   "cell_type": "code",
   "execution_count": 1882,
   "id": "nearby-blond",
   "metadata": {},
   "outputs": [
    {
     "data": {
      "text/plain": [
       "Index(['PassengerId', 'Name', 'Age', 'SibSp', 'Parch', 'Ticket', 'Fare',\n",
       "       'Cabin', 'Embarked', 'passenger_class', 'passenger_sex',\n",
       "       'passenger_survived'],\n",
       "      dtype='object')"
      ]
     },
     "execution_count": 1882,
     "metadata": {},
     "output_type": "execute_result"
    }
   ],
   "source": [
    "df.columns"
   ]
  },
  {
   "cell_type": "code",
   "execution_count": 1883,
   "id": "great-tonight",
   "metadata": {},
   "outputs": [
    {
     "data": {
      "text/html": [
       "<div>\n",
       "<style scoped>\n",
       "    .dataframe tbody tr th:only-of-type {\n",
       "        vertical-align: middle;\n",
       "    }\n",
       "\n",
       "    .dataframe tbody tr th {\n",
       "        vertical-align: top;\n",
       "    }\n",
       "\n",
       "    .dataframe thead th {\n",
       "        text-align: right;\n",
       "    }\n",
       "</style>\n",
       "<table border=\"1\" class=\"dataframe\">\n",
       "  <thead>\n",
       "    <tr style=\"text-align: right;\">\n",
       "      <th></th>\n",
       "      <th>PassengerId</th>\n",
       "      <th>Name</th>\n",
       "      <th>Age</th>\n",
       "      <th>SibSp</th>\n",
       "      <th>Parch</th>\n",
       "      <th>Ticket</th>\n",
       "      <th>Fare</th>\n",
       "      <th>Cabin</th>\n",
       "      <th>Embarked</th>\n",
       "      <th>passenger_class</th>\n",
       "      <th>passenger_sex</th>\n",
       "      <th>passenger_survived</th>\n",
       "    </tr>\n",
       "  </thead>\n",
       "  <tbody>\n",
       "    <tr>\n",
       "      <th>0</th>\n",
       "      <td>1</td>\n",
       "      <td>Braund, Mr. Owen Harris</td>\n",
       "      <td>22.0</td>\n",
       "      <td>1</td>\n",
       "      <td>0</td>\n",
       "      <td>A/5 21171</td>\n",
       "      <td>7.2500</td>\n",
       "      <td>NaN</td>\n",
       "      <td>S</td>\n",
       "      <td>Lower</td>\n",
       "      <td>M</td>\n",
       "      <td>N</td>\n",
       "    </tr>\n",
       "    <tr>\n",
       "      <th>1</th>\n",
       "      <td>2</td>\n",
       "      <td>Cumings, Mrs. John Bradley (Florence Briggs Th...</td>\n",
       "      <td>38.0</td>\n",
       "      <td>1</td>\n",
       "      <td>0</td>\n",
       "      <td>PC 17599</td>\n",
       "      <td>71.2833</td>\n",
       "      <td>C85</td>\n",
       "      <td>C</td>\n",
       "      <td>Upper</td>\n",
       "      <td>F</td>\n",
       "      <td>Y</td>\n",
       "    </tr>\n",
       "    <tr>\n",
       "      <th>2</th>\n",
       "      <td>3</td>\n",
       "      <td>Heikkinen, Miss. Laina</td>\n",
       "      <td>26.0</td>\n",
       "      <td>0</td>\n",
       "      <td>0</td>\n",
       "      <td>STON/O2. 3101282</td>\n",
       "      <td>7.9250</td>\n",
       "      <td>NaN</td>\n",
       "      <td>S</td>\n",
       "      <td>Lower</td>\n",
       "      <td>F</td>\n",
       "      <td>Y</td>\n",
       "    </tr>\n",
       "    <tr>\n",
       "      <th>3</th>\n",
       "      <td>4</td>\n",
       "      <td>Futrelle, Mrs. Jacques Heath (Lily May Peel)</td>\n",
       "      <td>35.0</td>\n",
       "      <td>1</td>\n",
       "      <td>0</td>\n",
       "      <td>113803</td>\n",
       "      <td>53.1000</td>\n",
       "      <td>C123</td>\n",
       "      <td>S</td>\n",
       "      <td>Upper</td>\n",
       "      <td>F</td>\n",
       "      <td>Y</td>\n",
       "    </tr>\n",
       "    <tr>\n",
       "      <th>4</th>\n",
       "      <td>5</td>\n",
       "      <td>Allen, Mr. William Henry</td>\n",
       "      <td>35.0</td>\n",
       "      <td>0</td>\n",
       "      <td>0</td>\n",
       "      <td>373450</td>\n",
       "      <td>8.0500</td>\n",
       "      <td>NaN</td>\n",
       "      <td>S</td>\n",
       "      <td>Lower</td>\n",
       "      <td>M</td>\n",
       "      <td>N</td>\n",
       "    </tr>\n",
       "  </tbody>\n",
       "</table>\n",
       "</div>"
      ],
      "text/plain": [
       "   PassengerId                                               Name   Age  \\\n",
       "0            1                            Braund, Mr. Owen Harris  22.0   \n",
       "1            2  Cumings, Mrs. John Bradley (Florence Briggs Th...  38.0   \n",
       "2            3                             Heikkinen, Miss. Laina  26.0   \n",
       "3            4       Futrelle, Mrs. Jacques Heath (Lily May Peel)  35.0   \n",
       "4            5                           Allen, Mr. William Henry  35.0   \n",
       "\n",
       "   SibSp  Parch            Ticket     Fare Cabin Embarked passenger_class  \\\n",
       "0      1      0         A/5 21171   7.2500   NaN        S           Lower   \n",
       "1      1      0          PC 17599  71.2833   C85        C           Upper   \n",
       "2      0      0  STON/O2. 3101282   7.9250   NaN        S           Lower   \n",
       "3      1      0            113803  53.1000  C123        S           Upper   \n",
       "4      0      0            373450   8.0500   NaN        S           Lower   \n",
       "\n",
       "  passenger_sex passenger_survived  \n",
       "0             M                  N  \n",
       "1             F                  Y  \n",
       "2             F                  Y  \n",
       "3             F                  Y  \n",
       "4             M                  N  "
      ]
     },
     "execution_count": 1883,
     "metadata": {},
     "output_type": "execute_result"
    }
   ],
   "source": [
    "df.head()"
   ]
  },
  {
   "cell_type": "code",
   "execution_count": 1884,
   "id": "patent-contemporary",
   "metadata": {},
   "outputs": [
    {
     "data": {
      "text/html": [
       "<div>\n",
       "<style scoped>\n",
       "    .dataframe tbody tr th:only-of-type {\n",
       "        vertical-align: middle;\n",
       "    }\n",
       "\n",
       "    .dataframe tbody tr th {\n",
       "        vertical-align: top;\n",
       "    }\n",
       "\n",
       "    .dataframe thead th {\n",
       "        text-align: right;\n",
       "    }\n",
       "</style>\n",
       "<table border=\"1\" class=\"dataframe\">\n",
       "  <thead>\n",
       "    <tr style=\"text-align: right;\">\n",
       "      <th></th>\n",
       "      <th>Age</th>\n",
       "      <th>SibSp</th>\n",
       "      <th>Parch</th>\n",
       "      <th>Fare</th>\n",
       "    </tr>\n",
       "  </thead>\n",
       "  <tbody>\n",
       "    <tr>\n",
       "      <th>count</th>\n",
       "      <td>714.000000</td>\n",
       "      <td>891.000000</td>\n",
       "      <td>891.000000</td>\n",
       "      <td>891.000000</td>\n",
       "    </tr>\n",
       "    <tr>\n",
       "      <th>mean</th>\n",
       "      <td>29.699118</td>\n",
       "      <td>0.523008</td>\n",
       "      <td>0.381594</td>\n",
       "      <td>32.204208</td>\n",
       "    </tr>\n",
       "    <tr>\n",
       "      <th>std</th>\n",
       "      <td>14.526497</td>\n",
       "      <td>1.102743</td>\n",
       "      <td>0.806057</td>\n",
       "      <td>49.693429</td>\n",
       "    </tr>\n",
       "    <tr>\n",
       "      <th>min</th>\n",
       "      <td>0.420000</td>\n",
       "      <td>0.000000</td>\n",
       "      <td>0.000000</td>\n",
       "      <td>0.000000</td>\n",
       "    </tr>\n",
       "    <tr>\n",
       "      <th>25%</th>\n",
       "      <td>20.125000</td>\n",
       "      <td>0.000000</td>\n",
       "      <td>0.000000</td>\n",
       "      <td>7.910400</td>\n",
       "    </tr>\n",
       "    <tr>\n",
       "      <th>50%</th>\n",
       "      <td>28.000000</td>\n",
       "      <td>0.000000</td>\n",
       "      <td>0.000000</td>\n",
       "      <td>14.454200</td>\n",
       "    </tr>\n",
       "    <tr>\n",
       "      <th>75%</th>\n",
       "      <td>38.000000</td>\n",
       "      <td>1.000000</td>\n",
       "      <td>0.000000</td>\n",
       "      <td>31.000000</td>\n",
       "    </tr>\n",
       "    <tr>\n",
       "      <th>max</th>\n",
       "      <td>80.000000</td>\n",
       "      <td>8.000000</td>\n",
       "      <td>6.000000</td>\n",
       "      <td>512.329200</td>\n",
       "    </tr>\n",
       "  </tbody>\n",
       "</table>\n",
       "</div>"
      ],
      "text/plain": [
       "              Age       SibSp       Parch        Fare\n",
       "count  714.000000  891.000000  891.000000  891.000000\n",
       "mean    29.699118    0.523008    0.381594   32.204208\n",
       "std     14.526497    1.102743    0.806057   49.693429\n",
       "min      0.420000    0.000000    0.000000    0.000000\n",
       "25%     20.125000    0.000000    0.000000    7.910400\n",
       "50%     28.000000    0.000000    0.000000   14.454200\n",
       "75%     38.000000    1.000000    0.000000   31.000000\n",
       "max     80.000000    8.000000    6.000000  512.329200"
      ]
     },
     "execution_count": 1884,
     "metadata": {},
     "output_type": "execute_result"
    }
   ],
   "source": [
    "df = df.drop(columns=[\"PassengerId\", \"Name\", \"Ticket\"]) # Removing Specific data.\n",
    "df.describe()"
   ]
  },
  {
   "cell_type": "code",
   "execution_count": 1885,
   "id": "separated-survival",
   "metadata": {},
   "outputs": [
    {
     "data": {
      "text/plain": [
       "(891, 9)"
      ]
     },
     "execution_count": 1885,
     "metadata": {},
     "output_type": "execute_result"
    }
   ],
   "source": [
    "df.shape"
   ]
  },
  {
   "cell_type": "code",
   "execution_count": 1886,
   "id": "sharp-physiology",
   "metadata": {},
   "outputs": [
    {
     "data": {
      "text/plain": [
       "Age                   float64\n",
       "SibSp                   int64\n",
       "Parch                   int64\n",
       "Fare                  float64\n",
       "Cabin                  object\n",
       "Embarked               object\n",
       "passenger_class        object\n",
       "passenger_sex          object\n",
       "passenger_survived     object\n",
       "dtype: object"
      ]
     },
     "execution_count": 1886,
     "metadata": {},
     "output_type": "execute_result"
    }
   ],
   "source": [
    "df.dtypes"
   ]
  },
  {
   "cell_type": "code",
   "execution_count": 1887,
   "id": "danish-algebra",
   "metadata": {},
   "outputs": [],
   "source": [
    "#df.loc[:,['Cabin', 'Embarked', 'passenger_class','passenger_sex', 'passenger_survived']] = df.loc[:,['Cabin', 'Embarked', 'passenger_class','passenger_sex', 'passenger_survived']].astype('category')"
   ]
  },
  {
   "cell_type": "code",
   "execution_count": 1888,
   "id": "interim-calculation",
   "metadata": {},
   "outputs": [
    {
     "name": "stdout",
     "output_type": "stream",
     "text": [
      "<class 'pandas.core.frame.DataFrame'>\n",
      "RangeIndex: 891 entries, 0 to 890\n",
      "Data columns (total 9 columns):\n",
      " #   Column              Non-Null Count  Dtype  \n",
      "---  ------              --------------  -----  \n",
      " 0   Age                 714 non-null    float64\n",
      " 1   SibSp               891 non-null    int64  \n",
      " 2   Parch               891 non-null    int64  \n",
      " 3   Fare                891 non-null    float64\n",
      " 4   Cabin               204 non-null    object \n",
      " 5   Embarked            889 non-null    object \n",
      " 6   passenger_class     891 non-null    object \n",
      " 7   passenger_sex       891 non-null    object \n",
      " 8   passenger_survived  891 non-null    object \n",
      "dtypes: float64(2), int64(2), object(5)\n",
      "memory usage: 62.8+ KB\n"
     ]
    }
   ],
   "source": [
    "df.info()"
   ]
  },
  {
   "cell_type": "markdown",
   "id": "strange-december",
   "metadata": {},
   "source": [
    "### Feature Engineering\n",
    "#### Missing Values"
   ]
  },
  {
   "cell_type": "code",
   "execution_count": 1889,
   "id": "incoming-massage",
   "metadata": {},
   "outputs": [
    {
     "data": {
      "text/plain": [
       "Age                   0.198653\n",
       "SibSp                 0.000000\n",
       "Parch                 0.000000\n",
       "Fare                  0.000000\n",
       "Cabin                 0.771044\n",
       "Embarked              0.002245\n",
       "passenger_class       0.000000\n",
       "passenger_sex         0.000000\n",
       "passenger_survived    0.000000\n",
       "dtype: float64"
      ]
     },
     "execution_count": 1889,
     "metadata": {},
     "output_type": "execute_result"
    }
   ],
   "source": [
    "df.isnull().sum()/df.shape[0]"
   ]
  },
  {
   "cell_type": "markdown",
   "id": "lesser-purple",
   "metadata": {},
   "source": [
    "- Cabin has to many null values.\n",
    "- Embarked has only two values, rows with missing values will be dropped.\n",
    "- Age has a 19.86% of missing values, imputing the data could change the distribution."
   ]
  },
  {
   "cell_type": "code",
   "execution_count": 1890,
   "id": "macro-locking",
   "metadata": {},
   "outputs": [
    {
     "data": {
      "text/plain": [
       "<AxesSubplot:>"
      ]
     },
     "execution_count": 1890,
     "metadata": {},
     "output_type": "execute_result"
    },
    {
     "data": {
      "image/png": "[encoded data removed]",
      "text/plain": [
       "<Figure size 432x288 with 1 Axes>"
      ]
     },
     "metadata": {
      "needs_background": "light"
     },
     "output_type": "display_data"
    }
   ],
   "source": [
    "df.plot()"
   ]
  },
  {
   "cell_type": "code",
   "execution_count": 1891,
   "id": "harmful-woman",
   "metadata": {},
   "outputs": [
    {
     "name": "stdout",
     "output_type": "stream",
     "text": [
      "Histogram\n"
     ]
    },
    {
     "data": {
      "image/png": "[encoded data removed]",
      "text/plain": [
       "<Figure size 2880x2880 with 8 Axes>"
      ]
     },
     "metadata": {
      "needs_background": "light"
     },
     "output_type": "display_data"
    }
   ],
   "source": [
    "fig = df.hist(layout=(4,2), figsize=(40,40), legend=True, xlabelsize=20)\n",
    "[x.title.set_size(32) for x in fig.ravel()]\n",
    "print(\"Histogram\")"
   ]
  },
  {
   "cell_type": "code",
   "execution_count": 1892,
   "id": "smart-housing",
   "metadata": {},
   "outputs": [
    {
     "data": {
      "text/plain": [
       "<AxesSubplot:ylabel='Density'>"
      ]
     },
     "execution_count": 1892,
     "metadata": {},
     "output_type": "execute_result"
    },
    {
     "data": {
      "image/png": "[encoded data removed]",
      "text/plain": [
       "<Figure size 432x288 with 1 Axes>"
      ]
     },
     "metadata": {
      "needs_background": "light"
     },
     "output_type": "display_data"
    }
   ],
   "source": [
    "df[\"Age\"].plot.kde()\n",
    "df[\"Fare\"].plot.kde()"
   ]
  },
  {
   "cell_type": "code",
   "execution_count": 1893,
   "id": "sought-maine",
   "metadata": {},
   "outputs": [
    {
     "data": {
      "text/plain": [
       "<AxesSubplot:ylabel='Density'>"
      ]
     },
     "execution_count": 1893,
     "metadata": {},
     "output_type": "execute_result"
    },
    {
     "data": {
      "image/png": "[encoded data removed]",
      "text/plain": [
       "<Figure size 432x288 with 1 Axes>"
      ]
     },
     "metadata": {
      "needs_background": "light"
     },
     "output_type": "display_data"
    }
   ],
   "source": [
    "df[\"Parch\"].plot.kde()"
   ]
  },
  {
   "cell_type": "code",
   "execution_count": 1894,
   "id": "secret-wallet",
   "metadata": {},
   "outputs": [
    {
     "data": {
      "text/plain": [
       "<AxesSubplot:ylabel='Density'>"
      ]
     },
     "execution_count": 1894,
     "metadata": {},
     "output_type": "execute_result"
    },
    {
     "data": {
      "image/png": "[encoded data removed]",
      "text/plain": [
       "<Figure size 432x288 with 1 Axes>"
      ]
     },
     "metadata": {
      "needs_background": "light"
     },
     "output_type": "display_data"
    }
   ],
   "source": [
    "df[\"SibSp\"].plot.kde()"
   ]
  },
  {
   "cell_type": "code",
   "execution_count": 1895,
   "id": "distinct-timber",
   "metadata": {},
   "outputs": [
    {
     "data": {
      "image/png": "[encoded data removed]",
      "text/plain": [
       "<Figure size 802.125x1080 with 6 Axes>"
      ]
     },
     "metadata": {
      "needs_background": "light"
     },
     "output_type": "display_data"
    }
   ],
   "source": [
    "#\n",
    "ax = sns.catplot(x='passenger_class', hue='passenger_sex', col='passenger_survived', row=\"Embarked\", kind='count', data=df)"
   ]
  },
  {
   "cell_type": "code",
   "execution_count": 1896,
   "id": "controlled-opera",
   "metadata": {},
   "outputs": [
    {
     "name": "stdout",
     "output_type": "stream",
     "text": [
      "233\n"
     ]
    },
    {
     "data": {
      "image/png": "[encoded data removed]",
      "text/plain": [
       "<Figure size 432x288 with 4 Axes>"
      ]
     },
     "metadata": {
      "needs_background": "light"
     },
     "output_type": "display_data"
    }
   ],
   "source": [
    "df[(df[\"passenger_survived\"] == 'Y') & (df[\"passenger_sex\"] == 'F')].hist()\n",
    "print(len(df[(df[\"passenger_survived\"] == 'Y') & (df[\"passenger_sex\"] == 'F')]))"
   ]
  },
  {
   "cell_type": "code",
   "execution_count": 1897,
   "id": "adjusted-central",
   "metadata": {},
   "outputs": [
    {
     "name": "stdout",
     "output_type": "stream",
     "text": [
      "109\n"
     ]
    },
    {
     "data": {
      "image/png": "[encoded data removed]",
      "text/plain": [
       "<Figure size 432x288 with 4 Axes>"
      ]
     },
     "metadata": {
      "needs_background": "light"
     },
     "output_type": "display_data"
    }
   ],
   "source": [
    "df[(df[\"passenger_survived\"] == 'Y') & (df[\"passenger_sex\"] == 'M')].hist()\n",
    "print(len(df[(df[\"passenger_survived\"] == 'Y') & (df[\"passenger_sex\"] == 'M')]))"
   ]
  },
  {
   "cell_type": "code",
   "execution_count": 1898,
   "id": "simplified-messaging",
   "metadata": {},
   "outputs": [
    {
     "name": "stdout",
     "output_type": "stream",
     "text": [
      "109\n"
     ]
    },
    {
     "data": {
      "image/png": "[encoded data removed]",
      "text/plain": [
       "<Figure size 432x288 with 4 Axes>"
      ]
     },
     "metadata": {
      "needs_background": "light"
     },
     "output_type": "display_data"
    }
   ],
   "source": [
    "df[(df[\"passenger_survived\"] == 'N') & (df[\"passenger_sex\"] == 'M')].hist()\n",
    "print(len(df[(df[\"passenger_survived\"] == 'Y') & (df[\"passenger_sex\"] == 'M')]))"
   ]
  },
  {
   "cell_type": "markdown",
   "id": "auburn-hughes",
   "metadata": {},
   "source": []
  },
  {
   "cell_type": "code",
   "execution_count": 1899,
   "id": "heard-italic",
   "metadata": {},
   "outputs": [
    {
     "data": {
      "text/plain": [
       "B96 B98        4\n",
       "G6             4\n",
       "C23 C25 C27    4\n",
       "F2             3\n",
       "E101           3\n",
       "              ..\n",
       "B94            1\n",
       "A32            1\n",
       "D11            1\n",
       "C86            1\n",
       "E50            1\n",
       "Name: Cabin, Length: 147, dtype: int64"
      ]
     },
     "execution_count": 1899,
     "metadata": {},
     "output_type": "execute_result"
    }
   ],
   "source": [
    "df[\"Cabin\"].value_counts()"
   ]
  },
  {
   "cell_type": "code",
   "execution_count": 1900,
   "id": "anticipated-master",
   "metadata": {},
   "outputs": [
    {
     "data": {
      "text/plain": [
       "S    644\n",
       "C    168\n",
       "Q     77\n",
       "Name: Embarked, dtype: int64"
      ]
     },
     "execution_count": 1900,
     "metadata": {},
     "output_type": "execute_result"
    }
   ],
   "source": [
    "df[\"Embarked\"].value_counts()"
   ]
  },
  {
   "cell_type": "code",
   "execution_count": 1901,
   "id": "damaged-shuttle",
   "metadata": {},
   "outputs": [
    {
     "data": {
      "text/plain": [
       "Lower     491\n",
       "Upper     216\n",
       "Middle    184\n",
       "Name: passenger_class, dtype: int64"
      ]
     },
     "execution_count": 1901,
     "metadata": {},
     "output_type": "execute_result"
    }
   ],
   "source": [
    "df[\"passenger_class\"].value_counts()"
   ]
  },
  {
   "cell_type": "code",
   "execution_count": 1902,
   "id": "distant-sperm",
   "metadata": {},
   "outputs": [
    {
     "data": {
      "text/plain": [
       "M    577\n",
       "F    314\n",
       "Name: passenger_sex, dtype: int64"
      ]
     },
     "execution_count": 1902,
     "metadata": {},
     "output_type": "execute_result"
    }
   ],
   "source": [
    "df[\"passenger_sex\"].value_counts()"
   ]
  },
  {
   "cell_type": "code",
   "execution_count": 1903,
   "id": "noticed-madness",
   "metadata": {},
   "outputs": [
    {
     "data": {
      "text/plain": [
       "N    549\n",
       "Y    342\n",
       "Name: passenger_survived, dtype: int64"
      ]
     },
     "execution_count": 1903,
     "metadata": {},
     "output_type": "execute_result"
    }
   ],
   "source": [
    "df[\"passenger_survived\"].value_counts()"
   ]
  },
  {
   "cell_type": "code",
   "execution_count": 1904,
   "id": "defined-inclusion",
   "metadata": {},
   "outputs": [
    {
     "data": {
      "text/html": [
       "<div>\n",
       "<style scoped>\n",
       "    .dataframe tbody tr th:only-of-type {\n",
       "        vertical-align: middle;\n",
       "    }\n",
       "\n",
       "    .dataframe tbody tr th {\n",
       "        vertical-align: top;\n",
       "    }\n",
       "\n",
       "    .dataframe thead th {\n",
       "        text-align: right;\n",
       "    }\n",
       "</style>\n",
       "<table border=\"1\" class=\"dataframe\">\n",
       "  <thead>\n",
       "    <tr style=\"text-align: right;\">\n",
       "      <th></th>\n",
       "      <th>Embarked</th>\n",
       "      <th>passenger_class</th>\n",
       "      <th>passenger_sex</th>\n",
       "      <th>passenger_survived</th>\n",
       "    </tr>\n",
       "  </thead>\n",
       "  <tbody>\n",
       "    <tr>\n",
       "      <th>count</th>\n",
       "      <td>889</td>\n",
       "      <td>891</td>\n",
       "      <td>891</td>\n",
       "      <td>891</td>\n",
       "    </tr>\n",
       "    <tr>\n",
       "      <th>unique</th>\n",
       "      <td>3</td>\n",
       "      <td>3</td>\n",
       "      <td>2</td>\n",
       "      <td>2</td>\n",
       "    </tr>\n",
       "    <tr>\n",
       "      <th>top</th>\n",
       "      <td>S</td>\n",
       "      <td>Lower</td>\n",
       "      <td>M</td>\n",
       "      <td>N</td>\n",
       "    </tr>\n",
       "    <tr>\n",
       "      <th>freq</th>\n",
       "      <td>644</td>\n",
       "      <td>491</td>\n",
       "      <td>577</td>\n",
       "      <td>549</td>\n",
       "    </tr>\n",
       "  </tbody>\n",
       "</table>\n",
       "</div>"
      ],
      "text/plain": [
       "       Embarked passenger_class passenger_sex passenger_survived\n",
       "count       889             891           891                891\n",
       "unique        3               3             2                  2\n",
       "top           S           Lower             M                  N\n",
       "freq        644             491           577                549"
      ]
     },
     "execution_count": 1904,
     "metadata": {},
     "output_type": "execute_result"
    }
   ],
   "source": [
    "df.loc[:,['Embarked', 'passenger_class','passenger_sex', 'passenger_survived']].describe()"
   ]
  },
  {
   "cell_type": "code",
   "execution_count": 1905,
   "id": "supported-power",
   "metadata": {},
   "outputs": [
    {
     "data": {
      "text/plain": [
       "Lower     479\n",
       "Middle    168\n",
       "Upper      40\n",
       "Name: passenger_class, dtype: int64"
      ]
     },
     "execution_count": 1905,
     "metadata": {},
     "output_type": "execute_result"
    }
   ],
   "source": [
    "df[pd.isnull(df[\"Cabin\"])][\"passenger_class\"].value_counts()"
   ]
  },
  {
   "cell_type": "code",
   "execution_count": 1906,
   "id": "guilty-delight",
   "metadata": {},
   "outputs": [],
   "source": [
    "## This is an specific column, and it has to many null values.\n",
    "\n",
    "df = df.drop(columns=[\"Cabin\"])"
   ]
  },
  {
   "cell_type": "code",
   "execution_count": 1907,
   "id": "korean-plasma",
   "metadata": {},
   "outputs": [
    {
     "data": {
      "text/html": [
       "<div>\n",
       "<style scoped>\n",
       "    .dataframe tbody tr th:only-of-type {\n",
       "        vertical-align: middle;\n",
       "    }\n",
       "\n",
       "    .dataframe tbody tr th {\n",
       "        vertical-align: top;\n",
       "    }\n",
       "\n",
       "    .dataframe thead th {\n",
       "        text-align: right;\n",
       "    }\n",
       "</style>\n",
       "<table border=\"1\" class=\"dataframe\">\n",
       "  <thead>\n",
       "    <tr style=\"text-align: right;\">\n",
       "      <th></th>\n",
       "      <th>Age</th>\n",
       "      <th>SibSp</th>\n",
       "      <th>Parch</th>\n",
       "      <th>Fare</th>\n",
       "      <th>Embarked</th>\n",
       "      <th>passenger_class</th>\n",
       "      <th>passenger_sex</th>\n",
       "      <th>passenger_survived</th>\n",
       "    </tr>\n",
       "  </thead>\n",
       "  <tbody>\n",
       "    <tr>\n",
       "      <th>5</th>\n",
       "      <td>NaN</td>\n",
       "      <td>0</td>\n",
       "      <td>0</td>\n",
       "      <td>8.4583</td>\n",
       "      <td>Q</td>\n",
       "      <td>Lower</td>\n",
       "      <td>M</td>\n",
       "      <td>N</td>\n",
       "    </tr>\n",
       "    <tr>\n",
       "      <th>17</th>\n",
       "      <td>NaN</td>\n",
       "      <td>0</td>\n",
       "      <td>0</td>\n",
       "      <td>13.0000</td>\n",
       "      <td>S</td>\n",
       "      <td>Middle</td>\n",
       "      <td>M</td>\n",
       "      <td>Y</td>\n",
       "    </tr>\n",
       "    <tr>\n",
       "      <th>19</th>\n",
       "      <td>NaN</td>\n",
       "      <td>0</td>\n",
       "      <td>0</td>\n",
       "      <td>7.2250</td>\n",
       "      <td>C</td>\n",
       "      <td>Lower</td>\n",
       "      <td>F</td>\n",
       "      <td>Y</td>\n",
       "    </tr>\n",
       "    <tr>\n",
       "      <th>26</th>\n",
       "      <td>NaN</td>\n",
       "      <td>0</td>\n",
       "      <td>0</td>\n",
       "      <td>7.2250</td>\n",
       "      <td>C</td>\n",
       "      <td>Lower</td>\n",
       "      <td>M</td>\n",
       "      <td>N</td>\n",
       "    </tr>\n",
       "    <tr>\n",
       "      <th>28</th>\n",
       "      <td>NaN</td>\n",
       "      <td>0</td>\n",
       "      <td>0</td>\n",
       "      <td>7.8792</td>\n",
       "      <td>Q</td>\n",
       "      <td>Lower</td>\n",
       "      <td>F</td>\n",
       "      <td>Y</td>\n",
       "    </tr>\n",
       "    <tr>\n",
       "      <th>...</th>\n",
       "      <td>...</td>\n",
       "      <td>...</td>\n",
       "      <td>...</td>\n",
       "      <td>...</td>\n",
       "      <td>...</td>\n",
       "      <td>...</td>\n",
       "      <td>...</td>\n",
       "      <td>...</td>\n",
       "    </tr>\n",
       "    <tr>\n",
       "      <th>859</th>\n",
       "      <td>NaN</td>\n",
       "      <td>0</td>\n",
       "      <td>0</td>\n",
       "      <td>7.2292</td>\n",
       "      <td>C</td>\n",
       "      <td>Lower</td>\n",
       "      <td>M</td>\n",
       "      <td>N</td>\n",
       "    </tr>\n",
       "    <tr>\n",
       "      <th>863</th>\n",
       "      <td>NaN</td>\n",
       "      <td>8</td>\n",
       "      <td>2</td>\n",
       "      <td>69.5500</td>\n",
       "      <td>S</td>\n",
       "      <td>Lower</td>\n",
       "      <td>F</td>\n",
       "      <td>N</td>\n",
       "    </tr>\n",
       "    <tr>\n",
       "      <th>868</th>\n",
       "      <td>NaN</td>\n",
       "      <td>0</td>\n",
       "      <td>0</td>\n",
       "      <td>9.5000</td>\n",
       "      <td>S</td>\n",
       "      <td>Lower</td>\n",
       "      <td>M</td>\n",
       "      <td>N</td>\n",
       "    </tr>\n",
       "    <tr>\n",
       "      <th>878</th>\n",
       "      <td>NaN</td>\n",
       "      <td>0</td>\n",
       "      <td>0</td>\n",
       "      <td>7.8958</td>\n",
       "      <td>S</td>\n",
       "      <td>Lower</td>\n",
       "      <td>M</td>\n",
       "      <td>N</td>\n",
       "    </tr>\n",
       "    <tr>\n",
       "      <th>888</th>\n",
       "      <td>NaN</td>\n",
       "      <td>1</td>\n",
       "      <td>2</td>\n",
       "      <td>23.4500</td>\n",
       "      <td>S</td>\n",
       "      <td>Lower</td>\n",
       "      <td>F</td>\n",
       "      <td>N</td>\n",
       "    </tr>\n",
       "  </tbody>\n",
       "</table>\n",
       "<p>177 rows × 8 columns</p>\n",
       "</div>"
      ],
      "text/plain": [
       "     Age  SibSp  Parch     Fare Embarked passenger_class passenger_sex  \\\n",
       "5    NaN      0      0   8.4583        Q           Lower             M   \n",
       "17   NaN      0      0  13.0000        S          Middle             M   \n",
       "19   NaN      0      0   7.2250        C           Lower             F   \n",
       "26   NaN      0      0   7.2250        C           Lower             M   \n",
       "28   NaN      0      0   7.8792        Q           Lower             F   \n",
       "..   ...    ...    ...      ...      ...             ...           ...   \n",
       "859  NaN      0      0   7.2292        C           Lower             M   \n",
       "863  NaN      8      2  69.5500        S           Lower             F   \n",
       "868  NaN      0      0   9.5000        S           Lower             M   \n",
       "878  NaN      0      0   7.8958        S           Lower             M   \n",
       "888  NaN      1      2  23.4500        S           Lower             F   \n",
       "\n",
       "    passenger_survived  \n",
       "5                    N  \n",
       "17                   Y  \n",
       "19                   Y  \n",
       "26                   N  \n",
       "28                   Y  \n",
       "..                 ...  \n",
       "859                  N  \n",
       "863                  N  \n",
       "868                  N  \n",
       "878                  N  \n",
       "888                  N  \n",
       "\n",
       "[177 rows x 8 columns]"
      ]
     },
     "execution_count": 1907,
     "metadata": {},
     "output_type": "execute_result"
    }
   ],
   "source": [
    "df_age_na = df[pd.isnull(df[\"Age\"])]\n",
    "df_age_na"
   ]
  },
  {
   "cell_type": "code",
   "execution_count": 1908,
   "id": "weird-ocean",
   "metadata": {},
   "outputs": [
    {
     "data": {
      "text/plain": [
       "177"
      ]
     },
     "execution_count": 1908,
     "metadata": {},
     "output_type": "execute_result"
    }
   ],
   "source": [
    "### Where SibSP is 0 and Parch 0. It is possible that the passanger was an adult alone aboard.\n",
    "len(df_age_na)"
   ]
  },
  {
   "cell_type": "code",
   "execution_count": 1909,
   "id": "competitive-desperate",
   "metadata": {},
   "outputs": [
    {
     "name": "stdout",
     "output_type": "stream",
     "text": [
      "133\n"
     ]
    },
    {
     "data": {
      "text/html": [
       "<div>\n",
       "<style scoped>\n",
       "    .dataframe tbody tr th:only-of-type {\n",
       "        vertical-align: middle;\n",
       "    }\n",
       "\n",
       "    .dataframe tbody tr th {\n",
       "        vertical-align: top;\n",
       "    }\n",
       "\n",
       "    .dataframe thead th {\n",
       "        text-align: right;\n",
       "    }\n",
       "</style>\n",
       "<table border=\"1\" class=\"dataframe\">\n",
       "  <thead>\n",
       "    <tr style=\"text-align: right;\">\n",
       "      <th></th>\n",
       "      <th>Age</th>\n",
       "      <th>SibSp</th>\n",
       "      <th>Parch</th>\n",
       "      <th>Fare</th>\n",
       "      <th>Embarked</th>\n",
       "      <th>passenger_class</th>\n",
       "      <th>passenger_sex</th>\n",
       "      <th>passenger_survived</th>\n",
       "    </tr>\n",
       "  </thead>\n",
       "  <tbody>\n",
       "    <tr>\n",
       "      <th>5</th>\n",
       "      <td>NaN</td>\n",
       "      <td>0</td>\n",
       "      <td>0</td>\n",
       "      <td>8.4583</td>\n",
       "      <td>Q</td>\n",
       "      <td>Lower</td>\n",
       "      <td>M</td>\n",
       "      <td>N</td>\n",
       "    </tr>\n",
       "    <tr>\n",
       "      <th>17</th>\n",
       "      <td>NaN</td>\n",
       "      <td>0</td>\n",
       "      <td>0</td>\n",
       "      <td>13.0000</td>\n",
       "      <td>S</td>\n",
       "      <td>Middle</td>\n",
       "      <td>M</td>\n",
       "      <td>Y</td>\n",
       "    </tr>\n",
       "    <tr>\n",
       "      <th>19</th>\n",
       "      <td>NaN</td>\n",
       "      <td>0</td>\n",
       "      <td>0</td>\n",
       "      <td>7.2250</td>\n",
       "      <td>C</td>\n",
       "      <td>Lower</td>\n",
       "      <td>F</td>\n",
       "      <td>Y</td>\n",
       "    </tr>\n",
       "    <tr>\n",
       "      <th>26</th>\n",
       "      <td>NaN</td>\n",
       "      <td>0</td>\n",
       "      <td>0</td>\n",
       "      <td>7.2250</td>\n",
       "      <td>C</td>\n",
       "      <td>Lower</td>\n",
       "      <td>M</td>\n",
       "      <td>N</td>\n",
       "    </tr>\n",
       "    <tr>\n",
       "      <th>28</th>\n",
       "      <td>NaN</td>\n",
       "      <td>0</td>\n",
       "      <td>0</td>\n",
       "      <td>7.8792</td>\n",
       "      <td>Q</td>\n",
       "      <td>Lower</td>\n",
       "      <td>F</td>\n",
       "      <td>Y</td>\n",
       "    </tr>\n",
       "    <tr>\n",
       "      <th>...</th>\n",
       "      <td>...</td>\n",
       "      <td>...</td>\n",
       "      <td>...</td>\n",
       "      <td>...</td>\n",
       "      <td>...</td>\n",
       "      <td>...</td>\n",
       "      <td>...</td>\n",
       "      <td>...</td>\n",
       "    </tr>\n",
       "    <tr>\n",
       "      <th>837</th>\n",
       "      <td>NaN</td>\n",
       "      <td>0</td>\n",
       "      <td>0</td>\n",
       "      <td>8.0500</td>\n",
       "      <td>S</td>\n",
       "      <td>Lower</td>\n",
       "      <td>M</td>\n",
       "      <td>N</td>\n",
       "    </tr>\n",
       "    <tr>\n",
       "      <th>839</th>\n",
       "      <td>NaN</td>\n",
       "      <td>0</td>\n",
       "      <td>0</td>\n",
       "      <td>29.7000</td>\n",
       "      <td>C</td>\n",
       "      <td>Upper</td>\n",
       "      <td>M</td>\n",
       "      <td>Y</td>\n",
       "    </tr>\n",
       "    <tr>\n",
       "      <th>859</th>\n",
       "      <td>NaN</td>\n",
       "      <td>0</td>\n",
       "      <td>0</td>\n",
       "      <td>7.2292</td>\n",
       "      <td>C</td>\n",
       "      <td>Lower</td>\n",
       "      <td>M</td>\n",
       "      <td>N</td>\n",
       "    </tr>\n",
       "    <tr>\n",
       "      <th>868</th>\n",
       "      <td>NaN</td>\n",
       "      <td>0</td>\n",
       "      <td>0</td>\n",
       "      <td>9.5000</td>\n",
       "      <td>S</td>\n",
       "      <td>Lower</td>\n",
       "      <td>M</td>\n",
       "      <td>N</td>\n",
       "    </tr>\n",
       "    <tr>\n",
       "      <th>878</th>\n",
       "      <td>NaN</td>\n",
       "      <td>0</td>\n",
       "      <td>0</td>\n",
       "      <td>7.8958</td>\n",
       "      <td>S</td>\n",
       "      <td>Lower</td>\n",
       "      <td>M</td>\n",
       "      <td>N</td>\n",
       "    </tr>\n",
       "  </tbody>\n",
       "</table>\n",
       "<p>133 rows × 8 columns</p>\n",
       "</div>"
      ],
      "text/plain": [
       "     Age  SibSp  Parch     Fare Embarked passenger_class passenger_sex  \\\n",
       "5    NaN      0      0   8.4583        Q           Lower             M   \n",
       "17   NaN      0      0  13.0000        S          Middle             M   \n",
       "19   NaN      0      0   7.2250        C           Lower             F   \n",
       "26   NaN      0      0   7.2250        C           Lower             M   \n",
       "28   NaN      0      0   7.8792        Q           Lower             F   \n",
       "..   ...    ...    ...      ...      ...             ...           ...   \n",
       "837  NaN      0      0   8.0500        S           Lower             M   \n",
       "839  NaN      0      0  29.7000        C           Upper             M   \n",
       "859  NaN      0      0   7.2292        C           Lower             M   \n",
       "868  NaN      0      0   9.5000        S           Lower             M   \n",
       "878  NaN      0      0   7.8958        S           Lower             M   \n",
       "\n",
       "    passenger_survived  \n",
       "5                    N  \n",
       "17                   Y  \n",
       "19                   Y  \n",
       "26                   N  \n",
       "28                   Y  \n",
       "..                 ...  \n",
       "837                  N  \n",
       "839                  Y  \n",
       "859                  N  \n",
       "868                  N  \n",
       "878                  N  \n",
       "\n",
       "[133 rows x 8 columns]"
      ]
     },
     "execution_count": 1909,
     "metadata": {},
     "output_type": "execute_result"
    }
   ],
   "source": [
    "df_age_na_1 = df_age_na[(df_age_na[\"SibSp\"] == 0) & (df_age_na[\"Parch\"] == 0)]\n",
    "\n",
    "print(len(df_age_na_1))\n",
    "df_age_na_1"
   ]
  },
  {
   "cell_type": "code",
   "execution_count": 1910,
   "id": "academic-block",
   "metadata": {},
   "outputs": [
    {
     "name": "stdout",
     "output_type": "stream",
     "text": [
      "N    100\n",
      "Y     33\n",
      "Name: passenger_survived, dtype: int64\n"
     ]
    }
   ],
   "source": [
    "print(df_age_na_1[\"passenger_survived\"].value_counts())"
   ]
  },
  {
   "cell_type": "code",
   "execution_count": 1911,
   "id": "selected-charlotte",
   "metadata": {},
   "outputs": [
    {
     "data": {
      "text/plain": [
       "array([[<AxesSubplot:title={'center':'Age'}>,\n",
       "        <AxesSubplot:title={'center':'SibSp'}>],\n",
       "       [<AxesSubplot:title={'center':'Parch'}>,\n",
       "        <AxesSubplot:title={'center':'Fare'}>]], dtype=object)"
      ]
     },
     "execution_count": 1911,
     "metadata": {},
     "output_type": "execute_result"
    },
    {
     "data": {
      "image/png": "[encoded data removed]",
      "text/plain": [
       "<Figure size 432x288 with 4 Axes>"
      ]
     },
     "metadata": {
      "needs_background": "light"
     },
     "output_type": "display_data"
    }
   ],
   "source": [
    "df_age_na_1.hist()"
   ]
  },
  {
   "cell_type": "code",
   "execution_count": 1912,
   "id": "australian-excuse",
   "metadata": {},
   "outputs": [
    {
     "data": {
      "text/html": [
       "<div>\n",
       "<style scoped>\n",
       "    .dataframe tbody tr th:only-of-type {\n",
       "        vertical-align: middle;\n",
       "    }\n",
       "\n",
       "    .dataframe tbody tr th {\n",
       "        vertical-align: top;\n",
       "    }\n",
       "\n",
       "    .dataframe thead th {\n",
       "        text-align: right;\n",
       "    }\n",
       "</style>\n",
       "<table border=\"1\" class=\"dataframe\">\n",
       "  <thead>\n",
       "    <tr style=\"text-align: right;\">\n",
       "      <th></th>\n",
       "      <th>Age</th>\n",
       "      <th>SibSp</th>\n",
       "      <th>Parch</th>\n",
       "      <th>Fare</th>\n",
       "      <th>Embarked</th>\n",
       "      <th>passenger_class</th>\n",
       "      <th>passenger_sex</th>\n",
       "      <th>passenger_survived</th>\n",
       "    </tr>\n",
       "  </thead>\n",
       "  <tbody>\n",
       "    <tr>\n",
       "      <th>31</th>\n",
       "      <td>NaN</td>\n",
       "      <td>1</td>\n",
       "      <td>0</td>\n",
       "      <td>146.5208</td>\n",
       "      <td>C</td>\n",
       "      <td>Upper</td>\n",
       "      <td>F</td>\n",
       "      <td>Y</td>\n",
       "    </tr>\n",
       "    <tr>\n",
       "      <th>46</th>\n",
       "      <td>NaN</td>\n",
       "      <td>1</td>\n",
       "      <td>0</td>\n",
       "      <td>15.5000</td>\n",
       "      <td>Q</td>\n",
       "      <td>Lower</td>\n",
       "      <td>M</td>\n",
       "      <td>N</td>\n",
       "    </tr>\n",
       "    <tr>\n",
       "      <th>48</th>\n",
       "      <td>NaN</td>\n",
       "      <td>2</td>\n",
       "      <td>0</td>\n",
       "      <td>21.6792</td>\n",
       "      <td>C</td>\n",
       "      <td>Lower</td>\n",
       "      <td>M</td>\n",
       "      <td>N</td>\n",
       "    </tr>\n",
       "    <tr>\n",
       "      <th>65</th>\n",
       "      <td>NaN</td>\n",
       "      <td>1</td>\n",
       "      <td>1</td>\n",
       "      <td>15.2458</td>\n",
       "      <td>C</td>\n",
       "      <td>Lower</td>\n",
       "      <td>M</td>\n",
       "      <td>Y</td>\n",
       "    </tr>\n",
       "    <tr>\n",
       "      <th>109</th>\n",
       "      <td>NaN</td>\n",
       "      <td>1</td>\n",
       "      <td>0</td>\n",
       "      <td>24.1500</td>\n",
       "      <td>Q</td>\n",
       "      <td>Lower</td>\n",
       "      <td>F</td>\n",
       "      <td>Y</td>\n",
       "    </tr>\n",
       "  </tbody>\n",
       "</table>\n",
       "</div>"
      ],
      "text/plain": [
       "     Age  SibSp  Parch      Fare Embarked passenger_class passenger_sex  \\\n",
       "31   NaN      1      0  146.5208        C           Upper             F   \n",
       "46   NaN      1      0   15.5000        Q           Lower             M   \n",
       "48   NaN      2      0   21.6792        C           Lower             M   \n",
       "65   NaN      1      1   15.2458        C           Lower             M   \n",
       "109  NaN      1      0   24.1500        Q           Lower             F   \n",
       "\n",
       "    passenger_survived  \n",
       "31                   Y  \n",
       "46                   N  \n",
       "48                   N  \n",
       "65                   Y  \n",
       "109                  Y  "
      ]
     },
     "execution_count": 1912,
     "metadata": {},
     "output_type": "execute_result"
    }
   ],
   "source": [
    "df_age_na_2 = df_age_na[(df_age_na[\"SibSp\"] != 0) | (df_age_na[\"Parch\"] != 0)]\n",
    "df_age_na_2.head()\n",
    "\n"
   ]
  },
  {
   "cell_type": "code",
   "execution_count": 1913,
   "id": "adopted-merit",
   "metadata": {},
   "outputs": [
    {
     "name": "stdout",
     "output_type": "stream",
     "text": [
      "N    25\n",
      "Y    19\n",
      "Name: passenger_survived, dtype: int64\n"
     ]
    }
   ],
   "source": [
    "print(df_age_na_2[\"passenger_survived\"].value_counts())"
   ]
  },
  {
   "cell_type": "code",
   "execution_count": 1914,
   "id": "corporate-demand",
   "metadata": {},
   "outputs": [
    {
     "data": {
      "text/plain": [
       "array([[<AxesSubplot:title={'center':'Age'}>,\n",
       "        <AxesSubplot:title={'center':'SibSp'}>],\n",
       "       [<AxesSubplot:title={'center':'Parch'}>,\n",
       "        <AxesSubplot:title={'center':'Fare'}>]], dtype=object)"
      ]
     },
     "execution_count": 1914,
     "metadata": {},
     "output_type": "execute_result"
    },
    {
     "data": {
      "image/png": "[encoded data removed]",
      "text/plain": [
       "<Figure size 432x288 with 4 Axes>"
      ]
     },
     "metadata": {
      "needs_background": "light"
     },
     "output_type": "display_data"
    }
   ],
   "source": [
    "df_age_na_2.hist()"
   ]
  },
  {
   "cell_type": "code",
   "execution_count": 1915,
   "id": "competent-estate",
   "metadata": {},
   "outputs": [
    {
     "data": {
      "text/plain": [
       "28.0"
      ]
     },
     "execution_count": 1915,
     "metadata": {},
     "output_type": "execute_result"
    }
   ],
   "source": [
    "df[\"Age\"].median()"
   ]
  },
  {
   "cell_type": "code",
   "execution_count": 1916,
   "id": "every-richards",
   "metadata": {},
   "outputs": [],
   "source": [
    "df[\"Age\"] = df[\"Age\"].replace({np.nan: df[\"Age\"].median()})"
   ]
  },
  {
   "cell_type": "code",
   "execution_count": 1917,
   "id": "b37fb826-0f68-413d-bb04-47f79d0d5578",
   "metadata": {},
   "outputs": [],
   "source": [
    "### Remove the Embarked NA rows.\n",
    "\n",
    "df = df.dropna()"
   ]
  },
  {
   "cell_type": "code",
   "execution_count": 1918,
   "id": "innovative-istanbul",
   "metadata": {},
   "outputs": [
    {
     "name": "stdout",
     "output_type": "stream",
     "text": [
      "<class 'pandas.core.frame.DataFrame'>\n",
      "Int64Index: 889 entries, 0 to 890\n",
      "Data columns (total 8 columns):\n",
      " #   Column              Non-Null Count  Dtype  \n",
      "---  ------              --------------  -----  \n",
      " 0   Age                 889 non-null    float64\n",
      " 1   SibSp               889 non-null    int64  \n",
      " 2   Parch               889 non-null    int64  \n",
      " 3   Fare                889 non-null    float64\n",
      " 4   Embarked            889 non-null    object \n",
      " 5   passenger_class     889 non-null    object \n",
      " 6   passenger_sex       889 non-null    object \n",
      " 7   passenger_survived  889 non-null    object \n",
      "dtypes: float64(2), int64(2), object(4)\n",
      "memory usage: 62.5+ KB\n"
     ]
    }
   ],
   "source": [
    "df.info()"
   ]
  },
  {
   "cell_type": "markdown",
   "id": "lovely-sucking",
   "metadata": {},
   "source": [
    "#### Add new Attributes"
   ]
  },
  {
   "cell_type": "code",
   "execution_count": 1919,
   "id": "logical-slave",
   "metadata": {},
   "outputs": [],
   "source": [
    "df[\"has_fam\"] = (df[\"SibSp\"] + df[\"Parch\"]) > 0"
   ]
  },
  {
   "cell_type": "markdown",
   "id": "formal-package",
   "metadata": {},
   "source": [
    "#### Scale continuos attributes"
   ]
  },
  {
   "cell_type": "code",
   "execution_count": 1920,
   "id": "characteristic-verse",
   "metadata": {},
   "outputs": [],
   "source": [
    "df[[\"Age\", \"Fare\", \"Parch\", \"SibSp\"]] = normalize(df[[\"Age\", \"Fare\", \"Parch\", \"SibSp\"]]) "
   ]
  },
  {
   "cell_type": "markdown",
   "id": "relevant-validity",
   "metadata": {},
   "source": [
    "#### Encoding Categorical Variables\n",
    "\n",
    "##### One Hot Encoding"
   ]
  },
  {
   "cell_type": "code",
   "execution_count": 1921,
   "id": "instrumental-marathon",
   "metadata": {},
   "outputs": [
    {
     "data": {
      "text/html": [
       "<div>\n",
       "<style scoped>\n",
       "    .dataframe tbody tr th:only-of-type {\n",
       "        vertical-align: middle;\n",
       "    }\n",
       "\n",
       "    .dataframe tbody tr th {\n",
       "        vertical-align: top;\n",
       "    }\n",
       "\n",
       "    .dataframe thead th {\n",
       "        text-align: right;\n",
       "    }\n",
       "</style>\n",
       "<table border=\"1\" class=\"dataframe\">\n",
       "  <thead>\n",
       "    <tr style=\"text-align: right;\">\n",
       "      <th></th>\n",
       "      <th>Port_C</th>\n",
       "      <th>Port_Q</th>\n",
       "      <th>Port_S</th>\n",
       "    </tr>\n",
       "  </thead>\n",
       "  <tbody>\n",
       "    <tr>\n",
       "      <th>0</th>\n",
       "      <td>0</td>\n",
       "      <td>0</td>\n",
       "      <td>1</td>\n",
       "    </tr>\n",
       "    <tr>\n",
       "      <th>1</th>\n",
       "      <td>1</td>\n",
       "      <td>0</td>\n",
       "      <td>0</td>\n",
       "    </tr>\n",
       "    <tr>\n",
       "      <th>2</th>\n",
       "      <td>0</td>\n",
       "      <td>0</td>\n",
       "      <td>1</td>\n",
       "    </tr>\n",
       "    <tr>\n",
       "      <th>3</th>\n",
       "      <td>0</td>\n",
       "      <td>0</td>\n",
       "      <td>1</td>\n",
       "    </tr>\n",
       "    <tr>\n",
       "      <th>4</th>\n",
       "      <td>0</td>\n",
       "      <td>0</td>\n",
       "      <td>1</td>\n",
       "    </tr>\n",
       "    <tr>\n",
       "      <th>...</th>\n",
       "      <td>...</td>\n",
       "      <td>...</td>\n",
       "      <td>...</td>\n",
       "    </tr>\n",
       "    <tr>\n",
       "      <th>886</th>\n",
       "      <td>0</td>\n",
       "      <td>0</td>\n",
       "      <td>1</td>\n",
       "    </tr>\n",
       "    <tr>\n",
       "      <th>887</th>\n",
       "      <td>0</td>\n",
       "      <td>0</td>\n",
       "      <td>1</td>\n",
       "    </tr>\n",
       "    <tr>\n",
       "      <th>888</th>\n",
       "      <td>0</td>\n",
       "      <td>0</td>\n",
       "      <td>1</td>\n",
       "    </tr>\n",
       "    <tr>\n",
       "      <th>889</th>\n",
       "      <td>1</td>\n",
       "      <td>0</td>\n",
       "      <td>0</td>\n",
       "    </tr>\n",
       "    <tr>\n",
       "      <th>890</th>\n",
       "      <td>0</td>\n",
       "      <td>1</td>\n",
       "      <td>0</td>\n",
       "    </tr>\n",
       "  </tbody>\n",
       "</table>\n",
       "<p>889 rows × 3 columns</p>\n",
       "</div>"
      ],
      "text/plain": [
       "     Port_C  Port_Q  Port_S\n",
       "0         0       0       1\n",
       "1         1       0       0\n",
       "2         0       0       1\n",
       "3         0       0       1\n",
       "4         0       0       1\n",
       "..      ...     ...     ...\n",
       "886       0       0       1\n",
       "887       0       0       1\n",
       "888       0       0       1\n",
       "889       1       0       0\n",
       "890       0       1       0\n",
       "\n",
       "[889 rows x 3 columns]"
      ]
     },
     "execution_count": 1921,
     "metadata": {},
     "output_type": "execute_result"
    }
   ],
   "source": [
    "embarked_ohe = pd.get_dummies(df[\"Embarked\"], prefix=\"Port\")\n",
    "embarked_ohe"
   ]
  },
  {
   "cell_type": "code",
   "execution_count": 1922,
   "id": "signed-amendment",
   "metadata": {},
   "outputs": [
    {
     "data": {
      "text/html": [
       "<div>\n",
       "<style scoped>\n",
       "    .dataframe tbody tr th:only-of-type {\n",
       "        vertical-align: middle;\n",
       "    }\n",
       "\n",
       "    .dataframe tbody tr th {\n",
       "        vertical-align: top;\n",
       "    }\n",
       "\n",
       "    .dataframe thead th {\n",
       "        text-align: right;\n",
       "    }\n",
       "</style>\n",
       "<table border=\"1\" class=\"dataframe\">\n",
       "  <thead>\n",
       "    <tr style=\"text-align: right;\">\n",
       "      <th></th>\n",
       "      <th>Class_Lower</th>\n",
       "      <th>Class_Middle</th>\n",
       "      <th>Class_Upper</th>\n",
       "    </tr>\n",
       "  </thead>\n",
       "  <tbody>\n",
       "    <tr>\n",
       "      <th>0</th>\n",
       "      <td>1</td>\n",
       "      <td>0</td>\n",
       "      <td>0</td>\n",
       "    </tr>\n",
       "    <tr>\n",
       "      <th>1</th>\n",
       "      <td>0</td>\n",
       "      <td>0</td>\n",
       "      <td>1</td>\n",
       "    </tr>\n",
       "    <tr>\n",
       "      <th>2</th>\n",
       "      <td>1</td>\n",
       "      <td>0</td>\n",
       "      <td>0</td>\n",
       "    </tr>\n",
       "    <tr>\n",
       "      <th>3</th>\n",
       "      <td>0</td>\n",
       "      <td>0</td>\n",
       "      <td>1</td>\n",
       "    </tr>\n",
       "    <tr>\n",
       "      <th>4</th>\n",
       "      <td>1</td>\n",
       "      <td>0</td>\n",
       "      <td>0</td>\n",
       "    </tr>\n",
       "    <tr>\n",
       "      <th>...</th>\n",
       "      <td>...</td>\n",
       "      <td>...</td>\n",
       "      <td>...</td>\n",
       "    </tr>\n",
       "    <tr>\n",
       "      <th>886</th>\n",
       "      <td>0</td>\n",
       "      <td>1</td>\n",
       "      <td>0</td>\n",
       "    </tr>\n",
       "    <tr>\n",
       "      <th>887</th>\n",
       "      <td>0</td>\n",
       "      <td>0</td>\n",
       "      <td>1</td>\n",
       "    </tr>\n",
       "    <tr>\n",
       "      <th>888</th>\n",
       "      <td>1</td>\n",
       "      <td>0</td>\n",
       "      <td>0</td>\n",
       "    </tr>\n",
       "    <tr>\n",
       "      <th>889</th>\n",
       "      <td>0</td>\n",
       "      <td>0</td>\n",
       "      <td>1</td>\n",
       "    </tr>\n",
       "    <tr>\n",
       "      <th>890</th>\n",
       "      <td>1</td>\n",
       "      <td>0</td>\n",
       "      <td>0</td>\n",
       "    </tr>\n",
       "  </tbody>\n",
       "</table>\n",
       "<p>889 rows × 3 columns</p>\n",
       "</div>"
      ],
      "text/plain": [
       "     Class_Lower  Class_Middle  Class_Upper\n",
       "0              1             0            0\n",
       "1              0             0            1\n",
       "2              1             0            0\n",
       "3              0             0            1\n",
       "4              1             0            0\n",
       "..           ...           ...          ...\n",
       "886            0             1            0\n",
       "887            0             0            1\n",
       "888            1             0            0\n",
       "889            0             0            1\n",
       "890            1             0            0\n",
       "\n",
       "[889 rows x 3 columns]"
      ]
     },
     "execution_count": 1922,
     "metadata": {},
     "output_type": "execute_result"
    }
   ],
   "source": [
    "class_ohe = pd.get_dummies(df[\"passenger_class\"], prefix=\"Class\")\n",
    "class_ohe"
   ]
  },
  {
   "cell_type": "code",
   "execution_count": 1923,
   "id": "sorted-legend",
   "metadata": {},
   "outputs": [],
   "source": [
    "df = pd.concat([class_ohe, embarked_ohe, df], axis=1)"
   ]
  },
  {
   "cell_type": "code",
   "execution_count": 1924,
   "id": "unknown-manitoba",
   "metadata": {},
   "outputs": [
    {
     "data": {
      "text/html": [
       "<div>\n",
       "<style scoped>\n",
       "    .dataframe tbody tr th:only-of-type {\n",
       "        vertical-align: middle;\n",
       "    }\n",
       "\n",
       "    .dataframe tbody tr th {\n",
       "        vertical-align: top;\n",
       "    }\n",
       "\n",
       "    .dataframe thead th {\n",
       "        text-align: right;\n",
       "    }\n",
       "</style>\n",
       "<table border=\"1\" class=\"dataframe\">\n",
       "  <thead>\n",
       "    <tr style=\"text-align: right;\">\n",
       "      <th></th>\n",
       "      <th>Class_Lower</th>\n",
       "      <th>Class_Middle</th>\n",
       "      <th>Class_Upper</th>\n",
       "      <th>Port_C</th>\n",
       "      <th>Port_Q</th>\n",
       "      <th>Port_S</th>\n",
       "      <th>Age</th>\n",
       "      <th>SibSp</th>\n",
       "      <th>Parch</th>\n",
       "      <th>Fare</th>\n",
       "      <th>Embarked</th>\n",
       "      <th>passenger_class</th>\n",
       "      <th>passenger_sex</th>\n",
       "      <th>passenger_survived</th>\n",
       "      <th>has_fam</th>\n",
       "    </tr>\n",
       "  </thead>\n",
       "  <tbody>\n",
       "    <tr>\n",
       "      <th>0</th>\n",
       "      <td>1</td>\n",
       "      <td>0</td>\n",
       "      <td>0</td>\n",
       "      <td>0</td>\n",
       "      <td>0</td>\n",
       "      <td>1</td>\n",
       "      <td>0.948873</td>\n",
       "      <td>0.043131</td>\n",
       "      <td>0.000000</td>\n",
       "      <td>0.312697</td>\n",
       "      <td>S</td>\n",
       "      <td>Lower</td>\n",
       "      <td>M</td>\n",
       "      <td>N</td>\n",
       "      <td>True</td>\n",
       "    </tr>\n",
       "    <tr>\n",
       "      <th>1</th>\n",
       "      <td>0</td>\n",
       "      <td>0</td>\n",
       "      <td>1</td>\n",
       "      <td>1</td>\n",
       "      <td>0</td>\n",
       "      <td>0</td>\n",
       "      <td>0.470381</td>\n",
       "      <td>0.012378</td>\n",
       "      <td>0.000000</td>\n",
       "      <td>0.882377</td>\n",
       "      <td>C</td>\n",
       "      <td>Upper</td>\n",
       "      <td>F</td>\n",
       "      <td>Y</td>\n",
       "      <td>True</td>\n",
       "    </tr>\n",
       "    <tr>\n",
       "      <th>2</th>\n",
       "      <td>1</td>\n",
       "      <td>0</td>\n",
       "      <td>0</td>\n",
       "      <td>0</td>\n",
       "      <td>0</td>\n",
       "      <td>1</td>\n",
       "      <td>0.956551</td>\n",
       "      <td>0.000000</td>\n",
       "      <td>0.000000</td>\n",
       "      <td>0.291564</td>\n",
       "      <td>S</td>\n",
       "      <td>Lower</td>\n",
       "      <td>F</td>\n",
       "      <td>Y</td>\n",
       "      <td>False</td>\n",
       "    </tr>\n",
       "    <tr>\n",
       "      <th>3</th>\n",
       "      <td>0</td>\n",
       "      <td>0</td>\n",
       "      <td>1</td>\n",
       "      <td>0</td>\n",
       "      <td>0</td>\n",
       "      <td>1</td>\n",
       "      <td>0.550270</td>\n",
       "      <td>0.015722</td>\n",
       "      <td>0.000000</td>\n",
       "      <td>0.834839</td>\n",
       "      <td>S</td>\n",
       "      <td>Upper</td>\n",
       "      <td>F</td>\n",
       "      <td>Y</td>\n",
       "      <td>True</td>\n",
       "    </tr>\n",
       "    <tr>\n",
       "      <th>4</th>\n",
       "      <td>1</td>\n",
       "      <td>0</td>\n",
       "      <td>0</td>\n",
       "      <td>0</td>\n",
       "      <td>0</td>\n",
       "      <td>1</td>\n",
       "      <td>0.974555</td>\n",
       "      <td>0.000000</td>\n",
       "      <td>0.000000</td>\n",
       "      <td>0.224148</td>\n",
       "      <td>S</td>\n",
       "      <td>Lower</td>\n",
       "      <td>M</td>\n",
       "      <td>N</td>\n",
       "      <td>False</td>\n",
       "    </tr>\n",
       "    <tr>\n",
       "      <th>...</th>\n",
       "      <td>...</td>\n",
       "      <td>...</td>\n",
       "      <td>...</td>\n",
       "      <td>...</td>\n",
       "      <td>...</td>\n",
       "      <td>...</td>\n",
       "      <td>...</td>\n",
       "      <td>...</td>\n",
       "      <td>...</td>\n",
       "      <td>...</td>\n",
       "      <td>...</td>\n",
       "      <td>...</td>\n",
       "      <td>...</td>\n",
       "      <td>...</td>\n",
       "      <td>...</td>\n",
       "    </tr>\n",
       "    <tr>\n",
       "      <th>886</th>\n",
       "      <td>0</td>\n",
       "      <td>1</td>\n",
       "      <td>0</td>\n",
       "      <td>0</td>\n",
       "      <td>0</td>\n",
       "      <td>1</td>\n",
       "      <td>0.901002</td>\n",
       "      <td>0.000000</td>\n",
       "      <td>0.000000</td>\n",
       "      <td>0.433816</td>\n",
       "      <td>S</td>\n",
       "      <td>Middle</td>\n",
       "      <td>M</td>\n",
       "      <td>N</td>\n",
       "      <td>False</td>\n",
       "    </tr>\n",
       "    <tr>\n",
       "      <th>887</th>\n",
       "      <td>0</td>\n",
       "      <td>0</td>\n",
       "      <td>1</td>\n",
       "      <td>0</td>\n",
       "      <td>0</td>\n",
       "      <td>1</td>\n",
       "      <td>0.535052</td>\n",
       "      <td>0.000000</td>\n",
       "      <td>0.000000</td>\n",
       "      <td>0.844819</td>\n",
       "      <td>S</td>\n",
       "      <td>Upper</td>\n",
       "      <td>F</td>\n",
       "      <td>Y</td>\n",
       "      <td>False</td>\n",
       "    </tr>\n",
       "    <tr>\n",
       "      <th>888</th>\n",
       "      <td>1</td>\n",
       "      <td>0</td>\n",
       "      <td>0</td>\n",
       "      <td>0</td>\n",
       "      <td>0</td>\n",
       "      <td>1</td>\n",
       "      <td>0.765215</td>\n",
       "      <td>0.027329</td>\n",
       "      <td>0.054658</td>\n",
       "      <td>0.640868</td>\n",
       "      <td>S</td>\n",
       "      <td>Lower</td>\n",
       "      <td>F</td>\n",
       "      <td>N</td>\n",
       "      <td>True</td>\n",
       "    </tr>\n",
       "    <tr>\n",
       "      <th>889</th>\n",
       "      <td>0</td>\n",
       "      <td>0</td>\n",
       "      <td>1</td>\n",
       "      <td>1</td>\n",
       "      <td>0</td>\n",
       "      <td>0</td>\n",
       "      <td>0.654931</td>\n",
       "      <td>0.000000</td>\n",
       "      <td>0.000000</td>\n",
       "      <td>0.755689</td>\n",
       "      <td>C</td>\n",
       "      <td>Upper</td>\n",
       "      <td>M</td>\n",
       "      <td>Y</td>\n",
       "      <td>False</td>\n",
       "    </tr>\n",
       "    <tr>\n",
       "      <th>890</th>\n",
       "      <td>1</td>\n",
       "      <td>0</td>\n",
       "      <td>0</td>\n",
       "      <td>0</td>\n",
       "      <td>1</td>\n",
       "      <td>0</td>\n",
       "      <td>0.971903</td>\n",
       "      <td>0.000000</td>\n",
       "      <td>0.000000</td>\n",
       "      <td>0.235383</td>\n",
       "      <td>Q</td>\n",
       "      <td>Lower</td>\n",
       "      <td>M</td>\n",
       "      <td>N</td>\n",
       "      <td>False</td>\n",
       "    </tr>\n",
       "  </tbody>\n",
       "</table>\n",
       "<p>889 rows × 15 columns</p>\n",
       "</div>"
      ],
      "text/plain": [
       "     Class_Lower  Class_Middle  Class_Upper  Port_C  Port_Q  Port_S       Age  \\\n",
       "0              1             0            0       0       0       1  0.948873   \n",
       "1              0             0            1       1       0       0  0.470381   \n",
       "2              1             0            0       0       0       1  0.956551   \n",
       "3              0             0            1       0       0       1  0.550270   \n",
       "4              1             0            0       0       0       1  0.974555   \n",
       "..           ...           ...          ...     ...     ...     ...       ...   \n",
       "886            0             1            0       0       0       1  0.901002   \n",
       "887            0             0            1       0       0       1  0.535052   \n",
       "888            1             0            0       0       0       1  0.765215   \n",
       "889            0             0            1       1       0       0  0.654931   \n",
       "890            1             0            0       0       1       0  0.971903   \n",
       "\n",
       "        SibSp     Parch      Fare Embarked passenger_class passenger_sex  \\\n",
       "0    0.043131  0.000000  0.312697        S           Lower             M   \n",
       "1    0.012378  0.000000  0.882377        C           Upper             F   \n",
       "2    0.000000  0.000000  0.291564        S           Lower             F   \n",
       "3    0.015722  0.000000  0.834839        S           Upper             F   \n",
       "4    0.000000  0.000000  0.224148        S           Lower             M   \n",
       "..        ...       ...       ...      ...             ...           ...   \n",
       "886  0.000000  0.000000  0.433816        S          Middle             M   \n",
       "887  0.000000  0.000000  0.844819        S           Upper             F   \n",
       "888  0.027329  0.054658  0.640868        S           Lower             F   \n",
       "889  0.000000  0.000000  0.755689        C           Upper             M   \n",
       "890  0.000000  0.000000  0.235383        Q           Lower             M   \n",
       "\n",
       "    passenger_survived  has_fam  \n",
       "0                    N     True  \n",
       "1                    Y     True  \n",
       "2                    Y    False  \n",
       "3                    Y     True  \n",
       "4                    N    False  \n",
       "..                 ...      ...  \n",
       "886                  N    False  \n",
       "887                  Y    False  \n",
       "888                  N     True  \n",
       "889                  Y    False  \n",
       "890                  N    False  \n",
       "\n",
       "[889 rows x 15 columns]"
      ]
     },
     "execution_count": 1924,
     "metadata": {},
     "output_type": "execute_result"
    }
   ],
   "source": [
    "df"
   ]
  },
  {
   "cell_type": "markdown",
   "id": "north-wrapping",
   "metadata": {},
   "source": [
    "##### Encode Binary Variables"
   ]
  },
  {
   "cell_type": "code",
   "execution_count": 1925,
   "id": "broad-complement",
   "metadata": {},
   "outputs": [],
   "source": [
    "df['passenger_sex'] = df['passenger_sex'].replace('M',1)\n",
    "df['passenger_sex'] = df['passenger_sex'].replace('F',0)\n",
    "\n",
    "df['passenger_survived'] = df['passenger_survived'].replace('Y',1)\n",
    "df['passenger_survived'] = df['passenger_survived'].replace('N',0)\n",
    "\n",
    "df['has_fam'] = df['has_fam'].replace(True,1)\n",
    "df['has_fam'] = df['has_fam'].replace(False,0)"
   ]
  },
  {
   "cell_type": "code",
   "execution_count": 1926,
   "id": "quarterly-canvas",
   "metadata": {},
   "outputs": [
    {
     "data": {
      "text/html": [
       "<div>\n",
       "<style scoped>\n",
       "    .dataframe tbody tr th:only-of-type {\n",
       "        vertical-align: middle;\n",
       "    }\n",
       "\n",
       "    .dataframe tbody tr th {\n",
       "        vertical-align: top;\n",
       "    }\n",
       "\n",
       "    .dataframe thead th {\n",
       "        text-align: right;\n",
       "    }\n",
       "</style>\n",
       "<table border=\"1\" class=\"dataframe\">\n",
       "  <thead>\n",
       "    <tr style=\"text-align: right;\">\n",
       "      <th></th>\n",
       "      <th>Class_Lower</th>\n",
       "      <th>Class_Middle</th>\n",
       "      <th>Class_Upper</th>\n",
       "      <th>Port_C</th>\n",
       "      <th>Port_Q</th>\n",
       "      <th>Port_S</th>\n",
       "      <th>Age</th>\n",
       "      <th>SibSp</th>\n",
       "      <th>Parch</th>\n",
       "      <th>Fare</th>\n",
       "      <th>Embarked</th>\n",
       "      <th>passenger_class</th>\n",
       "      <th>passenger_sex</th>\n",
       "      <th>passenger_survived</th>\n",
       "      <th>has_fam</th>\n",
       "    </tr>\n",
       "  </thead>\n",
       "  <tbody>\n",
       "    <tr>\n",
       "      <th>0</th>\n",
       "      <td>1</td>\n",
       "      <td>0</td>\n",
       "      <td>0</td>\n",
       "      <td>0</td>\n",
       "      <td>0</td>\n",
       "      <td>1</td>\n",
       "      <td>0.948873</td>\n",
       "      <td>0.043131</td>\n",
       "      <td>0.000000</td>\n",
       "      <td>0.312697</td>\n",
       "      <td>S</td>\n",
       "      <td>Lower</td>\n",
       "      <td>1</td>\n",
       "      <td>0</td>\n",
       "      <td>1</td>\n",
       "    </tr>\n",
       "    <tr>\n",
       "      <th>1</th>\n",
       "      <td>0</td>\n",
       "      <td>0</td>\n",
       "      <td>1</td>\n",
       "      <td>1</td>\n",
       "      <td>0</td>\n",
       "      <td>0</td>\n",
       "      <td>0.470381</td>\n",
       "      <td>0.012378</td>\n",
       "      <td>0.000000</td>\n",
       "      <td>0.882377</td>\n",
       "      <td>C</td>\n",
       "      <td>Upper</td>\n",
       "      <td>0</td>\n",
       "      <td>1</td>\n",
       "      <td>1</td>\n",
       "    </tr>\n",
       "    <tr>\n",
       "      <th>2</th>\n",
       "      <td>1</td>\n",
       "      <td>0</td>\n",
       "      <td>0</td>\n",
       "      <td>0</td>\n",
       "      <td>0</td>\n",
       "      <td>1</td>\n",
       "      <td>0.956551</td>\n",
       "      <td>0.000000</td>\n",
       "      <td>0.000000</td>\n",
       "      <td>0.291564</td>\n",
       "      <td>S</td>\n",
       "      <td>Lower</td>\n",
       "      <td>0</td>\n",
       "      <td>1</td>\n",
       "      <td>0</td>\n",
       "    </tr>\n",
       "    <tr>\n",
       "      <th>3</th>\n",
       "      <td>0</td>\n",
       "      <td>0</td>\n",
       "      <td>1</td>\n",
       "      <td>0</td>\n",
       "      <td>0</td>\n",
       "      <td>1</td>\n",
       "      <td>0.550270</td>\n",
       "      <td>0.015722</td>\n",
       "      <td>0.000000</td>\n",
       "      <td>0.834839</td>\n",
       "      <td>S</td>\n",
       "      <td>Upper</td>\n",
       "      <td>0</td>\n",
       "      <td>1</td>\n",
       "      <td>1</td>\n",
       "    </tr>\n",
       "    <tr>\n",
       "      <th>4</th>\n",
       "      <td>1</td>\n",
       "      <td>0</td>\n",
       "      <td>0</td>\n",
       "      <td>0</td>\n",
       "      <td>0</td>\n",
       "      <td>1</td>\n",
       "      <td>0.974555</td>\n",
       "      <td>0.000000</td>\n",
       "      <td>0.000000</td>\n",
       "      <td>0.224148</td>\n",
       "      <td>S</td>\n",
       "      <td>Lower</td>\n",
       "      <td>1</td>\n",
       "      <td>0</td>\n",
       "      <td>0</td>\n",
       "    </tr>\n",
       "    <tr>\n",
       "      <th>...</th>\n",
       "      <td>...</td>\n",
       "      <td>...</td>\n",
       "      <td>...</td>\n",
       "      <td>...</td>\n",
       "      <td>...</td>\n",
       "      <td>...</td>\n",
       "      <td>...</td>\n",
       "      <td>...</td>\n",
       "      <td>...</td>\n",
       "      <td>...</td>\n",
       "      <td>...</td>\n",
       "      <td>...</td>\n",
       "      <td>...</td>\n",
       "      <td>...</td>\n",
       "      <td>...</td>\n",
       "    </tr>\n",
       "    <tr>\n",
       "      <th>886</th>\n",
       "      <td>0</td>\n",
       "      <td>1</td>\n",
       "      <td>0</td>\n",
       "      <td>0</td>\n",
       "      <td>0</td>\n",
       "      <td>1</td>\n",
       "      <td>0.901002</td>\n",
       "      <td>0.000000</td>\n",
       "      <td>0.000000</td>\n",
       "      <td>0.433816</td>\n",
       "      <td>S</td>\n",
       "      <td>Middle</td>\n",
       "      <td>1</td>\n",
       "      <td>0</td>\n",
       "      <td>0</td>\n",
       "    </tr>\n",
       "    <tr>\n",
       "      <th>887</th>\n",
       "      <td>0</td>\n",
       "      <td>0</td>\n",
       "      <td>1</td>\n",
       "      <td>0</td>\n",
       "      <td>0</td>\n",
       "      <td>1</td>\n",
       "      <td>0.535052</td>\n",
       "      <td>0.000000</td>\n",
       "      <td>0.000000</td>\n",
       "      <td>0.844819</td>\n",
       "      <td>S</td>\n",
       "      <td>Upper</td>\n",
       "      <td>0</td>\n",
       "      <td>1</td>\n",
       "      <td>0</td>\n",
       "    </tr>\n",
       "    <tr>\n",
       "      <th>888</th>\n",
       "      <td>1</td>\n",
       "      <td>0</td>\n",
       "      <td>0</td>\n",
       "      <td>0</td>\n",
       "      <td>0</td>\n",
       "      <td>1</td>\n",
       "      <td>0.765215</td>\n",
       "      <td>0.027329</td>\n",
       "      <td>0.054658</td>\n",
       "      <td>0.640868</td>\n",
       "      <td>S</td>\n",
       "      <td>Lower</td>\n",
       "      <td>0</td>\n",
       "      <td>0</td>\n",
       "      <td>1</td>\n",
       "    </tr>\n",
       "    <tr>\n",
       "      <th>889</th>\n",
       "      <td>0</td>\n",
       "      <td>0</td>\n",
       "      <td>1</td>\n",
       "      <td>1</td>\n",
       "      <td>0</td>\n",
       "      <td>0</td>\n",
       "      <td>0.654931</td>\n",
       "      <td>0.000000</td>\n",
       "      <td>0.000000</td>\n",
       "      <td>0.755689</td>\n",
       "      <td>C</td>\n",
       "      <td>Upper</td>\n",
       "      <td>1</td>\n",
       "      <td>1</td>\n",
       "      <td>0</td>\n",
       "    </tr>\n",
       "    <tr>\n",
       "      <th>890</th>\n",
       "      <td>1</td>\n",
       "      <td>0</td>\n",
       "      <td>0</td>\n",
       "      <td>0</td>\n",
       "      <td>1</td>\n",
       "      <td>0</td>\n",
       "      <td>0.971903</td>\n",
       "      <td>0.000000</td>\n",
       "      <td>0.000000</td>\n",
       "      <td>0.235383</td>\n",
       "      <td>Q</td>\n",
       "      <td>Lower</td>\n",
       "      <td>1</td>\n",
       "      <td>0</td>\n",
       "      <td>0</td>\n",
       "    </tr>\n",
       "  </tbody>\n",
       "</table>\n",
       "<p>889 rows × 15 columns</p>\n",
       "</div>"
      ],
      "text/plain": [
       "     Class_Lower  Class_Middle  Class_Upper  Port_C  Port_Q  Port_S       Age  \\\n",
       "0              1             0            0       0       0       1  0.948873   \n",
       "1              0             0            1       1       0       0  0.470381   \n",
       "2              1             0            0       0       0       1  0.956551   \n",
       "3              0             0            1       0       0       1  0.550270   \n",
       "4              1             0            0       0       0       1  0.974555   \n",
       "..           ...           ...          ...     ...     ...     ...       ...   \n",
       "886            0             1            0       0       0       1  0.901002   \n",
       "887            0             0            1       0       0       1  0.535052   \n",
       "888            1             0            0       0       0       1  0.765215   \n",
       "889            0             0            1       1       0       0  0.654931   \n",
       "890            1             0            0       0       1       0  0.971903   \n",
       "\n",
       "        SibSp     Parch      Fare Embarked passenger_class  passenger_sex  \\\n",
       "0    0.043131  0.000000  0.312697        S           Lower              1   \n",
       "1    0.012378  0.000000  0.882377        C           Upper              0   \n",
       "2    0.000000  0.000000  0.291564        S           Lower              0   \n",
       "3    0.015722  0.000000  0.834839        S           Upper              0   \n",
       "4    0.000000  0.000000  0.224148        S           Lower              1   \n",
       "..        ...       ...       ...      ...             ...            ...   \n",
       "886  0.000000  0.000000  0.433816        S          Middle              1   \n",
       "887  0.000000  0.000000  0.844819        S           Upper              0   \n",
       "888  0.027329  0.054658  0.640868        S           Lower              0   \n",
       "889  0.000000  0.000000  0.755689        C           Upper              1   \n",
       "890  0.000000  0.000000  0.235383        Q           Lower              1   \n",
       "\n",
       "     passenger_survived  has_fam  \n",
       "0                     0        1  \n",
       "1                     1        1  \n",
       "2                     1        0  \n",
       "3                     1        1  \n",
       "4                     0        0  \n",
       "..                  ...      ...  \n",
       "886                   0        0  \n",
       "887                   1        0  \n",
       "888                   0        1  \n",
       "889                   1        0  \n",
       "890                   0        0  \n",
       "\n",
       "[889 rows x 15 columns]"
      ]
     },
     "execution_count": 1926,
     "metadata": {},
     "output_type": "execute_result"
    }
   ],
   "source": [
    "df"
   ]
  },
  {
   "cell_type": "markdown",
   "id": "bridal-response",
   "metadata": {},
   "source": [
    "## Split Data Train/Val/Test\n"
   ]
  },
  {
   "cell_type": "code",
   "execution_count": 1927,
   "id": "heard-currency",
   "metadata": {},
   "outputs": [],
   "source": [
    "y = df[\"passenger_survived\"]\n",
    "x = df.drop(columns=[\"passenger_survived\"])"
   ]
  },
  {
   "cell_type": "code",
   "execution_count": 1928,
   "id": "suspected-ordinary",
   "metadata": {},
   "outputs": [],
   "source": [
    "x_train, x_val, y_train, y_val = train_test_split(x, y, test_size=0.2, random_state=1)\n",
    "x_train, x_test, y_train, y_test = train_test_split(x_train, y_train, test_size=0.2, random_state=1)"
   ]
  },
  {
   "cell_type": "markdown",
   "id": "thorough-service",
   "metadata": {},
   "source": [
    "#### Save Test Set"
   ]
  },
  {
   "cell_type": "code",
   "execution_count": 1929,
   "id": "informational-memphis",
   "metadata": {},
   "outputs": [
    {
     "data": {
      "text/plain": [
       "['target_test.joblib']"
      ]
     },
     "execution_count": 1929,
     "metadata": {},
     "output_type": "execute_result"
    }
   ],
   "source": [
    "dump(x_test, 'x_test.joblib')\n",
    "dump(y_test, 'target_test.joblib')"
   ]
  },
  {
   "cell_type": "code",
   "execution_count": 1930,
   "id": "abandoned-foster",
   "metadata": {},
   "outputs": [
    {
     "name": "stdout",
     "output_type": "stream",
     "text": [
      "(568, 11)\n",
      "(178, 11)\n",
      "(143, 11)\n",
      "(568,)\n",
      "(178,)\n",
      "(143,)\n"
     ]
    }
   ],
   "source": [
    "### naive bayes does not need OHE\n",
    "x_train_nb = x_train\n",
    "x_val_nb = x_val\n",
    "x_test_nb = x_test\n",
    "\n",
    "x_train = x_train.drop(columns=[\"Embarked\", \"passenger_class\", \"has_fam\"])\n",
    "x_val = x_val.drop(columns=[\"Embarked\", \"passenger_class\", \"has_fam\"])\n",
    "x_test = x_test.drop(columns=[\"Embarked\", \"passenger_class\", \"has_fam\"])\n",
    "\n",
    "print(x_train.shape, x_val.shape, x_test.shape, sep=\"\\n\")\n",
    "print(y_train.shape, y_val.shape, y_test.shape, sep=\"\\n\")"
   ]
  },
  {
   "cell_type": "markdown",
   "id": "deluxe-religious",
   "metadata": {},
   "source": [
    "## Model Trainning\n"
   ]
  },
  {
   "cell_type": "code",
   "execution_count": 1931,
   "id": "medium-count",
   "metadata": {},
   "outputs": [],
   "source": [
    "from sklearn.metrics import precision_recall_fscore_support, accuracy_score\n",
    "import csv\n",
    "\n",
    "def get_metrics(y_true, y_hat):\n",
    "    performance = np.mean(np.array(precision_recall_fscore_support(y_true, y_hat)), axis=1)\n",
    "    performance[-1] = accuracy_score(y_true, y_hat)\n",
    "    return performance\n",
    "\n",
    "def build_logger(file_name):\n",
    "    with open(file_name, \"w\", encoding=\"utf-8\", newline=\"\\n\") as f:\n",
    "        csv_writer = csv.writer(f, delimiter=\",\", quoting=csv.QUOTE_NONE)\n",
    "        csv_writer.writerow([\"Model\", \"Config\", \"precision_train\", \"recall_train\", \"f-score_train\", \"accuracy_train\", \"precision_val\", \"recall_val\", \"f-score_val\", \"accuracy_val\", \"datetime\"])\n",
    "    def logger_csv(model_name, config_string, performance_trainning, performance_val):\n",
    "        # precision, recall, fscore, acurracy\n",
    "        entry = [model_name, config_string, *tuple(performance_trainning), *tuple(performance_val), datetime.today().strftime('%Y%m%d-%H%M%S')]\n",
    "        with open(file_name, \"a+\", encoding=\"utf-8\", newline=\"\\n\") as f:\n",
    "            csv_writer = csv.writer(f, delimiter=\",\", quoting=csv.QUOTE_NONE)\n",
    "            csv_writer.writerow(entry)          \n",
    "    return logger_csv"
   ]
  },
  {
   "cell_type": "code",
   "execution_count": 1932,
   "id": "27c89199-df7a-43d5-a93e-38bc56d0b892",
   "metadata": {},
   "outputs": [],
   "source": [
    "csv_logger = build_logger(\"experiments.csv\")"
   ]
  },
  {
   "cell_type": "markdown",
   "id": "senior-topic",
   "metadata": {},
   "source": [
    "\n",
    "### Decision Tree"
   ]
  },
  {
   "cell_type": "code",
   "execution_count": 1933,
   "id": "emotional-committee",
   "metadata": {},
   "outputs": [],
   "source": [
    "\n",
    "def dtc_train(x_train, y_train, max_features=None, max_depth=None, min_samples_split = 2, min_samples_leaf = 1):   \n",
    "    model = DecisionTreeClassifier(max_depth = max_depth, max_features=max_features)\n",
    "    model.fit(x_train, y_train)\n",
    "    return model\n",
    "\n",
    "def dtc_run(x_train, y_train, x_val, y_val, max_features=None, max_depth=None, min_samples_split = 2, min_samples_leaf = 1, logger=lambda *x: print(*x, sep=' ')):\n",
    "    name = f\"train/dtc_max_features={max_features}_max_depth={max_depth}_min_sample_split_{min_samples_split}_min_samples_leaf_{min_samples_leaf}_{datetime.today().strftime('%Y%m%d-%H%M%S')}\"\n",
    "    model = dtc_train(x_train, y_train, max_features=max_features, max_depth=max_depth)\n",
    "    y_hat_train = model.predict(x_train)\n",
    "    y_hat_val = model.predict(x_val)\n",
    "    logger(\"DecisionTree\", name, get_metrics(y_train, y_hat_train), get_metrics(y_val, y_hat_val))\n",
    "    report = classification_report(y_val, y_hat_val)\n",
    "    print(name, report, sep='\\n')\n",
    "    return model"
   ]
  },
  {
   "cell_type": "code",
   "execution_count": 1934,
   "id": "98b3a508-6241-4979-88ac-3d183980f88b",
   "metadata": {},
   "outputs": [
    {
     "name": "stdout",
     "output_type": "stream",
     "text": [
      "train/dtc_max_features=None_max_depth=None_min_sample_split_2_min_samples_leaf_1_20210704-031437\n",
      "              precision    recall  f1-score   support\n",
      "\n",
      "           0       0.79      0.78      0.78       105\n",
      "           1       0.69      0.70      0.69        73\n",
      "\n",
      "    accuracy                           0.75       178\n",
      "   macro avg       0.74      0.74      0.74       178\n",
      "weighted avg       0.75      0.75      0.75       178\n",
      "\n",
      "Train Acurracy: 0.9823943661971831\n",
      "Accuracy Val: 0.7471910112359551\n"
     ]
    }
   ],
   "source": [
    "model = dtc_run(x_train, y_train, x_val, y_val, logger=csv_logger)\n",
    "train_acc = model.score(x_train, y_train)\n",
    "val_acc = model.score(x_val, y_val)\n",
    "print(f\"Train Acurracy: {train_acc}\", f\"Accuracy Val: {val_acc}\", sep=\"\\n\")"
   ]
  },
  {
   "cell_type": "code",
   "execution_count": 1935,
   "id": "5342806f-8f4e-46f8-8450-e665a62dee67",
   "metadata": {},
   "outputs": [
    {
     "name": "stdout",
     "output_type": "stream",
     "text": [
      "train/dtc_max_features=10_max_depth=20_min_sample_split_2_min_samples_leaf_1_20210704-031437\n",
      "              precision    recall  f1-score   support\n",
      "\n",
      "           0       0.80      0.78      0.79       105\n",
      "           1       0.69      0.71      0.70        73\n",
      "\n",
      "    accuracy                           0.75       178\n",
      "   macro avg       0.74      0.75      0.75       178\n",
      "weighted avg       0.75      0.75      0.75       178\n",
      "\n",
      "Train Acurracy: 0.9823943661971831\n",
      "Accuracy Val: 0.7528089887640449\n"
     ]
    }
   ],
   "source": [
    "model = dtc_run(x_train, y_train, x_val, y_val, max_depth = 20, max_features=10, logger=csv_logger)\n",
    "train_acc = model.score(x_train, y_train)\n",
    "val_acc = model.score(x_val, y_val)\n",
    "print(f\"Train Acurracy: {train_acc}\", f\"Accuracy Val: {val_acc}\", sep=\"\\n\")"
   ]
  },
  {
   "cell_type": "code",
   "execution_count": 1936,
   "id": "cf7d642a-4888-45a6-a8a8-85aff8eac26d",
   "metadata": {},
   "outputs": [
    {
     "name": "stdout",
     "output_type": "stream",
     "text": [
      "train/dtc_max_features=10_max_depth=64_min_sample_split_2_min_samples_leaf_1_20210704-031437\n",
      "              precision    recall  f1-score   support\n",
      "\n",
      "           0       0.77      0.78      0.78       105\n",
      "           1       0.68      0.67      0.68        73\n",
      "\n",
      "    accuracy                           0.74       178\n",
      "   macro avg       0.73      0.73      0.73       178\n",
      "weighted avg       0.74      0.74      0.74       178\n",
      "\n",
      "Train Acurracy: 0.9823943661971831\n",
      "Accuracy Val: 0.7359550561797753\n"
     ]
    }
   ],
   "source": [
    "model = dtc_run(x_train, y_train, x_val, y_val, max_depth = 64, max_features=10, logger=csv_logger)\n",
    "train_acc = model.score(x_train, y_train)\n",
    "val_acc = model.score(x_val, y_val)\n",
    "print(f\"Train Acurracy: {train_acc}\", f\"Accuracy Val: {val_acc}\", sep=\"\\n\")"
   ]
  },
  {
   "cell_type": "code",
   "execution_count": 1937,
   "id": "4f0c0825-3c57-4761-8f51-f4aef11506a6",
   "metadata": {},
   "outputs": [
    {
     "name": "stdout",
     "output_type": "stream",
     "text": [
      "train/dtc_max_features=8_max_depth=4_min_sample_split_5_min_samples_leaf_11_20210704-031437\n",
      "              precision    recall  f1-score   support\n",
      "\n",
      "           0       0.79      0.86      0.82       105\n",
      "           1       0.77      0.67      0.72        73\n",
      "\n",
      "    accuracy                           0.78       178\n",
      "   macro avg       0.78      0.76      0.77       178\n",
      "weighted avg       0.78      0.78      0.78       178\n",
      "\n",
      "Train Acurracy: 0.8204225352112676\n",
      "Accuracy Val: 0.7808988764044944\n"
     ]
    }
   ],
   "source": [
    "model_dtc = dtc_run(x_train, y_train, x_val, y_val, max_features=8, max_depth = 4, min_samples_split = 5, min_samples_leaf = 11, logger=csv_logger)\n",
    "train_acc = model_dtc.score(x_train, y_train)\n",
    "val_acc = model_dtc.score(x_val, y_val)\n",
    "print(f\"Train Acurracy: {train_acc}\", f\"Accuracy Val: {val_acc}\", sep=\"\\n\")"
   ]
  },
  {
   "cell_type": "code",
   "execution_count": 1938,
   "id": "3c535712-3ff3-4a4f-b49e-119b497d6663",
   "metadata": {},
   "outputs": [],
   "source": [
    "y_hat_dtc = model_dtc.predict(x_val)"
   ]
  },
  {
   "cell_type": "markdown",
   "id": "cultural-yeast",
   "metadata": {},
   "source": [
    "### SVM "
   ]
  },
  {
   "cell_type": "code",
   "execution_count": 1939,
   "id": "brief-washer",
   "metadata": {},
   "outputs": [],
   "source": [
    "from sklearn.metrics import classification_report\n",
    "def svm_train(x_train, y_train, C, kernel=\"rbf\"):\n",
    "    model = svm.SVC(C=C, kernel=kernel)\n",
    "    return model.fit(x_train, y_train)\n",
    "\n",
    "def svm_run(x_train, y_train, x_val, y_val, C=1, kernel=\"rbf\", logger=lambda *x: print(*x, sep='\\n')):\n",
    "    name = f\"train/svm_C={C}_kernel={kernel}_{datetime.today().strftime('%Y%m%d-%H%M%S')}\"\n",
    "    model = svm_train(x_train, y_train, C, kernel)\n",
    "    y_hat_train = model.predict(x_train)\n",
    "    y_hat_val = model.predict(x_val)\n",
    "    logger(\"SVM\", name, get_metrics(y_train, y_hat_train), get_metrics(y_val, y_hat_val))\n",
    "    report = classification_report(y_val, y_hat_val)\n",
    "    print(name, report, sep='\\n')\n",
    "    return model"
   ]
  },
  {
   "cell_type": "code",
   "execution_count": 1940,
   "id": "3f2c99b9-cfd8-4f52-ace0-9b444aac07f7",
   "metadata": {},
   "outputs": [
    {
     "name": "stdout",
     "output_type": "stream",
     "text": [
      "train/svm_C=1_kernel=rbf_20210704-031437\n",
      "              precision    recall  f1-score   support\n",
      "\n",
      "           0       0.77      0.97      0.86       105\n",
      "           1       0.93      0.58      0.71        73\n",
      "\n",
      "    accuracy                           0.81       178\n",
      "   macro avg       0.85      0.77      0.78       178\n",
      "weighted avg       0.84      0.81      0.80       178\n",
      "\n",
      "Train Acurracy: 0.8116197183098591\n",
      "Accuracy Val: 0.8089887640449438\n"
     ]
    }
   ],
   "source": [
    "model = svm_run(x_train, y_train, x_val, y_val, logger=csv_logger)\n",
    "train_acc = model.score(x_train, y_train)\n",
    "val_acc = model.score(x_val, y_val)\n",
    "print(f\"Train Acurracy: {train_acc}\", f\"Accuracy Val: {val_acc}\", sep=\"\\n\")"
   ]
  },
  {
   "cell_type": "code",
   "execution_count": 1941,
   "id": "c794a6d8-e8ab-4f4c-b843-2bb035e033a4",
   "metadata": {},
   "outputs": [
    {
     "name": "stdout",
     "output_type": "stream",
     "text": [
      "train/svm_C=2_kernel=rbf_20210704-031437\n",
      "              precision    recall  f1-score   support\n",
      "\n",
      "           0       0.77      0.96      0.85       105\n",
      "           1       0.91      0.58      0.71        73\n",
      "\n",
      "    accuracy                           0.80       178\n",
      "   macro avg       0.84      0.77      0.78       178\n",
      "weighted avg       0.83      0.80      0.79       178\n",
      "\n",
      "Train Acurracy: 0.8133802816901409\n",
      "Accuracy Val: 0.8033707865168539\n"
     ]
    }
   ],
   "source": [
    "model = svm_run(x_train, y_train,x_val, y_val, C=2, logger=csv_logger)\n",
    "train_acc = model.score(x_train, y_train)\n",
    "val_acc = model.score(x_val, y_val)\n",
    "print(f\"Train Acurracy: {train_acc}\", f\"Accuracy Val: {val_acc}\", sep=\"\\n\")"
   ]
  },
  {
   "cell_type": "code",
   "execution_count": 1942,
   "id": "cfa40811-6438-4176-84a1-fa9baed35e59",
   "metadata": {},
   "outputs": [
    {
     "name": "stdout",
     "output_type": "stream",
     "text": [
      "train/svm_C=10_kernel=rbf_20210704-031438\n",
      "              precision    recall  f1-score   support\n",
      "\n",
      "           0       0.77      0.96      0.85       105\n",
      "           1       0.91      0.58      0.71        73\n",
      "\n",
      "    accuracy                           0.80       178\n",
      "   macro avg       0.84      0.77      0.78       178\n",
      "weighted avg       0.83      0.80      0.79       178\n",
      "\n",
      "Train Acurracy: 0.8133802816901409\n",
      "Accuracy Val: 0.8033707865168539\n"
     ]
    }
   ],
   "source": [
    "model = svm_run(x_train, y_train, x_val, y_val, C=10, logger=csv_logger)\n",
    "train_acc = model.score(x_train, y_train)\n",
    "val_acc = model.score(x_val, y_val)\n",
    "print(f\"Train Acurracy: {train_acc}\", f\"Accuracy Val: {val_acc}\", sep=\"\\n\")"
   ]
  },
  {
   "cell_type": "code",
   "execution_count": 1943,
   "id": "993cb106-d927-47ba-97bf-0e4ce3c195f2",
   "metadata": {},
   "outputs": [
    {
     "name": "stdout",
     "output_type": "stream",
     "text": [
      "train/svm_C=50_kernel=rbf_20210704-031438\n",
      "              precision    recall  f1-score   support\n",
      "\n",
      "           0       0.77      0.97      0.86       105\n",
      "           1       0.93      0.59      0.72        73\n",
      "\n",
      "    accuracy                           0.81       178\n",
      "   macro avg       0.85      0.78      0.79       178\n",
      "weighted avg       0.84      0.81      0.80       178\n",
      "\n",
      "Train Acurracy: 0.8204225352112676\n",
      "Accuracy Val: 0.8146067415730337\n"
     ]
    }
   ],
   "source": [
    "model = svm_run(x_train, y_train, x_val, y_val, C=50, logger=csv_logger)\n",
    "train_acc = model.score(x_train, y_train)\n",
    "val_acc = model.score(x_val, y_val)\n",
    "print(f\"Train Acurracy: {train_acc}\", f\"Accuracy Val: {val_acc}\", sep=\"\\n\")"
   ]
  },
  {
   "cell_type": "code",
   "execution_count": 1944,
   "id": "3e1f047c-3228-435e-8266-3e4f9b0fa74e",
   "metadata": {},
   "outputs": [
    {
     "name": "stdout",
     "output_type": "stream",
     "text": [
      "train/svm_C=100_kernel=rbf_20210704-031438\n",
      "              precision    recall  f1-score   support\n",
      "\n",
      "           0       0.77      0.93      0.84       105\n",
      "           1       0.86      0.59      0.70        73\n",
      "\n",
      "    accuracy                           0.79       178\n",
      "   macro avg       0.81      0.76      0.77       178\n",
      "weighted avg       0.80      0.79      0.78       178\n",
      "\n",
      "Train Acurracy: 0.8380281690140845\n",
      "Accuracy Val: 0.7921348314606742\n"
     ]
    }
   ],
   "source": [
    "model = svm_run(x_train, y_train, x_val, y_val, C=100, logger=csv_logger)\n",
    "train_acc = model.score(x_train, y_train)\n",
    "val_acc = model.score(x_val, y_val)\n",
    "print(f\"Train Acurracy: {train_acc}\", f\"Accuracy Val: {val_acc}\", sep=\"\\n\")"
   ]
  },
  {
   "cell_type": "code",
   "execution_count": 1945,
   "id": "79bb655e-9532-4bb1-bc0e-d0ecd5d3f81c",
   "metadata": {},
   "outputs": [
    {
     "name": "stdout",
     "output_type": "stream",
     "text": [
      "train/svm_C=50_kernel=linear_20210704-031438\n",
      "              precision    recall  f1-score   support\n",
      "\n",
      "           0       0.84      0.89      0.86       105\n",
      "           1       0.82      0.75      0.79        73\n",
      "\n",
      "    accuracy                           0.83       178\n",
      "   macro avg       0.83      0.82      0.82       178\n",
      "weighted avg       0.83      0.83      0.83       178\n",
      "\n",
      "Train Acurracy: 0.772887323943662\n",
      "Accuracy Val: 0.8314606741573034\n"
     ]
    }
   ],
   "source": [
    "model = svm_run(x_train, y_train, x_val, y_val, C=50, kernel=\"linear\", logger=csv_logger)\n",
    "train_acc = model.score(x_train, y_train)\n",
    "val_acc = model.score(x_val, y_val)\n",
    "print(f\"Train Acurracy: {train_acc}\", f\"Accuracy Val: {val_acc}\", sep=\"\\n\")"
   ]
  },
  {
   "cell_type": "code",
   "execution_count": 1946,
   "id": "39357969-3e9a-4c2b-ab1c-1aab8e86f490",
   "metadata": {},
   "outputs": [
    {
     "name": "stdout",
     "output_type": "stream",
     "text": [
      "train/svm_C=1_kernel=linear_20210704-031438\n",
      "              precision    recall  f1-score   support\n",
      "\n",
      "           0       0.84      0.89      0.86       105\n",
      "           1       0.82      0.75      0.79        73\n",
      "\n",
      "    accuracy                           0.83       178\n",
      "   macro avg       0.83      0.82      0.82       178\n",
      "weighted avg       0.83      0.83      0.83       178\n",
      "\n",
      "Train Acurracy: 0.772887323943662\n",
      "Accuracy Val: 0.8314606741573034\n"
     ]
    }
   ],
   "source": [
    "model_svm = svm_run(x_train, y_train, x_val, y_val, kernel=\"linear\", logger=csv_logger)\n",
    "train_acc = model_svm.score(x_train, y_train)\n",
    "val_acc = model_svm.score(x_val, y_val)\n",
    "print(f\"Train Acurracy: {train_acc}\", f\"Accuracy Val: {val_acc}\", sep=\"\\n\")"
   ]
  },
  {
   "cell_type": "code",
   "execution_count": 1947,
   "id": "49351d3e-223c-4c95-91c0-104685ff2f5d",
   "metadata": {},
   "outputs": [
    {
     "name": "stdout",
     "output_type": "stream",
     "text": [
      "train/svm_C=250_kernel=sigmoid_20210704-031438\n",
      "              precision    recall  f1-score   support\n",
      "\n",
      "           0       0.73      0.73      0.73       105\n",
      "           1       0.62      0.62      0.62        73\n",
      "\n",
      "    accuracy                           0.69       178\n",
      "   macro avg       0.67      0.67      0.67       178\n",
      "weighted avg       0.69      0.69      0.69       178\n",
      "\n",
      "Train Acurracy: 0.6883802816901409\n",
      "Accuracy Val: 0.6853932584269663\n"
     ]
    }
   ],
   "source": [
    "model = svm_run(x_train, y_train, x_val, y_val, C=250, kernel=\"sigmoid\", logger=csv_logger)\n",
    "train_acc = model.score(x_train, y_train)\n",
    "val_acc = model.score(x_val, y_val)\n",
    "print(f\"Train Acurracy: {train_acc}\", f\"Accuracy Val: {val_acc}\", sep=\"\\n\")"
   ]
  },
  {
   "cell_type": "markdown",
   "id": "6624cfa0-0443-4c1a-9e56-20ff4f49c057",
   "metadata": {},
   "source": [
    "##### BEST MODEL SVM: train/svm_C=25_kernel=linear_20210703-154112"
   ]
  },
  {
   "cell_type": "code",
   "execution_count": 1948,
   "id": "65383f78-0c0c-4a5b-8e35-9933962b6cff",
   "metadata": {},
   "outputs": [
    {
     "name": "stdout",
     "output_type": "stream",
     "text": [
      "train/svm_C=25_kernel=linear_20210704-031438\n",
      "              precision    recall  f1-score   support\n",
      "\n",
      "           0       0.84      0.89      0.86       105\n",
      "           1       0.82      0.75      0.79        73\n",
      "\n",
      "    accuracy                           0.83       178\n",
      "   macro avg       0.83      0.82      0.82       178\n",
      "weighted avg       0.83      0.83      0.83       178\n",
      "\n",
      "Train Acurracy: 0.772887323943662\n",
      "Accuracy Val: 0.8314606741573034\n"
     ]
    }
   ],
   "source": [
    "model_svm = svm_run(x_train, y_train, x_val, y_val, C=25, kernel=\"linear\", logger=csv_logger)\n",
    "train_acc = model_svm.score(x_train, y_train)\n",
    "val_acc = model_svm.score(x_val, y_val)\n",
    "print(f\"Train Acurracy: {train_acc}\", f\"Accuracy Val: {val_acc}\", sep=\"\\n\")"
   ]
  },
  {
   "cell_type": "code",
   "execution_count": 1949,
   "id": "acbe88ea-5724-4eb3-afe8-9aebfc27666d",
   "metadata": {},
   "outputs": [],
   "source": [
    "y_hat_svm = model_svm.predict(x_val)"
   ]
  },
  {
   "cell_type": "markdown",
   "id": "reduced-writer",
   "metadata": {},
   "source": [
    "### Naive Bayes"
   ]
  },
  {
   "cell_type": "code",
   "execution_count": 1950,
   "id": "useful-house",
   "metadata": {},
   "outputs": [],
   "source": [
    "from collections import defaultdict\n",
    "from scipy.stats import norm\n",
    "\n",
    "def naive_bayes_discrete(x_train, y_train):\n",
    "    likelihoods = defaultdict(dict)\n",
    "    classes = y_train.value_counts()\n",
    "    for out in classes.index.values: \n",
    "        x_outcome = x_train[y_train == out]\n",
    "        for col in x_train.columns:\n",
    "            likelihoods[out][col] = x_outcome[col].value_counts() / x_outcome.shape[0]\n",
    "    return likelihoods\n",
    "    \n",
    "    \n",
    "def naive_bayes_continous(x_train, y_train):\n",
    "    summary = {}\n",
    "    classes = y_train.value_counts()\n",
    "    for out in classes.index.values:\n",
    "        x_outcome = x_train[y_train == out]\n",
    "        summary[out] = pd.DataFrame({\"mean\": x_outcome.mean(), \"sd\": x_outcome.std(), \"n\": x_outcome.shape[0]})\n",
    "    return summary\n",
    "     \n",
    "    \n",
    "def naive_bayes_train(x_train, y_train, categorical=[], continous=[]):\n",
    "    prob_y = y_train.value_counts() / y_train.shape[0]\n",
    "    \n",
    "    continous_prob = naive_bayes_continous(x_train[continous], y_train)\n",
    "    discrete_summary = naive_bayes_discrete(x_train[categorical], y_train)\n",
    "    def predict(newdata):\n",
    "        data_cat = newdata[categorical]\n",
    "        data_cont = newdata[continous]\n",
    "        prob = []\n",
    "        for out in prob_y.index.values:\n",
    "            prob_cont = np.stack([norm(continous_prob[out].loc[col,:][\"mean\"], continous_prob[out].loc[col,:][\"sd\"]).cdf(newdata[col]) for col in data_cont.columns], axis=1) if continous else np.ones((newdata.shape[0],1))\n",
    "            prob_disc = np.stack([discrete_summary[out][col][data_cat[col]] for col in data_cat.columns], axis=1) if categorical else np.ones((newdata.shape[0],1))\n",
    "            prob.append(np.prod((np.concatenate([prob_cont, prob_disc], axis=1)), axis=1) * prob_y[out])\n",
    "        prob_classes = np.stack(prob, axis=1)\n",
    "        return np.argmax(prob_classes, axis = 1)\n",
    "    return predict\n",
    "    \n",
    "    "
   ]
  },
  {
   "cell_type": "code",
   "execution_count": 1951,
   "id": "4417c24c-323a-4a54-8744-d023f58236a4",
   "metadata": {},
   "outputs": [],
   "source": [
    "def log_results_nb(predict_nb, x_train, y_train, x_val, y_val, config, logger=lambda *x: print(*x, sep='\\n')):\n",
    "    y_hat_train = predict_nb(x_train)\n",
    "    acurracy_train = np.mean(y_hat_train == y_train)\n",
    "\n",
    "    y_hat_val = predict_nb(x_val)\n",
    "    accurracy_val = np.mean(y_hat_val == y_val)\n",
    "\n",
    "    logger(\"NaiveBayes\", config, get_metrics(y_train, y_hat_train), get_metrics(y_val, y_hat_val))\n",
    "    report = classification_report(y_val, y_hat_val)\n",
    "    print(config, report, sep='\\n')\n",
    "    print(f\"Train Acurracy: {acurracy_train}\", f\"Accuracy Val: {accurracy_val}\", sep=\"\\n\")\n",
    "    return y_hat_train, y_hat_val,  acurracy_train, accurracy_val"
   ]
  },
  {
   "cell_type": "code",
   "execution_count": 1972,
   "id": "8af8a942-24ab-4561-87b5-91876e5b138d",
   "metadata": {},
   "outputs": [
    {
     "name": "stdout",
     "output_type": "stream",
     "text": [
      "train/naive_bayers/categorical_Embarked+passenger_sex+has_fam+Age+Fare\n",
      "              precision    recall  f1-score   support\n",
      "\n",
      "           0       0.73      0.74      0.74       105\n",
      "           1       0.62      0.60      0.61        73\n",
      "\n",
      "    accuracy                           0.69       178\n",
      "   macro avg       0.67      0.67      0.67       178\n",
      "weighted avg       0.68      0.69      0.68       178\n",
      "\n",
      "Train Acurracy: 0.7183098591549296\n",
      "Accuracy Val: 0.6853932584269663\n"
     ]
    }
   ],
   "source": [
    "categories = [\"Embarked\",  \"passenger_sex\", \"has_fam\"]\n",
    "continous = [\"Age\", \"Fare\"]\n",
    "predict_nb = naive_bayes_train(x_train_nb, y_train, categorical=categories, continous=continous)\n",
    "y_hat_train, y_hat_val_nb,  acurracy_train, acurracy_val = log_results_nb(predict_nb, \n",
    "                                                                          x_train_nb, y_train, \n",
    "                                                                          x_val_nb, y_val, \n",
    "                                                                          f\"train/naive_bayers/categorical_{'+'.join(categories+continous)}\",\n",
    "                                                                          logger=csv_logger)"
   ]
  },
  {
   "cell_type": "code",
   "execution_count": 1969,
   "id": "c96de05b-89ef-4001-b5bd-8358aa4c59b3",
   "metadata": {},
   "outputs": [
    {
     "name": "stdout",
     "output_type": "stream",
     "text": [
      "train/naive_bayers/categorical_Age+Fare+SibSp+Parch+Class_Middle+Class_Upper+Port_C+Port_Q+passenger_sex\n",
      "              precision    recall  f1-score   support\n",
      "\n",
      "           0       0.85      0.70      0.77       105\n",
      "           1       0.66      0.82      0.73        73\n",
      "\n",
      "    accuracy                           0.75       178\n",
      "   macro avg       0.75      0.76      0.75       178\n",
      "weighted avg       0.77      0.75      0.75       178\n",
      "\n",
      "Train Acurracy: 0.75\n",
      "Accuracy Val: 0.7528089887640449\n"
     ]
    }
   ],
   "source": [
    "categories = []\n",
    "continous = [\"Age\", \"Fare\", \"SibSp\", \"Parch\", \"Class_Middle\", \"Class_Upper\", \"Port_C\", \"Port_Q\", \"passenger_sex\"]\n",
    "predict_nb = naive_bayes_train(x_train_nb, y_train, categorical=categories, continous=continous)\n",
    "y_hat_train, y_hat_val_nb,  acurracy_train, acurracy_val = log_results_nb(predict_nb, \n",
    "                                                                          x_train_nb, y_train, \n",
    "                                                                          x_val_nb, y_val, \n",
    "                                                                          f\"train/naive_bayers/categorical_{'+'.join(categories+continous)}\",\n",
    "                                                                          logger=csv_logger)"
   ]
  },
  {
   "cell_type": "markdown",
   "id": "ac90b4ba-86a4-47e6-b7da-c3172583b2b1",
   "metadata": {},
   "source": [
    "##### Best Naive Bayes Model"
   ]
  },
  {
   "cell_type": "code",
   "execution_count": 1954,
   "id": "b35fd5ff-59b9-496c-934b-cbd89f106028",
   "metadata": {},
   "outputs": [
    {
     "name": "stdout",
     "output_type": "stream",
     "text": [
      "train/naive_bayers/categorical_Embarked+passenger_sex+has_fam\n",
      "              precision    recall  f1-score   support\n",
      "\n",
      "           0       0.84      0.89      0.86       105\n",
      "           1       0.82      0.75      0.79        73\n",
      "\n",
      "    accuracy                           0.83       178\n",
      "   macro avg       0.83      0.82      0.82       178\n",
      "weighted avg       0.83      0.83      0.83       178\n",
      "\n",
      "Train Acurracy: 0.772887323943662\n",
      "Accuracy Val: 0.8314606741573034\n"
     ]
    }
   ],
   "source": [
    "categories = [\"Embarked\",  \"passenger_sex\", \"has_fam\"]\n",
    "continous = []\n",
    "predict_nb = naive_bayes_train(x_train_nb, y_train, categorical=categories, continous=continous)\n",
    "y_hat_train, y_hat_val_nb,  acurracy_train, acurracy_val = log_results_nb(predict_nb, \n",
    "                                                                          x_train_nb, y_train, \n",
    "                                                                          x_val_nb, y_val, \n",
    "                                                                          f\"train/naive_bayers/categorical_{'+'.join(categories+continous)}\",\n",
    "                                                                          logger=csv_logger)"
   ]
  },
  {
   "cell_type": "markdown",
   "id": "senior-penalty",
   "metadata": {},
   "source": [
    "### Logistic Regression + Regularizacion"
   ]
  },
  {
   "cell_type": "code",
   "execution_count": 1976,
   "id": "political-marking",
   "metadata": {},
   "outputs": [],
   "source": [
    "def compute_logits(X, params):\n",
    "    ## add a column of one's to add the bias (b) in the same vectorize operation\n",
    "    with tf.name_scope(\"Logits\"):\n",
    "        padding = tf.constant([[0,0],[1, 0]], name=\"Padding\")\n",
    "        X_with_bias = tf.pad(X, padding, \"CONSTANT\", constant_values=1, name=\"PreparedData\")\n",
    "        logits = tf.linalg.matmul(X_with_bias, params, name=\"Logits\")\n",
    "    return logits\n",
    "\n",
    "def build_predict(params):\n",
    "    return lambda x: tf.round(tf.nn.sigmoid(compute_logits(x, params), name=\"Model\"))\n",
    "\n",
    "def compute_cross_entropy(y, logits):\n",
    "    with tf.name_scope(\"CrossEntropy\"):\n",
    "        cross_entropy = tf.nn.sigmoid_cross_entropy_with_logits(labels = y, logits = logits, name=\"CrossEntropy\")\n",
    "        error = tf.reduce_mean(cross_entropy, name=\"Error\")\n",
    "    return error\n",
    "\n",
    "\n",
    "def build_compute_error_with_regularization(lmbda, params, method=\"lasso\"):\n",
    "    b = tf.reduce_sum(tf.abs(params), name=\"Lasso\") if method == \"lasso\" else tf.sqrt(tf.reduce_sum(tf.square(params)), name=\"Ridge\")\n",
    "    regularization = tf.multiply(lmbda, b)\n",
    "    return lambda y, logits: tf.add(compute_cross_entropy(y, logits), regularization, name=\"Regularization\")\n",
    "    \n",
    "\n",
    "def compute_accuracy(y, y_hat):\n",
    "    with tf.name_scope(\"Accuracy\"):\n",
    "        matched = tf.equal(y, y_hat)\n",
    "        count = tf.count_nonzero(matched, dtype=tf.int32)\n",
    "        accuracy = tf.divide(count, tf.shape(y)[0])\n",
    "        return accuracy\n",
    "    \n",
    "\n",
    "def build_linear_model_graph(tensor_x, tensor_y, params, lr=0.001, lmbda=0, method=\"lasso\"):\n",
    "    compute_error = build_compute_error_with_regularization(lmbda, params, method)\n",
    "    logits = compute_logits(tensor_x, params)\n",
    "    predict = build_predict(params)(tensor_x)\n",
    "    error = compute_error(tensor_y, logits)\n",
    "    error_summary = tf.summary.scalar(name=\"ErrorSummary\", tensor=error)\n",
    "    accuracy = compute_accuracy(tensor_y, predict)\n",
    "    accuracy_summary = tf.summary.scalar(name=\"accuracySummary\", tensor=accuracy)\n",
    "    with tf.name_scope(\"GradieDescent\"):\n",
    "        gradient = tf.gradients(error, [params], name=\"Gradient\")\n",
    "        update_params = tf.assign(params, params - lr * gradient[0], name=\"UpdateParams\")\n",
    "    return logits, update_params, params, error, error_summary, accuracy, accuracy_summary, predict\n",
    "\n",
    "def log(theta, epoch, error, accuracy):\n",
    "    print(f\"MB Gradient Descent_epoch_{epoch}_error_{error}_accuracy_{accuracy}\")\n",
    "\n",
    "def fit(X, Y, batch_size=32, epochs=100, lr=0.001, lmbda=0, method=\"lasso\", print_n=10, logs_path='./logs/log_reg/graph_'):\n",
    "    path = f\"{logs_path}_lr_{lr}_batch_size_{batch_size}_epochs_{epochs}_lmbda_{lmbda}_method_{method}_{datetime.today().strftime('%Y%m%d-%H%M%S')}\"\n",
    "    tf.reset_default_graph()\n",
    "    # Parameters Matrix [features + 1, 1] \n",
    "    params = tf.get_variable(\"Params\", dtype=tf.float32, shape=[X.shape[1] + 1, 1],initializer=tf.zeros_initializer())\n",
    "    # shape: (?, features)\n",
    "    tensor_x = tf.placeholder(tf.float32, [None,X.shape[1]], name=\"X\")\n",
    "    # shape: (?, labels)\n",
    "    tensor_y = tf.placeholder(tf.float32, [None,Y.shape[1]], name=\"Y\")\n",
    "    lmbda_constant = tf.constant(lmbda, dtype=tf.float32, name=\"Lambda\")\n",
    "    _, update_params, params, error, error_summary, accuracy, accuracy_summary, predict = build_linear_model_graph(tensor_x, tensor_y, params, lr=lr, lmbda=lmbda_constant, method=\"lasso\")\n",
    "    n = X.shape[0] // batch_size\n",
    "    final_tetha = None\n",
    "    with tf.train.MonitoredSession() as session:\n",
    "        with tf.summary.FileWriter(path, session.graph) as train_writer:\n",
    "            for epoch in range(epochs): \n",
    "                for i in range(n):\n",
    "                    start, end = i * batch_size, (i+1) * batch_size\n",
    "                    x_mbatch, y_mbatch = X[start:end,], Y[start:end,]\n",
    "                    feed_dict = { tensor_x: x_mbatch, tensor_y: y_mbatch}\n",
    "                    _, theta = session.run([update_params, params], feed_dict=feed_dict)\n",
    "                if (epoch + 1) % print_n == 0:\n",
    "                    feed_dict = { tensor_x: X, tensor_y: Y }\n",
    "                    val_error, val_accuracy, e_summary,acc_summary, theta =  session.run([error, accuracy, error_summary, accuracy_summary, params], feed_dict = feed_dict)\n",
    "                    train_writer.add_summary(e_summary, epoch + 1)\n",
    "                    train_writer.add_summary(acc_summary, epoch + 1)\n",
    "                    log(theta, epoch + 1, val_error, val_accuracy)\n",
    "            feed_dict = { tensor_x: X, tensor_y: Y }\n",
    "            final_theta, y_hat, accuracy_val  = session.run([params, predict, accuracy], feed_dict=feed_dict)\n",
    "    return final_theta, y_hat, accuracy_val\n"
   ]
  },
  {
   "cell_type": "code",
   "execution_count": 1956,
   "id": "a6c3f413-9992-40de-97b0-0d59bf16cf8d",
   "metadata": {},
   "outputs": [],
   "source": [
    "def run(x_train, y_train, x_test, y_test, batch_size=32, epochs=100, lr=0.001, lmbda=0, method=\"lasso\", print_n=10, logs_path='./logs/graph_', logger=lambda *x: print(*x, sep=' ')):\n",
    "    theta, y_hat_train, accuracy_train = fit(x_train, y_train, epochs=epochs, lr=lr, lmbda=lmbda, method=method, print_n=print_n, logs_path=logs_path)\n",
    "    # shape: (?, features)\n",
    "    tensor_x_test = tf.placeholder(tf.float32, [None,x_test.shape[1]], name=\"X_test\")\n",
    "    # shape: (?, labels)\n",
    "    tensor_y_test = tf.placeholder(tf.float32, [None,y_test.shape[1]], name=\"Y_test\")\n",
    "\n",
    "    get_predictions = build_predict(theta)(tensor_x_test)\n",
    "    get_accuracy = compute_accuracy(tensor_y_test, get_predictions)\n",
    "    with tf.Session() as session:\n",
    "        with tf.summary.FileWriter(logs_path+\"prediction\", session.graph) as train_writer:\n",
    "            y_hat_val, accuracy_val = session.run([get_predictions, get_accuracy], feed_dict = { tensor_x_test: x_test, tensor_y_test: y_test})\n",
    "    name = f\"train/linear_reg/lr_{lr}_batch_size_{batch_size}_epochs_{epochs}_lmbda_{lmbda}_method_{method}\"\n",
    "    logger(\"LinearReg\", name, get_metrics(y_train, y_hat_train), get_metrics(y_val, y_hat_val))\n",
    "    return theta\n",
    "\n",
    "\n",
    "def predict_lreg(x_test, params):\n",
    "    tensor_x_test = tf.placeholder(tf.float32, [None,x_test.shape[1]], name=\"X_test\")\n",
    "    get_predictions = build_predict(params)(tensor_x_test)\n",
    "    with tf.Session() as session:\n",
    "        y_hat_val= session.run(get_predictions, feed_dict = { tensor_x_test: x_test})\n",
    "    return y_hat_val\n",
    "    "
   ]
  },
  {
   "cell_type": "code",
   "execution_count": 1957,
   "id": "fc4668e1-e272-44fb-a0df-f73d9b70cfe6",
   "metadata": {},
   "outputs": [
    {
     "name": "stdout",
     "output_type": "stream",
     "text": [
      "INFO:tensorflow:Graph was finalized.\n",
      "INFO:tensorflow:Running local_init_op.\n",
      "INFO:tensorflow:Done running local_init_op.\n",
      "MB Gradient Descent_epoch_10_error_0.6912091374397278_accuracy_0.625\n",
      "MB Gradient Descent_epoch_20_error_0.6893172860145569_accuracy_0.625\n",
      "MB Gradient Descent_epoch_30_error_0.6874704360961914_accuracy_0.625\n",
      "MB Gradient Descent_epoch_40_error_0.6856674551963806_accuracy_0.625\n",
      "MB Gradient Descent_epoch_50_error_0.6839069128036499_accuracy_0.625\n",
      "MB Gradient Descent_epoch_60_error_0.6821877956390381_accuracy_0.625\n",
      "MB Gradient Descent_epoch_70_error_0.6805087924003601_accuracy_0.625\n",
      "MB Gradient Descent_epoch_80_error_0.6788688898086548_accuracy_0.625\n",
      "MB Gradient Descent_epoch_90_error_0.6772670149803162_accuracy_0.625\n",
      "MB Gradient Descent_epoch_100_error_0.6757019758224487_accuracy_0.625\n",
      "MB Gradient Descent_epoch_110_error_0.6741728186607361_accuracy_0.625\n",
      "MB Gradient Descent_epoch_120_error_0.6726786494255066_accuracy_0.625\n",
      "MB Gradient Descent_epoch_130_error_0.6712183356285095_accuracy_0.625\n",
      "MB Gradient Descent_epoch_140_error_0.6697908043861389_accuracy_0.625\n",
      "MB Gradient Descent_epoch_150_error_0.6683955788612366_accuracy_0.625\n",
      "MB Gradient Descent_epoch_160_error_0.6670312881469727_accuracy_0.625\n",
      "MB Gradient Descent_epoch_170_error_0.6656973361968994_accuracy_0.625\n",
      "MB Gradient Descent_epoch_180_error_0.6643928289413452_accuracy_0.625\n",
      "MB Gradient Descent_epoch_190_error_0.6631168127059937_accuracy_0.625\n",
      "MB Gradient Descent_epoch_200_error_0.6618685722351074_accuracy_0.625\n",
      "MB Gradient Descent_epoch_210_error_0.660647451877594_accuracy_0.625\n",
      "MB Gradient Descent_epoch_220_error_0.659452497959137_accuracy_0.625\n",
      "MB Gradient Descent_epoch_230_error_0.6582830548286438_accuracy_0.625\n",
      "MB Gradient Descent_epoch_240_error_0.6571384072303772_accuracy_0.625\n",
      "MB Gradient Descent_epoch_250_error_0.6560178995132446_accuracy_0.625\n",
      "MB Gradient Descent_epoch_260_error_0.6549208760261536_accuracy_0.625\n",
      "MB Gradient Descent_epoch_270_error_0.6538465619087219_accuracy_0.625\n",
      "MB Gradient Descent_epoch_280_error_0.6527944207191467_accuracy_0.625\n",
      "MB Gradient Descent_epoch_290_error_0.6517637968063354_accuracy_0.625\n",
      "MB Gradient Descent_epoch_300_error_0.6507540941238403_accuracy_0.625\n",
      "MB Gradient Descent_epoch_310_error_0.6497647762298584_accuracy_0.625\n",
      "MB Gradient Descent_epoch_320_error_0.6487951874732971_accuracy_0.625\n",
      "MB Gradient Descent_epoch_330_error_0.6478448510169983_accuracy_0.625\n",
      "MB Gradient Descent_epoch_340_error_0.6469132304191589_accuracy_0.625\n",
      "MB Gradient Descent_epoch_350_error_0.6459997296333313_accuracy_0.625\n",
      "MB Gradient Descent_epoch_360_error_0.6451041102409363_accuracy_0.625\n",
      "MB Gradient Descent_epoch_370_error_0.644225537776947_accuracy_0.625\n",
      "MB Gradient Descent_epoch_380_error_0.6433636546134949_accuracy_0.625\n",
      "MB Gradient Descent_epoch_390_error_0.642518162727356_accuracy_0.625\n",
      "MB Gradient Descent_epoch_400_error_0.6416884064674377_accuracy_0.625\n",
      "MB Gradient Descent_epoch_410_error_0.6408739686012268_accuracy_0.625\n",
      "MB Gradient Descent_epoch_420_error_0.640074610710144_accuracy_0.625\n",
      "MB Gradient Descent_epoch_430_error_0.6392897367477417_accuracy_0.625\n",
      "MB Gradient Descent_epoch_440_error_0.6385189890861511_accuracy_0.625\n",
      "MB Gradient Descent_epoch_450_error_0.6377620697021484_accuracy_0.625\n",
      "MB Gradient Descent_epoch_460_error_0.6370185017585754_accuracy_0.625\n",
      "MB Gradient Descent_epoch_470_error_0.6362879872322083_accuracy_0.625\n",
      "MB Gradient Descent_epoch_480_error_0.6355701684951782_accuracy_0.625\n",
      "MB Gradient Descent_epoch_490_error_0.6348645687103271_accuracy_0.625\n",
      "MB Gradient Descent_epoch_500_error_0.6341711282730103_accuracy_0.625\n",
      "MB Gradient Descent_epoch_510_error_0.6334893107414246_accuracy_0.625\n",
      "MB Gradient Descent_epoch_520_error_0.6328188180923462_accuracy_0.625\n",
      "MB Gradient Descent_epoch_530_error_0.6321594715118408_accuracy_0.625\n",
      "MB Gradient Descent_epoch_540_error_0.6315109133720398_accuracy_0.625\n",
      "MB Gradient Descent_epoch_550_error_0.6308727264404297_accuracy_0.625\n",
      "MB Gradient Descent_epoch_560_error_0.6302448511123657_accuracy_0.625\n",
      "MB Gradient Descent_epoch_570_error_0.6296267509460449_accuracy_0.625\n",
      "MB Gradient Descent_epoch_580_error_0.6290184855461121_accuracy_0.625\n",
      "MB Gradient Descent_epoch_590_error_0.6284195780754089_accuracy_0.625\n",
      "MB Gradient Descent_epoch_600_error_0.6278298497200012_accuracy_0.625\n",
      "MB Gradient Descent_epoch_610_error_0.627249002456665_accuracy_0.625\n",
      "MB Gradient Descent_epoch_620_error_0.6266769766807556_accuracy_0.625\n",
      "MB Gradient Descent_epoch_630_error_0.62611323595047_accuracy_0.625\n",
      "MB Gradient Descent_epoch_640_error_0.6255577802658081_accuracy_0.625\n",
      "MB Gradient Descent_epoch_650_error_0.6250104904174805_accuracy_0.625\n",
      "MB Gradient Descent_epoch_660_error_0.6244708895683289_accuracy_0.625\n",
      "MB Gradient Descent_epoch_670_error_0.6239389181137085_accuracy_0.625\n",
      "MB Gradient Descent_epoch_680_error_0.6234144568443298_accuracy_0.625\n",
      "MB Gradient Descent_epoch_690_error_0.6228971481323242_accuracy_0.625\n",
      "MB Gradient Descent_epoch_700_error_0.6223869323730469_accuracy_0.625\n",
      "MB Gradient Descent_epoch_710_error_0.6218835711479187_accuracy_0.625\n",
      "MB Gradient Descent_epoch_720_error_0.6213869452476501_accuracy_0.625\n",
      "MB Gradient Descent_epoch_730_error_0.6208967566490173_accuracy_0.625\n",
      "MB Gradient Descent_epoch_740_error_0.6204130053520203_accuracy_0.625\n",
      "MB Gradient Descent_epoch_750_error_0.6199353933334351_accuracy_0.625\n",
      "MB Gradient Descent_epoch_760_error_0.6194638609886169_accuracy_0.625\n",
      "MB Gradient Descent_epoch_770_error_0.6189982295036316_accuracy_0.625\n",
      "MB Gradient Descent_epoch_780_error_0.6185382604598999_accuracy_0.625\n",
      "MB Gradient Descent_epoch_790_error_0.6180840730667114_accuracy_0.625\n",
      "MB Gradient Descent_epoch_800_error_0.617635190486908_accuracy_0.625\n",
      "MB Gradient Descent_epoch_810_error_0.6171916723251343_accuracy_0.625\n",
      "MB Gradient Descent_epoch_820_error_0.6167534589767456_accuracy_0.625\n",
      "MB Gradient Descent_epoch_830_error_0.6163201928138733_accuracy_0.625\n",
      "MB Gradient Descent_epoch_840_error_0.6158919334411621_accuracy_0.625\n",
      "MB Gradient Descent_epoch_850_error_0.6154685616493225_accuracy_0.625\n",
      "MB Gradient Descent_epoch_860_error_0.6150497794151306_accuracy_0.625\n",
      "MB Gradient Descent_epoch_870_error_0.6146357655525208_accuracy_0.625\n",
      "MB Gradient Descent_epoch_880_error_0.6142259836196899_accuracy_0.6267605633802817\n",
      "MB Gradient Descent_epoch_890_error_0.6138207912445068_accuracy_0.6285211267605634\n",
      "MB Gradient Descent_epoch_900_error_0.6134198904037476_accuracy_0.6285211267605634\n",
      "MB Gradient Descent_epoch_910_error_0.613023042678833_accuracy_0.6285211267605634\n",
      "MB Gradient Descent_epoch_920_error_0.6126303672790527_accuracy_0.6285211267605634\n",
      "MB Gradient Descent_epoch_930_error_0.6122416257858276_accuracy_0.6285211267605634\n",
      "MB Gradient Descent_epoch_940_error_0.6118566989898682_accuracy_0.6285211267605634\n",
      "MB Gradient Descent_epoch_950_error_0.6114756464958191_accuracy_0.6285211267605634\n",
      "MB Gradient Descent_epoch_960_error_0.6110984086990356_accuracy_0.6285211267605634\n",
      "MB Gradient Descent_epoch_970_error_0.6107246279716492_accuracy_0.6302816901408451\n",
      "MB Gradient Descent_epoch_980_error_0.610354483127594_accuracy_0.6320422535211268\n",
      "MB Gradient Descent_epoch_990_error_0.609987735748291_accuracy_0.6338028169014085\n",
      "MB Gradient Descent_epoch_1000_error_0.6096243858337402_accuracy_0.6338028169014085\n"
     ]
    }
   ],
   "source": [
    "\n",
    "theta = run(x_train.to_numpy(), y_train.to_numpy().reshape(-1,1), \n",
    "              x_val.to_numpy(), y_val.to_numpy().reshape(-1,1),\n",
    "              epochs=1000, lr=0.0001, logger=csv_logger)\n"
   ]
  },
  {
   "cell_type": "code",
   "execution_count": 1958,
   "id": "cd762c58-620b-4877-a3f7-7cd6227d96cc",
   "metadata": {},
   "outputs": [
    {
     "name": "stdout",
     "output_type": "stream",
     "text": [
      "INFO:tensorflow:Graph was finalized.\n",
      "INFO:tensorflow:Running local_init_op.\n",
      "INFO:tensorflow:Done running local_init_op.\n",
      "MB Gradient Descent_epoch_10_error_0.6095262169837952_accuracy_0.6320422535211268\n",
      "MB Gradient Descent_epoch_20_error_0.5828181505203247_accuracy_0.676056338028169\n",
      "MB Gradient Descent_epoch_30_error_0.564237117767334_accuracy_0.721830985915493\n",
      "MB Gradient Descent_epoch_40_error_0.5497088432312012_accuracy_0.7376760563380281\n",
      "MB Gradient Descent_epoch_50_error_0.5381151437759399_accuracy_0.7588028169014085\n",
      "MB Gradient Descent_epoch_60_error_0.5287487506866455_accuracy_0.7640845070422535\n",
      "MB Gradient Descent_epoch_70_error_0.5210956931114197_accuracy_0.7764084507042254\n",
      "MB Gradient Descent_epoch_80_error_0.5147770643234253_accuracy_0.7816901408450704\n",
      "MB Gradient Descent_epoch_90_error_0.5095114707946777_accuracy_0.7869718309859155\n",
      "MB Gradient Descent_epoch_100_error_0.5050879716873169_accuracy_0.7869718309859155\n",
      "MB Gradient Descent_epoch_110_error_0.5013456344604492_accuracy_0.7869718309859155\n",
      "MB Gradient Descent_epoch_120_error_0.49816057085990906_accuracy_0.7834507042253521\n",
      "MB Gradient Descent_epoch_130_error_0.4954356849193573_accuracy_0.772887323943662\n",
      "MB Gradient Descent_epoch_140_error_0.49309438467025757_accuracy_0.7711267605633803\n",
      "MB Gradient Descent_epoch_150_error_0.49107488989830017_accuracy_0.7746478873239436\n",
      "MB Gradient Descent_epoch_160_error_0.48932743072509766_accuracy_0.7711267605633803\n",
      "MB Gradient Descent_epoch_170_error_0.4878110885620117_accuracy_0.7711267605633803\n",
      "MB Gradient Descent_epoch_180_error_0.4864921569824219_accuracy_0.772887323943662\n",
      "MB Gradient Descent_epoch_190_error_0.48534253239631653_accuracy_0.772887323943662\n",
      "MB Gradient Descent_epoch_200_error_0.48433879017829895_accuracy_0.772887323943662\n",
      "MB Gradient Descent_epoch_210_error_0.4834609627723694_accuracy_0.7711267605633803\n",
      "MB Gradient Descent_epoch_220_error_0.4826923906803131_accuracy_0.7852112676056338\n",
      "MB Gradient Descent_epoch_230_error_0.4820185899734497_accuracy_0.7816901408450704\n",
      "MB Gradient Descent_epoch_240_error_0.48142746090888977_accuracy_0.7816901408450704\n",
      "MB Gradient Descent_epoch_250_error_0.4809083640575409_accuracy_0.7799295774647887\n",
      "MB Gradient Descent_epoch_260_error_0.480452299118042_accuracy_0.778169014084507\n",
      "MB Gradient Descent_epoch_270_error_0.4800513982772827_accuracy_0.7764084507042254\n",
      "MB Gradient Descent_epoch_280_error_0.47969892621040344_accuracy_0.7764084507042254\n",
      "MB Gradient Descent_epoch_290_error_0.4793890416622162_accuracy_0.7746478873239436\n",
      "MB Gradient Descent_epoch_300_error_0.47911641001701355_accuracy_0.7746478873239436\n",
      "MB Gradient Descent_epoch_310_error_0.4788765609264374_accuracy_0.7746478873239436\n",
      "MB Gradient Descent_epoch_320_error_0.47866585850715637_accuracy_0.7746478873239436\n",
      "MB Gradient Descent_epoch_330_error_0.47848060727119446_accuracy_0.772887323943662\n",
      "MB Gradient Descent_epoch_340_error_0.4783179461956024_accuracy_0.7711267605633803\n",
      "MB Gradient Descent_epoch_350_error_0.4781751036643982_accuracy_0.772887323943662\n",
      "MB Gradient Descent_epoch_360_error_0.47805002331733704_accuracy_0.772887323943662\n",
      "MB Gradient Descent_epoch_370_error_0.47794029116630554_accuracy_0.772887323943662\n",
      "MB Gradient Descent_epoch_380_error_0.47784438729286194_accuracy_0.772887323943662\n",
      "MB Gradient Descent_epoch_390_error_0.4777606427669525_accuracy_0.7764084507042254\n",
      "MB Gradient Descent_epoch_400_error_0.47768762707710266_accuracy_0.7764084507042254\n",
      "MB Gradient Descent_epoch_410_error_0.47762417793273926_accuracy_0.7764084507042254\n",
      "MB Gradient Descent_epoch_420_error_0.47756898403167725_accuracy_0.7764084507042254\n",
      "MB Gradient Descent_epoch_430_error_0.4775213897228241_accuracy_0.7764084507042254\n",
      "MB Gradient Descent_epoch_440_error_0.47748038172721863_accuracy_0.7746478873239436\n",
      "MB Gradient Descent_epoch_450_error_0.47744524478912354_accuracy_0.7746478873239436\n",
      "MB Gradient Descent_epoch_460_error_0.4774152338504791_accuracy_0.7746478873239436\n",
      "MB Gradient Descent_epoch_470_error_0.4773898124694824_accuracy_0.7746478873239436\n",
      "MB Gradient Descent_epoch_480_error_0.4773683547973633_accuracy_0.7746478873239436\n",
      "MB Gradient Descent_epoch_490_error_0.47735053300857544_accuracy_0.7746478873239436\n",
      "MB Gradient Descent_epoch_500_error_0.47733575105667114_accuracy_0.7746478873239436\n",
      "MB Gradient Descent_epoch_510_error_0.47732388973236084_accuracy_0.7746478873239436\n",
      "MB Gradient Descent_epoch_520_error_0.47731438279151917_accuracy_0.7746478873239436\n",
      "MB Gradient Descent_epoch_530_error_0.47730696201324463_accuracy_0.7746478873239436\n",
      "MB Gradient Descent_epoch_540_error_0.47730153799057007_accuracy_0.7746478873239436\n",
      "MB Gradient Descent_epoch_550_error_0.47729772329330444_accuracy_0.7746478873239436\n",
      "MB Gradient Descent_epoch_560_error_0.4772953391075134_accuracy_0.7746478873239436\n",
      "MB Gradient Descent_epoch_570_error_0.4772942364215851_accuracy_0.7746478873239436\n",
      "MB Gradient Descent_epoch_580_error_0.47729411721229553_accuracy_0.7746478873239436\n",
      "MB Gradient Descent_epoch_590_error_0.47729504108428955_accuracy_0.7764084507042254\n",
      "MB Gradient Descent_epoch_600_error_0.47729673981666565_accuracy_0.7764084507042254\n",
      "MB Gradient Descent_epoch_610_error_0.47729912400245667_accuracy_0.7764084507042254\n",
      "MB Gradient Descent_epoch_620_error_0.4773021638393402_accuracy_0.7764084507042254\n",
      "MB Gradient Descent_epoch_630_error_0.4773056209087372_accuracy_0.7764084507042254\n",
      "MB Gradient Descent_epoch_640_error_0.47730958461761475_accuracy_0.7764084507042254\n",
      "MB Gradient Descent_epoch_650_error_0.4773138761520386_accuracy_0.7764084507042254\n",
      "MB Gradient Descent_epoch_660_error_0.4773184657096863_accuracy_0.7764084507042254\n",
      "MB Gradient Descent_epoch_670_error_0.4773232936859131_accuracy_0.7764084507042254\n",
      "MB Gradient Descent_epoch_680_error_0.47732824087142944_accuracy_0.7764084507042254\n",
      "MB Gradient Descent_epoch_690_error_0.47733327746391296_accuracy_0.7764084507042254\n",
      "MB Gradient Descent_epoch_700_error_0.4773385524749756_accuracy_0.7764084507042254\n",
      "MB Gradient Descent_epoch_710_error_0.4773438274860382_accuracy_0.7764084507042254\n",
      "MB Gradient Descent_epoch_720_error_0.4773491322994232_accuracy_0.7764084507042254\n",
      "MB Gradient Descent_epoch_730_error_0.4773544669151306_accuracy_0.7764084507042254\n",
      "MB Gradient Descent_epoch_740_error_0.47735971212387085_accuracy_0.7764084507042254\n",
      "MB Gradient Descent_epoch_750_error_0.4773649275302887_accuracy_0.7764084507042254\n",
      "MB Gradient Descent_epoch_760_error_0.47737014293670654_accuracy_0.7764084507042254\n",
      "MB Gradient Descent_epoch_770_error_0.47737517952919006_accuracy_0.7746478873239436\n",
      "MB Gradient Descent_epoch_780_error_0.47738024592399597_accuracy_0.7746478873239436\n",
      "MB Gradient Descent_epoch_790_error_0.47738519310951233_accuracy_0.7746478873239436\n",
      "MB Gradient Descent_epoch_800_error_0.4773899018764496_accuracy_0.7746478873239436\n",
      "MB Gradient Descent_epoch_810_error_0.47739464044570923_accuracy_0.7746478873239436\n",
      "MB Gradient Descent_epoch_820_error_0.47739914059638977_accuracy_0.7746478873239436\n",
      "MB Gradient Descent_epoch_830_error_0.4774036705493927_accuracy_0.7746478873239436\n",
      "MB Gradient Descent_epoch_840_error_0.4774080216884613_accuracy_0.7746478873239436\n",
      "MB Gradient Descent_epoch_850_error_0.4774121642112732_accuracy_0.7746478873239436\n",
      "MB Gradient Descent_epoch_860_error_0.47741618752479553_accuracy_0.7746478873239436\n",
      "MB Gradient Descent_epoch_870_error_0.47742006182670593_accuracy_0.7746478873239436\n",
      "MB Gradient Descent_epoch_880_error_0.477423757314682_accuracy_0.7746478873239436\n",
      "MB Gradient Descent_epoch_890_error_0.47742730379104614_accuracy_0.7746478873239436\n",
      "MB Gradient Descent_epoch_900_error_0.4774307608604431_accuracy_0.7746478873239436\n",
      "MB Gradient Descent_epoch_910_error_0.47743406891822815_accuracy_0.7746478873239436\n",
      "MB Gradient Descent_epoch_920_error_0.47743725776672363_accuracy_0.7746478873239436\n",
      "MB Gradient Descent_epoch_930_error_0.47744020819664_accuracy_0.7746478873239436\n",
      "MB Gradient Descent_epoch_940_error_0.4774430990219116_accuracy_0.7746478873239436\n",
      "MB Gradient Descent_epoch_950_error_0.4774457514286041_accuracy_0.7746478873239436\n",
      "MB Gradient Descent_epoch_960_error_0.4774482548236847_accuracy_0.7746478873239436\n",
      "MB Gradient Descent_epoch_970_error_0.4774506688117981_accuracy_0.7746478873239436\n",
      "MB Gradient Descent_epoch_980_error_0.47745299339294434_accuracy_0.7746478873239436\n",
      "MB Gradient Descent_epoch_990_error_0.47745513916015625_accuracy_0.7746478873239436\n",
      "MB Gradient Descent_epoch_1000_error_0.47745707631111145_accuracy_0.7746478873239436\n"
     ]
    }
   ],
   "source": [
    "theta = run(x_train.to_numpy(), y_train.to_numpy().reshape(-1,1), \n",
    "          x_val.to_numpy(), y_val.to_numpy().reshape(-1,1), \n",
    "          epochs=1000, lr=0.01, logger=csv_logger)"
   ]
  },
  {
   "cell_type": "code",
   "execution_count": 1959,
   "id": "cc6bcbd0-b7df-46bc-a5b8-102eea89b1b5",
   "metadata": {},
   "outputs": [
    {
     "name": "stdout",
     "output_type": "stream",
     "text": [
      "INFO:tensorflow:Graph was finalized.\n",
      "INFO:tensorflow:Running local_init_op.\n",
      "INFO:tensorflow:Done running local_init_op.\n",
      "MB Gradient Descent_epoch_100_error_0.6159060597419739_accuracy_0.6267605633802817\n",
      "MB Gradient Descent_epoch_200_error_0.5923564434051514_accuracy_0.6778169014084507\n",
      "MB Gradient Descent_epoch_300_error_0.5761398673057556_accuracy_0.7183098591549296\n",
      "MB Gradient Descent_epoch_400_error_0.5637642741203308_accuracy_0.7288732394366197\n",
      "MB Gradient Descent_epoch_500_error_0.554286777973175_accuracy_0.7535211267605634\n",
      "MB Gradient Descent_epoch_600_error_0.5466322898864746_accuracy_0.7693661971830986\n",
      "MB Gradient Descent_epoch_700_error_0.5403868556022644_accuracy_0.7834507042253521\n",
      "MB Gradient Descent_epoch_800_error_0.5352439880371094_accuracy_0.7816901408450704\n",
      "MB Gradient Descent_epoch_900_error_0.5309736132621765_accuracy_0.7834507042253521\n",
      "MB Gradient Descent_epoch_1000_error_0.5274016261100769_accuracy_0.7869718309859155\n",
      "MB Gradient Descent_epoch_1100_error_0.5243945121765137_accuracy_0.7887323943661971\n",
      "MB Gradient Descent_epoch_1200_error_0.5218490362167358_accuracy_0.7852112676056338\n",
      "MB Gradient Descent_epoch_1300_error_0.5196840167045593_accuracy_0.7746478873239436\n",
      "MB Gradient Descent_epoch_1400_error_0.5178353190422058_accuracy_0.7711267605633803\n",
      "MB Gradient Descent_epoch_1500_error_0.5162512063980103_accuracy_0.772887323943662\n",
      "MB Gradient Descent_epoch_1600_error_0.5148898959159851_accuracy_0.7693661971830986\n",
      "MB Gradient Descent_epoch_1700_error_0.5137172341346741_accuracy_0.7693661971830986\n",
      "MB Gradient Descent_epoch_1800_error_0.5127047896385193_accuracy_0.7693661971830986\n",
      "MB Gradient Descent_epoch_1900_error_0.5118293762207031_accuracy_0.7711267605633803\n",
      "MB Gradient Descent_epoch_2000_error_0.5110712051391602_accuracy_0.7711267605633803\n",
      "MB Gradient Descent_epoch_2100_error_0.510413646697998_accuracy_0.7676056338028169\n",
      "MB Gradient Descent_epoch_2200_error_0.5098428726196289_accuracy_0.7658450704225352\n",
      "MB Gradient Descent_epoch_2300_error_0.509347140789032_accuracy_0.7676056338028169\n",
      "MB Gradient Descent_epoch_2400_error_0.5089159607887268_accuracy_0.7658450704225352\n",
      "MB Gradient Descent_epoch_2500_error_0.5085411071777344_accuracy_0.7623239436619719\n",
      "MB Gradient Descent_epoch_2600_error_0.5082147717475891_accuracy_0.7640845070422535\n",
      "MB Gradient Descent_epoch_2700_error_0.5079308152198792_accuracy_0.7605633802816901\n",
      "MB Gradient Descent_epoch_2800_error_0.5076834559440613_accuracy_0.7640845070422535\n",
      "MB Gradient Descent_epoch_2900_error_0.5074682235717773_accuracy_0.7746478873239436\n",
      "MB Gradient Descent_epoch_3000_error_0.5072808265686035_accuracy_0.7799295774647887\n",
      "MB Gradient Descent_epoch_3100_error_0.5071176290512085_accuracy_0.7764084507042254\n",
      "MB Gradient Descent_epoch_3200_error_0.5069756507873535_accuracy_0.7764084507042254\n",
      "MB Gradient Descent_epoch_3300_error_0.5068522095680237_accuracy_0.7764084507042254\n",
      "MB Gradient Descent_epoch_3400_error_0.5067447423934937_accuracy_0.778169014084507\n",
      "MB Gradient Descent_epoch_3500_error_0.5066513419151306_accuracy_0.778169014084507\n",
      "MB Gradient Descent_epoch_3600_error_0.5065703392028809_accuracy_0.778169014084507\n",
      "MB Gradient Descent_epoch_3700_error_0.5064998865127563_accuracy_0.778169014084507\n",
      "MB Gradient Descent_epoch_3800_error_0.5064387917518616_accuracy_0.778169014084507\n",
      "MB Gradient Descent_epoch_3900_error_0.506385862827301_accuracy_0.7764084507042254\n",
      "MB Gradient Descent_epoch_4000_error_0.5063399076461792_accuracy_0.778169014084507\n",
      "MB Gradient Descent_epoch_4100_error_0.5063002109527588_accuracy_0.7746478873239436\n",
      "MB Gradient Descent_epoch_4200_error_0.5062659382820129_accuracy_0.7764084507042254\n",
      "MB Gradient Descent_epoch_4300_error_0.50623619556427_accuracy_0.7764084507042254\n",
      "MB Gradient Descent_epoch_4400_error_0.5062105655670166_accuracy_0.7746478873239436\n",
      "MB Gradient Descent_epoch_4500_error_0.5061884522438049_accuracy_0.7746478873239436\n",
      "MB Gradient Descent_epoch_4600_error_0.5061693787574768_accuracy_0.7764084507042254\n",
      "MB Gradient Descent_epoch_4700_error_0.506152868270874_accuracy_0.7764084507042254\n",
      "MB Gradient Descent_epoch_4800_error_0.5061386823654175_accuracy_0.7764084507042254\n",
      "MB Gradient Descent_epoch_4900_error_0.5061264038085938_accuracy_0.7764084507042254\n",
      "MB Gradient Descent_epoch_5000_error_0.5061158537864685_accuracy_0.772887323943662\n",
      "MB Gradient Descent_epoch_5100_error_0.5061066150665283_accuracy_0.772887323943662\n",
      "MB Gradient Descent_epoch_5200_error_0.5060986280441284_accuracy_0.772887323943662\n",
      "MB Gradient Descent_epoch_5300_error_0.5060917139053345_accuracy_0.772887323943662\n",
      "MB Gradient Descent_epoch_5400_error_0.5060938596725464_accuracy_0.772887323943662\n",
      "MB Gradient Descent_epoch_5500_error_0.506098747253418_accuracy_0.772887323943662\n",
      "MB Gradient Descent_epoch_5600_error_0.5061023831367493_accuracy_0.772887323943662\n",
      "MB Gradient Descent_epoch_5700_error_0.5061056017875671_accuracy_0.772887323943662\n",
      "MB Gradient Descent_epoch_5800_error_0.5061088800430298_accuracy_0.7746478873239436\n",
      "MB Gradient Descent_epoch_5900_error_0.5061122179031372_accuracy_0.7746478873239436\n",
      "MB Gradient Descent_epoch_6000_error_0.5061157941818237_accuracy_0.7764084507042254\n",
      "MB Gradient Descent_epoch_6100_error_0.5061195492744446_accuracy_0.7764084507042254\n",
      "MB Gradient Descent_epoch_6200_error_0.5061236619949341_accuracy_0.7764084507042254\n",
      "MB Gradient Descent_epoch_6300_error_0.5061277151107788_accuracy_0.7764084507042254\n",
      "MB Gradient Descent_epoch_6400_error_0.5061319470405579_accuracy_0.7764084507042254\n",
      "MB Gradient Descent_epoch_6500_error_0.5061361789703369_accuracy_0.7764084507042254\n",
      "MB Gradient Descent_epoch_6600_error_0.5061405301094055_accuracy_0.7764084507042254\n",
      "MB Gradient Descent_epoch_6700_error_0.5061449408531189_accuracy_0.7764084507042254\n",
      "MB Gradient Descent_epoch_6800_error_0.5061490535736084_accuracy_0.7764084507042254\n",
      "MB Gradient Descent_epoch_6900_error_0.5061531662940979_accuracy_0.7764084507042254\n",
      "MB Gradient Descent_epoch_7000_error_0.5061573386192322_accuracy_0.7764084507042254\n",
      "MB Gradient Descent_epoch_7100_error_0.506161630153656_accuracy_0.7764084507042254\n",
      "MB Gradient Descent_epoch_7200_error_0.5061657428741455_accuracy_0.7764084507042254\n",
      "MB Gradient Descent_epoch_7300_error_0.5061695575714111_accuracy_0.7764084507042254\n",
      "MB Gradient Descent_epoch_7400_error_0.506173312664032_accuracy_0.7764084507042254\n",
      "MB Gradient Descent_epoch_7500_error_0.5061771273612976_accuracy_0.7764084507042254\n",
      "MB Gradient Descent_epoch_7600_error_0.5061807632446289_accuracy_0.7764084507042254\n",
      "MB Gradient Descent_epoch_7700_error_0.5061841607093811_accuracy_0.7764084507042254\n",
      "MB Gradient Descent_epoch_7800_error_0.5061876773834229_accuracy_0.7764084507042254\n",
      "MB Gradient Descent_epoch_7900_error_0.5061909556388855_accuracy_0.7764084507042254\n",
      "MB Gradient Descent_epoch_8000_error_0.5061941146850586_accuracy_0.7764084507042254\n",
      "MB Gradient Descent_epoch_8100_error_0.5061970949172974_accuracy_0.7764084507042254\n",
      "MB Gradient Descent_epoch_8200_error_0.506199836730957_accuracy_0.7764084507042254\n",
      "MB Gradient Descent_epoch_8300_error_0.5062026381492615_accuracy_0.7764084507042254\n",
      "MB Gradient Descent_epoch_8400_error_0.5062054991722107_accuracy_0.7764084507042254\n",
      "MB Gradient Descent_epoch_8500_error_0.5062081813812256_accuracy_0.7764084507042254\n",
      "MB Gradient Descent_epoch_8600_error_0.5062108039855957_accuracy_0.7764084507042254\n",
      "MB Gradient Descent_epoch_8700_error_0.506213366985321_accuracy_0.7764084507042254\n",
      "MB Gradient Descent_epoch_8800_error_0.5062153935432434_accuracy_0.7764084507042254\n",
      "MB Gradient Descent_epoch_8900_error_0.5062175393104553_accuracy_0.7764084507042254\n",
      "MB Gradient Descent_epoch_9000_error_0.5062193870544434_accuracy_0.7764084507042254\n",
      "MB Gradient Descent_epoch_9100_error_0.5062214732170105_accuracy_0.7764084507042254\n",
      "MB Gradient Descent_epoch_9200_error_0.5062234997749329_accuracy_0.7764084507042254\n",
      "MB Gradient Descent_epoch_9300_error_0.5062254071235657_accuracy_0.7764084507042254\n",
      "MB Gradient Descent_epoch_9400_error_0.5062271952629089_accuracy_0.7764084507042254\n",
      "MB Gradient Descent_epoch_9500_error_0.506229043006897_accuracy_0.7764084507042254\n",
      "MB Gradient Descent_epoch_9600_error_0.5062306523323059_accuracy_0.7764084507042254\n",
      "MB Gradient Descent_epoch_9700_error_0.5062320828437805_accuracy_0.7764084507042254\n",
      "MB Gradient Descent_epoch_9800_error_0.5062335729598999_accuracy_0.7764084507042254\n",
      "MB Gradient Descent_epoch_9900_error_0.5062350034713745_accuracy_0.7764084507042254\n",
      "MB Gradient Descent_epoch_10000_error_0.5062363147735596_accuracy_0.7764084507042254\n"
     ]
    }
   ],
   "source": [
    "theta = run(x_train.to_numpy(), y_train.to_numpy().reshape(-1,1), \n",
    "          x_val.to_numpy(), y_val.to_numpy().reshape(-1,1), \n",
    "          epochs=10000, batch_size=32, lr=0.001, \n",
    "          lmbda=0.005, print_n=100, logger=csv_logger)"
   ]
  },
  {
   "cell_type": "code",
   "execution_count": 1975,
   "id": "078620c0-8057-48db-9a1a-f1d202cff79c",
   "metadata": {},
   "outputs": [
    {
     "name": "stdout",
     "output_type": "stream",
     "text": [
      "INFO:tensorflow:Graph was finalized.\n",
      "INFO:tensorflow:Running local_init_op.\n",
      "INFO:tensorflow:Done running local_init_op.\n",
      "MB Gradient Descent_epoch_100_error_0.69894939661026_accuracy_0.375\n",
      "MB Gradient Descent_epoch_200_error_0.6980233788490295_accuracy_0.3961267605633803\n",
      "MB Gradient Descent_epoch_300_error_0.7001430988311768_accuracy_0.38204225352112675\n",
      "MB Gradient Descent_epoch_400_error_0.6988067626953125_accuracy_0.6355633802816901\n",
      "MB Gradient Descent_epoch_500_error_0.6989691257476807_accuracy_0.375\n",
      "MB Gradient Descent_epoch_600_error_0.6977619528770447_accuracy_0.5774647887323944\n",
      "MB Gradient Descent_epoch_700_error_0.6998063921928406_accuracy_0.6302816901408451\n",
      "MB Gradient Descent_epoch_800_error_0.7012693881988525_accuracy_0.625\n",
      "MB Gradient Descent_epoch_900_error_0.6988867521286011_accuracy_0.2887323943661972\n",
      "MB Gradient Descent_epoch_1000_error_0.6992787718772888_accuracy_0.6109154929577465\n",
      "MB Gradient Descent_epoch_1100_error_0.7001345753669739_accuracy_0.5880281690140845\n",
      "MB Gradient Descent_epoch_1200_error_0.6974108219146729_accuracy_0.6619718309859155\n",
      "MB Gradient Descent_epoch_1300_error_0.6994186639785767_accuracy_0.4014084507042254\n",
      "MB Gradient Descent_epoch_1400_error_0.6982336640357971_accuracy_0.653169014084507\n",
      "MB Gradient Descent_epoch_1500_error_0.6986137628555298_accuracy_0.625\n",
      "MB Gradient Descent_epoch_1600_error_0.7002653479576111_accuracy_0.6778169014084507\n",
      "MB Gradient Descent_epoch_1700_error_0.6980034112930298_accuracy_0.49471830985915494\n",
      "MB Gradient Descent_epoch_1800_error_0.7005531787872314_accuracy_0.6126760563380281\n",
      "MB Gradient Descent_epoch_1900_error_0.6986778974533081_accuracy_0.6320422535211268\n",
      "MB Gradient Descent_epoch_2000_error_0.6977547407150269_accuracy_0.7147887323943662\n",
      "MB Gradient Descent_epoch_2100_error_0.6988468170166016_accuracy_0.6813380281690141\n",
      "MB Gradient Descent_epoch_2200_error_0.698469340801239_accuracy_0.625\n",
      "MB Gradient Descent_epoch_2300_error_0.6987300515174866_accuracy_0.6954225352112676\n",
      "MB Gradient Descent_epoch_2400_error_0.6986021399497986_accuracy_0.6302816901408451\n",
      "MB Gradient Descent_epoch_2500_error_0.6977536082267761_accuracy_0.33098591549295775\n",
      "MB Gradient Descent_epoch_2600_error_0.6997055411338806_accuracy_0.6197183098591549\n",
      "MB Gradient Descent_epoch_2700_error_0.6994885206222534_accuracy_0.6056338028169014\n",
      "MB Gradient Descent_epoch_2800_error_0.6969462037086487_accuracy_0.6390845070422535\n",
      "MB Gradient Descent_epoch_2900_error_0.6995022296905518_accuracy_0.6285211267605634\n",
      "MB Gradient Descent_epoch_3000_error_0.6993256211280823_accuracy_0.7165492957746479\n",
      "MB Gradient Descent_epoch_3100_error_0.6994170546531677_accuracy_0.625\n",
      "MB Gradient Descent_epoch_3200_error_0.6987335085868835_accuracy_0.625\n",
      "MB Gradient Descent_epoch_3300_error_0.697891891002655_accuracy_0.3397887323943662\n",
      "MB Gradient Descent_epoch_3400_error_0.6995872855186462_accuracy_0.6109154929577465\n",
      "MB Gradient Descent_epoch_3500_error_0.6984689831733704_accuracy_0.625\n",
      "MB Gradient Descent_epoch_3600_error_0.6990108489990234_accuracy_0.4242957746478873\n",
      "MB Gradient Descent_epoch_3700_error_0.6998010873794556_accuracy_0.625\n",
      "MB Gradient Descent_epoch_3800_error_0.6995252966880798_accuracy_0.7059859154929577\n",
      "MB Gradient Descent_epoch_3900_error_0.6993272304534912_accuracy_0.625\n",
      "MB Gradient Descent_epoch_4000_error_0.7007091641426086_accuracy_0.6073943661971831\n",
      "MB Gradient Descent_epoch_4100_error_0.6985596418380737_accuracy_0.5721830985915493\n",
      "MB Gradient Descent_epoch_4200_error_0.6978002190589905_accuracy_0.625\n",
      "MB Gradient Descent_epoch_4300_error_0.6995071172714233_accuracy_0.35563380281690143\n",
      "MB Gradient Descent_epoch_4400_error_0.6994987726211548_accuracy_0.625\n",
      "MB Gradient Descent_epoch_4500_error_0.699923574924469_accuracy_0.6461267605633803\n",
      "MB Gradient Descent_epoch_4600_error_0.6987274289131165_accuracy_0.6355633802816901\n",
      "MB Gradient Descent_epoch_4700_error_0.7014130353927612_accuracy_0.6126760563380281\n",
      "MB Gradient Descent_epoch_4800_error_0.7007953524589539_accuracy_0.522887323943662\n",
      "MB Gradient Descent_epoch_4900_error_0.6983319520950317_accuracy_0.596830985915493\n",
      "MB Gradient Descent_epoch_5000_error_0.6980871558189392_accuracy_0.6197183098591549\n",
      "MB Gradient Descent_epoch_5100_error_0.6997247934341431_accuracy_0.6179577464788732\n",
      "MB Gradient Descent_epoch_5200_error_0.6987501382827759_accuracy_0.6619718309859155\n",
      "MB Gradient Descent_epoch_5300_error_0.6988613605499268_accuracy_0.6267605633802817\n",
      "MB Gradient Descent_epoch_5400_error_0.7004850506782532_accuracy_0.6320422535211268\n",
      "MB Gradient Descent_epoch_5500_error_0.6994811296463013_accuracy_0.698943661971831\n",
      "MB Gradient Descent_epoch_5600_error_0.7002976536750793_accuracy_0.3926056338028169\n",
      "MB Gradient Descent_epoch_5700_error_0.6985729336738586_accuracy_0.36795774647887325\n",
      "MB Gradient Descent_epoch_5800_error_0.6990841031074524_accuracy_0.625\n",
      "MB Gradient Descent_epoch_5900_error_0.6986522674560547_accuracy_0.602112676056338\n",
      "MB Gradient Descent_epoch_6000_error_0.6970609426498413_accuracy_0.6056338028169014\n",
      "MB Gradient Descent_epoch_6100_error_0.7000088095664978_accuracy_0.7095070422535211\n",
      "MB Gradient Descent_epoch_6200_error_0.6995425224304199_accuracy_0.625\n",
      "MB Gradient Descent_epoch_6300_error_0.6986517310142517_accuracy_0.3380281690140845\n",
      "MB Gradient Descent_epoch_6400_error_0.6992852091789246_accuracy_0.30633802816901406\n",
      "MB Gradient Descent_epoch_6500_error_0.6991136074066162_accuracy_0.625\n",
      "MB Gradient Descent_epoch_6600_error_0.698620080947876_accuracy_0.625\n",
      "MB Gradient Descent_epoch_6700_error_0.6993429064750671_accuracy_0.49119718309859156\n",
      "MB Gradient Descent_epoch_6800_error_0.6969665288925171_accuracy_0.7852112676056338\n",
      "MB Gradient Descent_epoch_6900_error_0.6993969082832336_accuracy_0.6285211267605634\n",
      "MB Gradient Descent_epoch_7000_error_0.6994323134422302_accuracy_0.625\n",
      "MB Gradient Descent_epoch_7100_error_0.6979100704193115_accuracy_0.6126760563380281\n",
      "MB Gradient Descent_epoch_7200_error_0.6991156339645386_accuracy_0.5897887323943662\n",
      "MB Gradient Descent_epoch_7300_error_0.6972112059593201_accuracy_0.625\n",
      "MB Gradient Descent_epoch_7400_error_0.7006548047065735_accuracy_0.3380281690140845\n",
      "MB Gradient Descent_epoch_7500_error_0.6989678740501404_accuracy_0.7200704225352113\n",
      "MB Gradient Descent_epoch_7600_error_0.6969537734985352_accuracy_0.7130281690140845\n",
      "MB Gradient Descent_epoch_7700_error_0.7000705003738403_accuracy_0.625\n",
      "MB Gradient Descent_epoch_7800_error_0.6997372508049011_accuracy_0.625\n",
      "MB Gradient Descent_epoch_7900_error_0.6980730295181274_accuracy_0.4102112676056338\n",
      "MB Gradient Descent_epoch_8000_error_0.69878751039505_accuracy_0.6003521126760564\n",
      "MB Gradient Descent_epoch_8100_error_0.6983038783073425_accuracy_0.625\n",
      "MB Gradient Descent_epoch_8200_error_0.6994168758392334_accuracy_0.6214788732394366\n",
      "MB Gradient Descent_epoch_8300_error_0.6996359825134277_accuracy_0.6320422535211268\n",
      "MB Gradient Descent_epoch_8400_error_0.6981444954872131_accuracy_0.7112676056338029\n",
      "MB Gradient Descent_epoch_8500_error_0.7013001441955566_accuracy_0.625\n",
      "MB Gradient Descent_epoch_8600_error_0.6988239884376526_accuracy_0.3609154929577465\n",
      "MB Gradient Descent_epoch_8700_error_0.6989487409591675_accuracy_0.40669014084507044\n",
      "MB Gradient Descent_epoch_8800_error_0.6999330520629883_accuracy_0.6232394366197183\n",
      "MB Gradient Descent_epoch_8900_error_0.6971169710159302_accuracy_0.625\n",
      "MB Gradient Descent_epoch_9000_error_0.6996405720710754_accuracy_0.4242957746478873\n",
      "MB Gradient Descent_epoch_9100_error_0.6992183327674866_accuracy_0.5950704225352113\n",
      "MB Gradient Descent_epoch_9200_error_0.6999626159667969_accuracy_0.6355633802816901\n",
      "MB Gradient Descent_epoch_9300_error_0.7012534141540527_accuracy_0.625\n",
      "MB Gradient Descent_epoch_9400_error_0.6994142532348633_accuracy_0.31161971830985913\n",
      "MB Gradient Descent_epoch_9500_error_0.6994669437408447_accuracy_0.6214788732394366\n",
      "MB Gradient Descent_epoch_9600_error_0.6997388601303101_accuracy_0.6056338028169014\n",
      "MB Gradient Descent_epoch_9700_error_0.6981589794158936_accuracy_0.653169014084507\n",
      "MB Gradient Descent_epoch_9800_error_0.699782133102417_accuracy_0.6901408450704225\n",
      "MB Gradient Descent_epoch_9900_error_0.6987109184265137_accuracy_0.6813380281690141\n",
      "MB Gradient Descent_epoch_10000_error_0.6985843777656555_accuracy_0.625\n"
     ]
    },
    {
     "name": "stderr",
     "output_type": "stream",
     "text": [
      "C:\\Users\\mazg9\\Anaconda3\\envs\\galileo_2021\\lib\\site-packages\\sklearn\\metrics\\_classification.py:1245: UndefinedMetricWarning: Precision and F-score are ill-defined and being set to 0.0 in labels with no predicted samples. Use `zero_division` parameter to control this behavior.\n",
      "  _warn_prf(average, modifier, msg_start, len(result))\n",
      "C:\\Users\\mazg9\\Anaconda3\\envs\\galileo_2021\\lib\\site-packages\\sklearn\\metrics\\_classification.py:1245: UndefinedMetricWarning: Precision and F-score are ill-defined and being set to 0.0 in labels with no predicted samples. Use `zero_division` parameter to control this behavior.\n",
      "  _warn_prf(average, modifier, msg_start, len(result))\n"
     ]
    }
   ],
   "source": [
    "theta_ridge = run(x_train.to_numpy(), y_train.to_numpy().reshape(-1,1), \n",
    "          x_val.to_numpy(), y_val.to_numpy().reshape(-1,1), \n",
    "          epochs=10000, batch_size=32, lr=0.001, \n",
    "          lmbda=1, print_n=100, method=\"ridge\", logger=csv_logger)"
   ]
  },
  {
   "cell_type": "markdown",
   "id": "0f6aa909-c666-4a59-bb36-0c253b288bd2",
   "metadata": {},
   "source": [
    "### Ensemble"
   ]
  },
  {
   "cell_type": "code",
   "execution_count": 1966,
   "id": "3bae26e2-43b6-4652-8a23-d4435a444b89",
   "metadata": {},
   "outputs": [
    {
     "name": "stdout",
     "output_type": "stream",
     "text": [
      "              precision    recall  f1-score   support\n",
      "\n",
      "           0       0.84      0.89      0.86       105\n",
      "           1       0.82      0.75      0.79        73\n",
      "\n",
      "    accuracy                           0.83       178\n",
      "   macro avg       0.83      0.82      0.82       178\n",
      "weighted avg       0.83      0.83      0.83       178\n",
      "\n"
     ]
    }
   ],
   "source": [
    "from scipy.stats import mode\n",
    "y_hat_dtc = model_dtc.predict(x_val)\n",
    "y_hat_svm = model_svm.predict(x_val)\n",
    "y_hat_lreg = predict_lreg(x_val, theta)\n",
    "predictions = np.stack((y_hat_dtc, y_hat_svm, y_hat_val_nb, y_hat_lreg.reshape(-1)), axis=1)\n",
    "\n",
    "y_hat_ensemble = mode(predictions, axis=1)[0]\n",
    "report = classification_report(y_val, y_hat_ensemble)\n",
    "print(report)"
   ]
  },
  {
   "cell_type": "code",
   "execution_count": 1973,
   "id": "c54f2ffc-58f3-42f6-9125-466d97043522",
   "metadata": {},
   "outputs": [
    {
     "name": "stdout",
     "output_type": "stream",
     "text": [
      "              precision    recall  f1-score   support\n",
      "\n",
      "           0       0.81      0.91      0.86        89\n",
      "           1       0.81      0.65      0.72        54\n",
      "\n",
      "    accuracy                           0.81       143\n",
      "   macro avg       0.81      0.78      0.79       143\n",
      "weighted avg       0.81      0.81      0.81       143\n",
      "\n"
     ]
    }
   ],
   "source": [
    "\n",
    "y_hat_dtc = model_dtc.predict(x_test)\n",
    "y_hat_svm = model_svm.predict(x_test)\n",
    "y_hat_test_nb = predict_nb(x_test_nb)\n",
    "y_hat_lreg = predict_lreg(x_test, theta)\n",
    "\n",
    "predictions = np.stack((y_hat_dtc, y_hat_svm, y_hat_test_nb, y_hat_lreg.reshape(-1)), axis=1)\n",
    "\n",
    "y_hat_ensemble = mode(predictions, axis=1)[0]\n",
    "report = classification_report(y_test, y_hat_ensemble)\n",
    "print(report) \n",
    "\n",
    "### The accuracy improves with the mixed Naive Bayes MODEL, but the recall decreases!!!!"
   ]
  },
  {
   "cell_type": "markdown",
   "id": "a6c0ab0a-7041-495f-a122-cd2e668d70c0",
   "metadata": {},
   "source": [
    "### Investigacion"
   ]
  },
  {
   "cell_type": "markdown",
   "id": "7803cdec-d075-4404-935e-1e44d86f73e5",
   "metadata": {},
   "source": [
    "#### Tensorflow Export Methods and Deploy\n",
    "\n",
    "Tensorflow tiene varios metodos para servir un modelo a produccion, ya que tensorflow esta pensado con una solucion para este escenario. `Tensorflow Serving` es la herramienta que nos ayuda con esta tarea. Haciendo facil el servir nuevos algoritmos y experimentos en prouccion. `Tensorflow Serving` esta diseñado para integrar facilmente modelos de Tensorflow, pero puede tambien utilizarse para servir otros modelos. \n",
    "\n",
    "Existen tres paso para lograr esto:\n",
    "- Entrenar y Exportar el modelo\n",
    "- Crear un Docker Container\n",
    "- Deployearlo con Kubernetes (extra)\n",
    "\n",
    "##### Instalar\n",
    "\n",
    "La opcion recomendada para instalar `Tensorflow Serving` es por medio de imagenes de Docker, es la forma mas direca y sencilla de usarlo si no necesitas configuraciones especiales que no permitan correrlo contenerizado. Y como beneficio de usar Docker, es tambien la manera mas facil de hacer trabajar Tensorflow Serving con soporte para GPU.\n",
    "Pero en Linux tambien puede ser installado usando paquetes APT. \n",
    "\n",
    "##### Entrenar y Exportar Modelo\n",
    "\n",
    "Para esta parte, en el entrenamiento usamos una session y un grafo a la que se le introduce tensores. Para lograr exportar el modelo, usamos el `SavedModelBuilder`, esto lo que haces es tomar el estado del modelo entrando y almacenarlo en un formato especial para que pueda ser cargado por inferencia.\n",
    "\n",
    "\n",
    "`tf.saved_model.builder.SavedModelBuilder(export_path)`, export_path es la ruta del directorio donde se guardara las versiones del modelo. Este creara el directorio si no existe. Cada version se almacenara en un subdirectorio diferente. \n",
    "\n",
    "Luego para agregar el grafo del modelo entrenado junto a sus variables, se utiliza el metodo `add_meta_graph_and_variables(sess, tags, signature_def_map)`. A este se le pasa como argumentos la session que contiene el grafo entrenado, se le indica los tags con los que se desea guardar con el grafo y el ultimo sirva indicar el mapeo de la firma la cual indica el tipo de modelo que esta siendo exportad y los tensores de entrada/salida para enlazar con la interfaz.\n",
    "\n",
    "[TensorFlow Serving](https://www.tensorflow.org/tfx/guide/serving)\n",
    "\n",
    "[TensorFlow Serving with Docker](https://www.tensorflow.org/tfx/serving/docker)\n",
    "\n",
    "[Exporting a SavedModel For Prediction](https://cloud.google.com/ai-platform/prediction/docs/exporting-savedmodel-for-prediction)"
   ]
  },
  {
   "cell_type": "markdown",
   "id": "55a57d68-5b2d-46c8-883c-ffdd2f555e5c",
   "metadata": {},
   "source": [
    "#### K - Folds Cross Validation\n",
    "\n",
    "K Folds Cross Validation es una tecnica que tiene como objetivo evitar que un modelo *memorice* y se ajuste a los datos de entrenamiento. Y esto es un error que ocurre a menudo al tratar de encontrar los parametros de una funcion de prediccion, optimizar y probar sobre el  mismo set de datos. Al final los parametros se ajustaran al set sobre el que se optimizaron los parametros. Esto provocara que para los datos sobre los que fue entrenado se tendra un buen \"rendimiento\" pero al querer predecir sobre datos nunca antes vistos, no nos sera de tanta utilidad el modelo. Esto tratamos de evitar con tecnicas como K-Folds Cross Validation, el sobreajsute. El objetivo es que el modelo generalice de buena manera, no que memorice conocimiento sobre un set de datos especifico. Y esto puede ocurrir cuando estamos optimizando los hyperparametros de los modelos como el `learning rate` o `lambda` en distintos metodos.\n",
    "\n",
    "Por eso se utiliza un set de validacion, para tunear los hyperparametros y otro set para medir el desempeño del modelo tuneado. Con un set de datos que nunca antes habia \"visto\". Por lo que la evaluacion es aislada. El problema con este enfoque es que partir nuestro dataset en tres distintos significa reducir considerablemente el tamaño del dataset que tenemos disponible para entrenar nuestro modelo. Y solo movemos el problema de ajuste al momento de la particion del set de datos. \n",
    "\n",
    "La forma eficiente de saltarse los obstaculos antes descritos es por medio de `Cross Validation`, siempre separando un set de datos de prueba para evaluar el modelo final pero utilizando todo los datos para entrenamiento, en diferentes combinaciones. El enfoque mas sencillo es `K Folds`,  y este lo que hace es dividir el set en K sets mas pequeños (Similar al Mini Batch). Pero la diferencia es que se utilizar K-1 para entrenar el modelo y 1 para evaluar. Luego se utiliza para entrenar el Fold ya utilizado para evaluar y se saca otro para evaluar. Al final se utiliza cada Fold una vez para evaluar el modelo. Y los 5 se utilizan al menos K-1 vez durante el proceo de entrenamiento y tuneo del modelo. Aunque este enfoque puede verse como computacionalmente costoso, permite no desperdiciar la data que tenemos disponible para entrenar y reduce la posibilidad de sobreajuste a los datos de validacion o entrenamiento. Esto es especialmente critico cuando no se posee de muchos datos para entrenar al modelo. \n",
    "\n",
    "<img style=\"{right:auto;}\" src=\"https://scikit-learn.org/stable/_images/grid_search_cross_validation.png\"/>\n",
    "Fuente: Scikit Learn\n",
    "\n",
    "[Cross Validation](https://scikit-learn.org/stable/modules/cross_validation.html)"
   ]
  },
  {
   "cell_type": "markdown",
   "id": "be09b0ab-42a4-45ca-a430-6d3944e76b38",
   "metadata": {},
   "source": [
    "### Conclusiones\n",
    "\n",
    "- Se pudo observar que en los modelos \"ensembles\" que resolvian el problema de clasificacion por medio de votacion (moda de la clase que mas repetia) tiene un mejor rendimiento. Que los modelos por separado. \n",
    "- El accuracy final del modelo Ensemble fue de 0.81,  pero obtuvo un bajo recall para la clase 1 (sobreviviente) lo que podria indicar que la sensibilidad del modelo es aun baja si nuestro objetivo es encontrar la mayor cantidad de posibles sobrevivientes. \n",
    "- El proceso de encontrar los hyperparametros de un modelo para optimizarlo no es siempre el mismo en los distintos modelos. Es una tarea repetitiva en la cual ayuda mucho la bitacora para llevar registro de las configuraciones evaluadas hasta el momento.\n",
    "- El DecisionTreeClasifier fue uno de los modelos que mas padecio el sobreajuste, rapidamente \"memorizaba\" el dataset de entrenamiento teniendo altas puntuaciones al predecir sobre ese mismo dataset, pero su desempeño era bastante malo para generalizar, la forma de mitigar este escenario fue tuneando los hiperparametros. Reduciendo el tamaño del arbol y la cantidad de caracteristicas usadas para construir el arbol por ejemplo.\n",
    "\n",
    "\n",
    "### Recomendaciones\n",
    "\n",
    "- Dado que fijamos un set de datos para validacion, redujimos el tamaño del set de entrenamiento por lo que una posible mejora para buscar mejorar la generalizacion del modelo es aplicar la tecnica de `Cross Validation` para aumentar el tamaño del dataset a disposicion para enseñar y encontrar los mejores parametros. "
   ]
  }
 ],
 "metadata": {
  "kernelspec": {
   "display_name": "Python 3",
   "language": "python",
   "name": "python3"
  },
  "language_info": {
   "codemirror_mode": {
    "name": "ipython",
    "version": 3
   },
   "file_extension": ".py",
   "mimetype": "text/x-python",
   "name": "python",
   "nbconvert_exporter": "python",
   "pygments_lexer": "ipython3",
   "version": "3.8.5"
  }
 },
 "nbformat": 4,
 "nbformat_minor": 5
}
