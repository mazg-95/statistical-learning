{
 "cells": [
  {
   "cell_type": "code",
   "execution_count": 1,
   "id": "agricultural-algorithm",
   "metadata": {},
   "outputs": [],
   "source": [
    "# Load the TensorBoard notebook extension\n",
    "%load_ext tensorboard"
   ]
  },
  {
   "cell_type": "code",
   "execution_count": 2,
   "id": "cellular-fever",
   "metadata": {},
   "outputs": [],
   "source": [
    "import tensorflow as tf\n",
    "import datetime, os"
   ]
  },
  {
   "cell_type": "code",
   "execution_count": 29,
   "id": "outdoor-humanity",
   "metadata": {},
   "outputs": [],
   "source": [
    "import numpy as np\n",
    "import pandas as pd\n",
    "from sklearn.model_selection import train_test_split\n",
    "%matplotlib inline\n",
    "import matplotlib.pyplot as plt"
   ]
  },
  {
   "cell_type": "code",
   "execution_count": 6,
   "id": "engaging-button",
   "metadata": {},
   "outputs": [
    {
     "name": "stdout",
     "output_type": "stream",
     "text": [
      "2.3.0\n"
     ]
    }
   ],
   "source": [
    "print(tf.__version__)"
   ]
  },
  {
   "cell_type": "code",
   "execution_count": 163,
   "id": "stuck-avenue",
   "metadata": {},
   "outputs": [
    {
     "name": "stdout",
     "output_type": "stream",
     "text": [
      "Enabled compatitility to tf1.x\n"
     ]
    }
   ],
   "source": [
    "if tf.__version__.startswith(\"2.\"):\n",
    "  import tensorflow.compat.v1 as tf\n",
    "  tf.compat.v1.disable_v2_behavior()\n",
    "  tf.compat.v1.disable_eager_execution()\n",
    "  print(\"Enabled compatitility to tf1.x\")"
   ]
  },
  {
   "cell_type": "code",
   "execution_count": 5,
   "id": "rapid-topic",
   "metadata": {},
   "outputs": [],
   "source": [
    "#Carga de datos\n",
    "data = np.load(\"./proyecto_data/proyecto_training_data.npy\")"
   ]
  },
  {
   "cell_type": "code",
   "execution_count": 328,
   "id": "coupled-colonial",
   "metadata": {},
   "outputs": [
    {
     "data": {
      "text/plain": [
       "count    1460.000000\n",
       "mean        6.099315\n",
       "std         1.382997\n",
       "min         1.000000\n",
       "25%         5.000000\n",
       "50%         6.000000\n",
       "75%         7.000000\n",
       "max        10.000000\n",
       "Name: OvrllQual, dtype: float64"
      ]
     },
     "execution_count": 328,
     "metadata": {},
     "output_type": "execute_result"
    }
   ],
   "source": [
    "#Carga de datos\n",
    "data = np.load(\"./proyecto_data/proyecto_training_data.npy\")\n",
    "data_df = pd.DataFrame(data, columns=[\"SalePrice\", \"OvrllQual\", \"1stFlrSF\", \"TotRmAbvGrd\", \"YearBuilt\" ,\"LotFrontage\"], dtype='float32')\n",
    "data_df = data_df.astype('float32')\n",
    "\n",
    "x, y = data_df.iloc[:,1:], data_df.loc[:,[\"SalePrice\"]]\n",
    "train_x, test_x, train_y, test_y = train_test_split(x, y, test_size=0.3, random_state=5)\n",
    "data_df[\"OvrllQual\"].describe()"
   ]
  },
  {
   "cell_type": "code",
   "execution_count": 326,
   "id": "refined-oxford",
   "metadata": {},
   "outputs": [
    {
     "name": "stdout",
     "output_type": "stream",
     "text": [
      "      SalePrice\n",
      "501    226700.0\n",
      "352     95000.0\n",
      "428    195400.0\n",
      "980    178400.0\n",
      "488    160000.0\n",
      "...         ...\n",
      "1424   144000.0\n",
      "1142   424870.0\n",
      "998     91000.0\n",
      "206    143900.0\n",
      "867    129000.0\n",
      "\n",
      "[1022 rows x 1 columns]\n",
      "Sale Price Null Values: 0\n",
      "OvrllQual Null values: 0\n",
      "1stFlrSF Null values: 0\n",
      "TotRmAbvGrd Null values: 0\n",
      "YearBuilt Null values: 0\n",
      "LotFrontage Null values: 174\n"
     ]
    }
   ],
   "source": [
    "print(train_y)\n",
    "print(f\"Sale Price Null Values: {train_y['SalePrice'].isnull().sum()}\")\n",
    "print(f\"OvrllQual Null values: {train_x['OvrllQual'].isnull().sum()}\")\n",
    "print(f\"1stFlrSF Null values: {train_x['1stFlrSF'].isnull().sum()}\")\n",
    "print(f\"TotRmAbvGrd Null values: {train_x['TotRmAbvGrd'].isnull().sum()}\")\n",
    "print(f\"YearBuilt Null values: {train_x['YearBuilt'].isnull().sum()}\")\n",
    "print(f\"LotFrontage Null values: {train_x['LotFrontage'].isnull().sum()}\")"
   ]
  },
  {
   "cell_type": "code",
   "execution_count": 327,
   "id": "nearby-trinity",
   "metadata": {},
   "outputs": [
    {
     "data": {
      "text/html": [
       "<div>\n",
       "<style scoped>\n",
       "    .dataframe tbody tr th:only-of-type {\n",
       "        vertical-align: middle;\n",
       "    }\n",
       "\n",
       "    .dataframe tbody tr th {\n",
       "        vertical-align: top;\n",
       "    }\n",
       "\n",
       "    .dataframe thead th {\n",
       "        text-align: right;\n",
       "    }\n",
       "</style>\n",
       "<table border=\"1\" class=\"dataframe\">\n",
       "  <thead>\n",
       "    <tr style=\"text-align: right;\">\n",
       "      <th></th>\n",
       "      <th>OvrllQual</th>\n",
       "      <th>1stFlrSF</th>\n",
       "      <th>TotRmAbvGrd</th>\n",
       "      <th>YearBuilt</th>\n",
       "      <th>LotFrontage</th>\n",
       "    </tr>\n",
       "  </thead>\n",
       "  <tbody>\n",
       "    <tr>\n",
       "      <th>count</th>\n",
       "      <td>1022.000000</td>\n",
       "      <td>1022.000000</td>\n",
       "      <td>1022.000000</td>\n",
       "      <td>1022.000000</td>\n",
       "      <td>848.000000</td>\n",
       "    </tr>\n",
       "    <tr>\n",
       "      <th>mean</th>\n",
       "      <td>6.096869</td>\n",
       "      <td>1171.592896</td>\n",
       "      <td>6.540117</td>\n",
       "      <td>1971.003906</td>\n",
       "      <td>70.116745</td>\n",
       "    </tr>\n",
       "    <tr>\n",
       "      <th>std</th>\n",
       "      <td>1.381779</td>\n",
       "      <td>394.938507</td>\n",
       "      <td>1.647678</td>\n",
       "      <td>30.431213</td>\n",
       "      <td>25.238447</td>\n",
       "    </tr>\n",
       "    <tr>\n",
       "      <th>min</th>\n",
       "      <td>1.000000</td>\n",
       "      <td>372.000000</td>\n",
       "      <td>3.000000</td>\n",
       "      <td>1872.000000</td>\n",
       "      <td>21.000000</td>\n",
       "    </tr>\n",
       "    <tr>\n",
       "      <th>25%</th>\n",
       "      <td>5.000000</td>\n",
       "      <td>884.000000</td>\n",
       "      <td>5.000000</td>\n",
       "      <td>1953.000000</td>\n",
       "      <td>59.000000</td>\n",
       "    </tr>\n",
       "    <tr>\n",
       "      <th>50%</th>\n",
       "      <td>6.000000</td>\n",
       "      <td>1094.500000</td>\n",
       "      <td>6.000000</td>\n",
       "      <td>1972.000000</td>\n",
       "      <td>69.000000</td>\n",
       "    </tr>\n",
       "    <tr>\n",
       "      <th>75%</th>\n",
       "      <td>7.000000</td>\n",
       "      <td>1392.000000</td>\n",
       "      <td>7.000000</td>\n",
       "      <td>2001.000000</td>\n",
       "      <td>80.000000</td>\n",
       "    </tr>\n",
       "    <tr>\n",
       "      <th>max</th>\n",
       "      <td>10.000000</td>\n",
       "      <td>4692.000000</td>\n",
       "      <td>14.000000</td>\n",
       "      <td>2010.000000</td>\n",
       "      <td>313.000000</td>\n",
       "    </tr>\n",
       "  </tbody>\n",
       "</table>\n",
       "</div>"
      ],
      "text/plain": [
       "         OvrllQual     1stFlrSF  TotRmAbvGrd    YearBuilt  LotFrontage\n",
       "count  1022.000000  1022.000000  1022.000000  1022.000000   848.000000\n",
       "mean      6.096869  1171.592896     6.540117  1971.003906    70.116745\n",
       "std       1.381779   394.938507     1.647678    30.431213    25.238447\n",
       "min       1.000000   372.000000     3.000000  1872.000000    21.000000\n",
       "25%       5.000000   884.000000     5.000000  1953.000000    59.000000\n",
       "50%       6.000000  1094.500000     6.000000  1972.000000    69.000000\n",
       "75%       7.000000  1392.000000     7.000000  2001.000000    80.000000\n",
       "max      10.000000  4692.000000    14.000000  2010.000000   313.000000"
      ]
     },
     "execution_count": 327,
     "metadata": {},
     "output_type": "execute_result"
    }
   ],
   "source": [
    "# La funcion describe nos presenta ciertas metricas estadisticas descriptivas. \n",
    "train_x.describe()"
   ]
  },
  {
   "cell_type": "code",
   "execution_count": 323,
   "id": "ignored-custody",
   "metadata": {},
   "outputs": [
    {
     "data": {
      "text/html": [
       "<div>\n",
       "<style scoped>\n",
       "    .dataframe tbody tr th:only-of-type {\n",
       "        vertical-align: middle;\n",
       "    }\n",
       "\n",
       "    .dataframe tbody tr th {\n",
       "        vertical-align: top;\n",
       "    }\n",
       "\n",
       "    .dataframe thead th {\n",
       "        text-align: right;\n",
       "    }\n",
       "</style>\n",
       "<table border=\"1\" class=\"dataframe\">\n",
       "  <thead>\n",
       "    <tr style=\"text-align: right;\">\n",
       "      <th></th>\n",
       "      <th>SalePrice</th>\n",
       "    </tr>\n",
       "  </thead>\n",
       "  <tbody>\n",
       "    <tr>\n",
       "      <th>count</th>\n",
       "      <td>1022.000000</td>\n",
       "    </tr>\n",
       "    <tr>\n",
       "      <th>mean</th>\n",
       "      <td>181670.875000</td>\n",
       "    </tr>\n",
       "    <tr>\n",
       "      <th>std</th>\n",
       "      <td>81130.835938</td>\n",
       "    </tr>\n",
       "    <tr>\n",
       "      <th>min</th>\n",
       "      <td>35311.000000</td>\n",
       "    </tr>\n",
       "    <tr>\n",
       "      <th>25%</th>\n",
       "      <td>129000.000000</td>\n",
       "    </tr>\n",
       "    <tr>\n",
       "      <th>50%</th>\n",
       "      <td>161500.000000</td>\n",
       "    </tr>\n",
       "    <tr>\n",
       "      <th>75%</th>\n",
       "      <td>214000.000000</td>\n",
       "    </tr>\n",
       "    <tr>\n",
       "      <th>max</th>\n",
       "      <td>745000.000000</td>\n",
       "    </tr>\n",
       "  </tbody>\n",
       "</table>\n",
       "</div>"
      ],
      "text/plain": [
       "           SalePrice\n",
       "count    1022.000000\n",
       "mean   181670.875000\n",
       "std     81130.835938\n",
       "min     35311.000000\n",
       "25%    129000.000000\n",
       "50%    161500.000000\n",
       "75%    214000.000000\n",
       "max    745000.000000"
      ]
     },
     "execution_count": 323,
     "metadata": {},
     "output_type": "execute_result"
    }
   ],
   "source": [
    "train_y.describe()"
   ]
  },
  {
   "cell_type": "code",
   "execution_count": 66,
   "id": "approximate-technician",
   "metadata": {},
   "outputs": [
    {
     "data": {
      "text/plain": [
       "Text(0.5, 1.0, 'OvrllQual vs SalePrice Correlacion = 0.80')"
      ]
     },
     "execution_count": 66,
     "metadata": {},
     "output_type": "execute_result"
    },
    {
     "data": {
      "image/png": "[encoded data removed]",
      "text/plain": [
       "<Figure size 432x288 with 1 Axes>"
      ]
     },
     "metadata": {
      "needs_background": "light"
     },
     "output_type": "display_data"
    }
   ],
   "source": [
    "fig, axs = plt.subplots(1,1)\n",
    "p = train_y['SalePrice'].corr(train_x['OvrllQual'], method='pearson')\n",
    "title = f\"OvrllQual vs SalePrice Correlacion = {p:.2f}\"\n",
    "axs.scatter(train_x['OvrllQual'], train_y)\n",
    "axs.set_xlabel(\"Overall Quality\")\n",
    "axs.set_ylabel(\"Sale Price\")\n",
    "axs.set_title(title)"
   ]
  },
  {
   "cell_type": "markdown",
   "id": "victorian-pittsburgh",
   "metadata": {},
   "source": [
    "Función de costo MSE\n",
    "\n",
    "$J(g) = (1/2)g^2$\n",
    "\n",
    "$g(h) = h - y$\n",
    "\n",
    "$h(w_1) = w_1x$\n",
    "\n"
   ]
  },
  {
   "cell_type": "code",
   "execution_count": 346,
   "id": "diagnostic-vermont",
   "metadata": {},
   "outputs": [],
   "source": [
    "def compute_prediction(X, params):\n",
    "    ## add a column of one's to add the bias (b) in the same vectorize operation\n",
    "    padding = tf.constant([[0,0],[1, 0]])\n",
    "    X_with_bias = tf.pad(X, padding, \"CONSTANT\", constant_values=1, name=\"PreparedData\")\n",
    "    return tf.linalg.matmul(X_with_bias, params, name=\"Predict\")\n",
    "\n",
    "def compute_mse(y, y_hat):\n",
    "    diff = tf.math.square(tf.math.subtract(y, y_hat))\n",
    "    return 0.5 * tf.reduce_mean(diff)\n",
    "\n",
    "def build_linear_model_graph(tensor_x, tensor_y, params, lr=0.001):\n",
    "    prediction = compute_prediction(tensor_x, params)\n",
    "    mse = compute_mse(tensor_y, prediction)\n",
    "    gradient = tf.gradients(mse, [params])\n",
    "    update_params = tf.assign(params, params - lr * gradient[0], name=\"UpdateParams\")\n",
    "    return prediction, update_params, params\n",
    "\n",
    "def fit(X, Y, batch_size, epochs=100, lr=0.001):\n",
    "    tf.reset_default_graph()\n",
    "    params = tf.get_variable(\"Params\", dtype=tf.float32, shape=[2, 1],initializer=tf.zeros_initializer())\n",
    "    tensor_x = tf.placeholder(tf.float32, [None,1], name=\"X\")\n",
    "    tensor_y = tf.placeholder(tf.float32, [None,1], name=\"Y\")\n",
    "    get_prediction, update_params, params = build_linear_model_graph(tensor_x, tensor_y, params, lr)\n",
    "    n = X.shape[0] // batch_size\n",
    "    final_tetha = None\n",
    "    with tf.train.MonitoredSession() as session:\n",
    "        for epoch in range(epochs): \n",
    "            for i in range(n):\n",
    "                start, end = i * batch_size, (i+1) * batch_size\n",
    "                x_mbatch = np.array(X[start:end,]).reshape(-1,1)\n",
    "                y_mbatch = np.array(Y[start:end]).reshape(-1,1)\n",
    "                feed_dict = { tensor_x: x_mbatch, tensor_y: y_mbatch}\n",
    "                _, theta = session.run([update_params, params], feed_dict=feed_dict)\n",
    "            feed_dict = { tensor_x: np.array(X).reshape(-1,1), tensor_y: np.array(Y).reshape(-1,1) }\n",
    "            y_estimates = session.run(get_prediction, feed_dict=feed_dict)\n",
    "        final_theta = session.run(params, feed_dict=feed_dict)\n",
    "    def predict(x): \n",
    "        return compute_prediction(x, params)\n",
    "    return final_theta, predict"
   ]
  },
  {
   "cell_type": "code",
   "execution_count": 372,
   "id": "mental-lover",
   "metadata": {},
   "outputs": [
    {
     "name": "stdout",
     "output_type": "stream",
     "text": [
      "INFO:tensorflow:Graph was finalized.\n",
      "INFO:tensorflow:Running local_init_op.\n",
      "INFO:tensorflow:Done running local_init_op.\n"
     ]
    },
    {
     "data": {
      "image/png": "[encoded data removed]",
      "text/plain": [
       "<Figure size 432x288 with 1 Axes>"
      ]
     },
     "metadata": {
      "needs_background": "light"
     },
     "output_type": "display_data"
    }
   ],
   "source": [
    "\n",
    "x_train, y_train = train_x[\"OvrllQual\"], train_y[\"SalePrice\"]\n",
    "x_test, y_test = test_x[\"OvrllQual\"], test_y[\"SalePrice\"]\n",
    "plt.scatter(x_test, y_test)\n",
    "theta, predict = fit(x_train, y_train, batch_size=20, epochs=100, lr=0.001)\n",
    "with tf.Session() as session:\n",
    "    y_estimates = session.run(compute_prediction(np.array(x_test).reshape(-1,1).astype('float32'), theta))\n",
    "    plt.plot(x, y_estimates, color='r')\n",
    "    plt.title(f\"Params: {', '.join(map(str, theta.reshape(-1,)))}\")\n",
    "    plt.show()\n"
   ]
  },
  {
   "cell_type": "code",
   "execution_count": 359,
   "id": "successful-thunder",
   "metadata": {},
   "outputs": [],
   "source": []
  },
  {
   "cell_type": "code",
   "execution_count": null,
   "id": "revised-current",
   "metadata": {},
   "outputs": [],
   "source": []
  }
 ],
 "metadata": {
  "kernelspec": {
   "display_name": "Python 3",
   "language": "python",
   "name": "python3"
  },
  "language_info": {
   "codemirror_mode": {
    "name": "ipython",
    "version": 3
   },
   "file_extension": ".py",
   "mimetype": "text/x-python",
   "name": "python",
   "nbconvert_exporter": "python",
   "pygments_lexer": "ipython3",
   "version": "3.8.5"
  }
 },
 "nbformat": 4,
 "nbformat_minor": 5
}
