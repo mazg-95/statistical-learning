{
 "cells": [
  {
   "cell_type": "code",
   "execution_count": 1,
   "id": "certified-victoria",
   "metadata": {},
   "outputs": [],
   "source": [
    "# Load the TensorBoard notebook extension\n",
    "%load_ext tensorboard"
   ]
  },
  {
   "cell_type": "code",
   "execution_count": 2,
   "id": "square-columbia",
   "metadata": {},
   "outputs": [],
   "source": [
    "import tensorflow as tf\n",
    "import datetime, os"
   ]
  },
  {
   "cell_type": "code",
   "execution_count": 3,
   "id": "narrow-interpretation",
   "metadata": {},
   "outputs": [],
   "source": [
    "import numpy as np\n",
    "import pandas as pd\n",
    "from sklearn.model_selection import train_test_split\n",
    "%matplotlib inline\n",
    "import matplotlib.pyplot as plt\n",
    "from datetime import datetime"
   ]
  },
  {
   "cell_type": "code",
   "execution_count": 4,
   "id": "comprehensive-dodge",
   "metadata": {},
   "outputs": [
    {
     "name": "stdout",
     "output_type": "stream",
     "text": [
      "2.3.0\n"
     ]
    }
   ],
   "source": [
    "print(tf.__version__)"
   ]
  },
  {
   "cell_type": "code",
   "execution_count": 5,
   "id": "genuine-backing",
   "metadata": {},
   "outputs": [
    {
     "name": "stdout",
     "output_type": "stream",
     "text": [
      "WARNING:tensorflow:From C:\\Users\\mazg9\\Anaconda3\\envs\\galileo_2021\\lib\\site-packages\\tensorflow\\python\\compat\\v2_compat.py:96: disable_resource_variables (from tensorflow.python.ops.variable_scope) is deprecated and will be removed in a future version.\n",
      "Instructions for updating:\n",
      "non-resource variables are not supported in the long term\n",
      "Enabled compatitility to tf1.x\n"
     ]
    }
   ],
   "source": [
    "if tf.__version__.startswith(\"2.\"):\n",
    "  import tensorflow.compat.v1 as tf\n",
    "  tf.compat.v1.disable_v2_behavior()\n",
    "  tf.compat.v1.disable_eager_execution()\n",
    "  print(\"Enabled compatitility to tf1.x\")"
   ]
  },
  {
   "cell_type": "code",
   "execution_count": 6,
   "id": "generous-freight",
   "metadata": {},
   "outputs": [],
   "source": [
    "#Carga de datos\n",
    "data = np.load(\"./proyecto_data/proyecto_training_data.npy\")"
   ]
  },
  {
   "cell_type": "code",
   "execution_count": 7,
   "id": "conceptual-basketball",
   "metadata": {},
   "outputs": [],
   "source": [
    "logs_path = \"./logs/graph_\""
   ]
  },
  {
   "cell_type": "code",
   "execution_count": 8,
   "id": "painted-agency",
   "metadata": {},
   "outputs": [
    {
     "data": {
      "text/plain": [
       "count    1460.000000\n",
       "mean        6.099315\n",
       "std         1.382997\n",
       "min         1.000000\n",
       "25%         5.000000\n",
       "50%         6.000000\n",
       "75%         7.000000\n",
       "max        10.000000\n",
       "Name: OvrllQual, dtype: float64"
      ]
     },
     "execution_count": 8,
     "metadata": {},
     "output_type": "execute_result"
    }
   ],
   "source": [
    "#Carga de datos\n",
    "data = np.load(\"./proyecto_data/proyecto_training_data.npy\")\n",
    "data_df = pd.DataFrame(data, columns=[\"SalePrice\", \"OvrllQual\", \"1stFlrSF\", \"TotRmAbvGrd\", \"YearBuilt\" ,\"LotFrontage\"], dtype='float32')\n",
    "data_df = data_df.astype('float32')\n",
    "\n",
    "np.random.seed(101)\n",
    "tf.set_random_seed(101)\n",
    "\n",
    "x, y = data_df.iloc[:,1:], data_df.loc[:,[\"SalePrice\"]]\n",
    "train_x, test_x, train_y, test_y = train_test_split(x, y, test_size=0.3)\n",
    "data_df[\"OvrllQual\"].describe()"
   ]
  },
  {
   "cell_type": "code",
   "execution_count": 9,
   "id": "approximate-grace",
   "metadata": {},
   "outputs": [
    {
     "name": "stdout",
     "output_type": "stream",
     "text": [
      "      SalePrice\n",
      "1312   302000.0\n",
      "1408   125500.0\n",
      "1165   233170.0\n",
      "1346   262500.0\n",
      "399    241000.0\n",
      "...         ...\n",
      "1417   340000.0\n",
      "75      91000.0\n",
      "599    151000.0\n",
      "1361   260000.0\n",
      "863    132500.0\n",
      "\n",
      "[1022 rows x 1 columns]\n",
      "Sale Price Null Values: 0\n",
      "OvrllQual Null values: 0\n",
      "1stFlrSF Null values: 0\n",
      "TotRmAbvGrd Null values: 0\n",
      "YearBuilt Null values: 0\n",
      "LotFrontage Null values: 184\n"
     ]
    }
   ],
   "source": [
    "print(train_y)\n",
    "print(f\"Sale Price Null Values: {train_y['SalePrice'].isnull().sum()}\")\n",
    "print(f\"OvrllQual Null values: {train_x['OvrllQual'].isnull().sum()}\")\n",
    "print(f\"1stFlrSF Null values: {train_x['1stFlrSF'].isnull().sum()}\")\n",
    "print(f\"TotRmAbvGrd Null values: {train_x['TotRmAbvGrd'].isnull().sum()}\")\n",
    "print(f\"YearBuilt Null values: {train_x['YearBuilt'].isnull().sum()}\")\n",
    "print(f\"LotFrontage Null values: {train_x['LotFrontage'].isnull().sum()}\")"
   ]
  },
  {
   "cell_type": "code",
   "execution_count": 10,
   "id": "romance-argentina",
   "metadata": {},
   "outputs": [
    {
     "data": {
      "text/html": [
       "<div>\n",
       "<style scoped>\n",
       "    .dataframe tbody tr th:only-of-type {\n",
       "        vertical-align: middle;\n",
       "    }\n",
       "\n",
       "    .dataframe tbody tr th {\n",
       "        vertical-align: top;\n",
       "    }\n",
       "\n",
       "    .dataframe thead th {\n",
       "        text-align: right;\n",
       "    }\n",
       "</style>\n",
       "<table border=\"1\" class=\"dataframe\">\n",
       "  <thead>\n",
       "    <tr style=\"text-align: right;\">\n",
       "      <th></th>\n",
       "      <th>OvrllQual</th>\n",
       "      <th>1stFlrSF</th>\n",
       "      <th>TotRmAbvGrd</th>\n",
       "      <th>YearBuilt</th>\n",
       "      <th>LotFrontage</th>\n",
       "    </tr>\n",
       "  </thead>\n",
       "  <tbody>\n",
       "    <tr>\n",
       "      <th>count</th>\n",
       "      <td>1022.000000</td>\n",
       "      <td>1022.000000</td>\n",
       "      <td>1022.000000</td>\n",
       "      <td>1022.000000</td>\n",
       "      <td>838.000000</td>\n",
       "    </tr>\n",
       "    <tr>\n",
       "      <th>mean</th>\n",
       "      <td>6.113503</td>\n",
       "      <td>1165.537231</td>\n",
       "      <td>6.502935</td>\n",
       "      <td>1972.066528</td>\n",
       "      <td>70.400955</td>\n",
       "    </tr>\n",
       "    <tr>\n",
       "      <th>std</th>\n",
       "      <td>1.373755</td>\n",
       "      <td>375.758789</td>\n",
       "      <td>1.615756</td>\n",
       "      <td>29.648966</td>\n",
       "      <td>24.111233</td>\n",
       "    </tr>\n",
       "    <tr>\n",
       "      <th>min</th>\n",
       "      <td>1.000000</td>\n",
       "      <td>372.000000</td>\n",
       "      <td>3.000000</td>\n",
       "      <td>1872.000000</td>\n",
       "      <td>21.000000</td>\n",
       "    </tr>\n",
       "    <tr>\n",
       "      <th>25%</th>\n",
       "      <td>5.000000</td>\n",
       "      <td>892.000000</td>\n",
       "      <td>5.000000</td>\n",
       "      <td>1954.000000</td>\n",
       "      <td>59.000000</td>\n",
       "    </tr>\n",
       "    <tr>\n",
       "      <th>50%</th>\n",
       "      <td>6.000000</td>\n",
       "      <td>1096.500000</td>\n",
       "      <td>6.000000</td>\n",
       "      <td>1974.000000</td>\n",
       "      <td>70.000000</td>\n",
       "    </tr>\n",
       "    <tr>\n",
       "      <th>75%</th>\n",
       "      <td>7.000000</td>\n",
       "      <td>1381.000000</td>\n",
       "      <td>7.000000</td>\n",
       "      <td>2001.000000</td>\n",
       "      <td>80.000000</td>\n",
       "    </tr>\n",
       "    <tr>\n",
       "      <th>max</th>\n",
       "      <td>10.000000</td>\n",
       "      <td>3228.000000</td>\n",
       "      <td>14.000000</td>\n",
       "      <td>2010.000000</td>\n",
       "      <td>313.000000</td>\n",
       "    </tr>\n",
       "  </tbody>\n",
       "</table>\n",
       "</div>"
      ],
      "text/plain": [
       "         OvrllQual     1stFlrSF  TotRmAbvGrd    YearBuilt  LotFrontage\n",
       "count  1022.000000  1022.000000  1022.000000  1022.000000   838.000000\n",
       "mean      6.113503  1165.537231     6.502935  1972.066528    70.400955\n",
       "std       1.373755   375.758789     1.615756    29.648966    24.111233\n",
       "min       1.000000   372.000000     3.000000  1872.000000    21.000000\n",
       "25%       5.000000   892.000000     5.000000  1954.000000    59.000000\n",
       "50%       6.000000  1096.500000     6.000000  1974.000000    70.000000\n",
       "75%       7.000000  1381.000000     7.000000  2001.000000    80.000000\n",
       "max      10.000000  3228.000000    14.000000  2010.000000   313.000000"
      ]
     },
     "execution_count": 10,
     "metadata": {},
     "output_type": "execute_result"
    }
   ],
   "source": [
    "# La funcion describe nos presenta ciertas metricas estadisticas descriptivas. \n",
    "train_x.describe()"
   ]
  },
  {
   "cell_type": "code",
   "execution_count": 11,
   "id": "operating-bidder",
   "metadata": {},
   "outputs": [
    {
     "data": {
      "text/html": [
       "<div>\n",
       "<style scoped>\n",
       "    .dataframe tbody tr th:only-of-type {\n",
       "        vertical-align: middle;\n",
       "    }\n",
       "\n",
       "    .dataframe tbody tr th {\n",
       "        vertical-align: top;\n",
       "    }\n",
       "\n",
       "    .dataframe thead th {\n",
       "        text-align: right;\n",
       "    }\n",
       "</style>\n",
       "<table border=\"1\" class=\"dataframe\">\n",
       "  <thead>\n",
       "    <tr style=\"text-align: right;\">\n",
       "      <th></th>\n",
       "      <th>SalePrice</th>\n",
       "    </tr>\n",
       "  </thead>\n",
       "  <tbody>\n",
       "    <tr>\n",
       "      <th>count</th>\n",
       "      <td>1022.000000</td>\n",
       "    </tr>\n",
       "    <tr>\n",
       "      <th>mean</th>\n",
       "      <td>181608.593750</td>\n",
       "    </tr>\n",
       "    <tr>\n",
       "      <th>std</th>\n",
       "      <td>79481.921875</td>\n",
       "    </tr>\n",
       "    <tr>\n",
       "      <th>min</th>\n",
       "      <td>37900.000000</td>\n",
       "    </tr>\n",
       "    <tr>\n",
       "      <th>25%</th>\n",
       "      <td>129500.000000</td>\n",
       "    </tr>\n",
       "    <tr>\n",
       "      <th>50%</th>\n",
       "      <td>164250.000000</td>\n",
       "    </tr>\n",
       "    <tr>\n",
       "      <th>75%</th>\n",
       "      <td>215000.000000</td>\n",
       "    </tr>\n",
       "    <tr>\n",
       "      <th>max</th>\n",
       "      <td>745000.000000</td>\n",
       "    </tr>\n",
       "  </tbody>\n",
       "</table>\n",
       "</div>"
      ],
      "text/plain": [
       "           SalePrice\n",
       "count    1022.000000\n",
       "mean   181608.593750\n",
       "std     79481.921875\n",
       "min     37900.000000\n",
       "25%    129500.000000\n",
       "50%    164250.000000\n",
       "75%    215000.000000\n",
       "max    745000.000000"
      ]
     },
     "execution_count": 11,
     "metadata": {},
     "output_type": "execute_result"
    }
   ],
   "source": [
    "train_y.describe()"
   ]
  },
  {
   "cell_type": "code",
   "execution_count": 12,
   "id": "excessive-julian",
   "metadata": {},
   "outputs": [
    {
     "data": {
      "text/plain": [
       "Text(0.5, 1.0, 'OvrllQual vs SalePrice Correlacion = 0.80')"
      ]
     },
     "execution_count": 12,
     "metadata": {},
     "output_type": "execute_result"
    },
    {
     "data": {
      "image/png": "[encoded data removed]",
      "text/plain": [
       "<Figure size 432x288 with 1 Axes>"
      ]
     },
     "metadata": {
      "needs_background": "light"
     },
     "output_type": "display_data"
    }
   ],
   "source": [
    "fig, axs = plt.subplots(1,1)\n",
    "p = train_y['SalePrice'].corr(train_x['OvrllQual'], method='pearson')\n",
    "title = f\"OvrllQual vs SalePrice Correlacion = {p:.2f}\"\n",
    "axs.scatter(train_x['OvrllQual'], train_y)\n",
    "axs.set_xlabel(\"Overall Quality\")\n",
    "axs.set_ylabel(\"Sale Price\")\n",
    "axs.set_title(title)"
   ]
  },
  {
   "cell_type": "markdown",
   "id": "compound-indian",
   "metadata": {},
   "source": [
    "Función de costo MSE\n",
    "\n",
    "$J(g) = (1/2)g^2$\n",
    "\n",
    "$g(h) = h - y$\n",
    "\n",
    "$h(w_1) = w_1x$\n",
    "\n"
   ]
  },
  {
   "cell_type": "code",
   "execution_count": 13,
   "id": "after-conjunction",
   "metadata": {},
   "outputs": [],
   "source": [
    "def compute_prediction(X, params):\n",
    "    ## add a column of one's to add the bias (b) in the same vectorize operation\n",
    "    with tf.name_scope(\"Model\"):\n",
    "        padding = tf.constant([[0,0],[1, 0]], name=\"Padding\")\n",
    "        X_with_bias = tf.pad(X, padding, \"CONSTANT\", constant_values=1, name=\"PreparedData\")\n",
    "        model = tf.linalg.matmul(X_with_bias, params, name=\"Predict\")\n",
    "    return model\n",
    "\n",
    "def compute_mse(y, y_hat):\n",
    "    with tf.name_scope(\"Cost\"):\n",
    "        diff = tf.math.square(tf.math.subtract(y, y_hat))\n",
    "        mse = 0.5 * tf.reduce_mean(diff, name=\"MSE\")\n",
    "        mse_summary = tf.summary.scalar(name=\"MSE_Summary\", tensor=mse)\n",
    "    return mse, mse_summary\n",
    "\n",
    "def build_linear_model_graph(tensor_x, tensor_y, params, lr=0.001):\n",
    "    prediction = compute_prediction(tensor_x, params)\n",
    "    mse, mse_summary = compute_mse(tensor_y, prediction)\n",
    "    with tf.name_scope(\"GradieDescent\"):\n",
    "        gradient = tf.gradients(mse, [params], name=\"Gradient\")\n",
    "        update_params = tf.assign(params, params - lr * gradient[0], name=\"UpdateParams\")\n",
    "    return prediction, update_params, params, mse, mse_summary\n",
    "\n",
    "def fit(X, Y, batch_size, epochs=100, lr=0.001, print_n=10):\n",
    "    tf.reset_default_graph()\n",
    "    params = tf.get_variable(\"Params\", dtype=tf.float32, shape=[2, 1],initializer=tf.zeros_initializer())\n",
    "    tensor_x = tf.placeholder(tf.float32, [None,1], name=\"X\")\n",
    "    tensor_y = tf.placeholder(tf.float32, [None,1], name=\"Y\")\n",
    "    get_prediction, update_params, params, mse, mse_summary = build_linear_model_graph(tensor_x, tensor_y, params, lr)\n",
    "    n = X.shape[0] // batch_size\n",
    "    final_tetha = None\n",
    "    path = f\"{logs_path}batch_size_{batch_size}_lr_{lr}_{datetime.today().strftime('%Y%m%d-%H%M%S')}\"\n",
    "    with tf.train.MonitoredSession() as session:\n",
    "        with tf.summary.FileWriter(path, session.graph) as train_writer:\n",
    "            for epoch in range(epochs): \n",
    "                for i in range(n):\n",
    "                    start, end = i * batch_size, (i+1) * batch_size\n",
    "                    x_mbatch = np.array(X[start:end,]).reshape(-1,1)\n",
    "                    y_mbatch = np.array(Y[start:end]).reshape(-1,1)\n",
    "                    feed_dict = { tensor_x: x_mbatch, tensor_y: y_mbatch}\n",
    "                    _, theta = session.run([update_params, params], feed_dict=feed_dict)\n",
    "                if (epoch + 1) % print_n == 0:\n",
    "                    feed_dict = { tensor_x: np.array(X).reshape(-1,1), tensor_y: np.array(Y).reshape(-1,1) }\n",
    "                    e_summary, error =  session.run([mse_summary, mse], feed_dict = feed_dict)\n",
    "                    train_writer.add_summary(e_summary, epoch)\n",
    "            final_theta = session.run(params, feed_dict=feed_dict)\n",
    "    def predict(x): \n",
    "        return compute_prediction(x, params)\n",
    "    return final_theta, predict"
   ]
  },
  {
   "cell_type": "markdown",
   "id": "sunset-cannon",
   "metadata": {},
   "source": [
    "<img src=\"https://github.com/mazg-95/statistical-learning/blob/main/Tarea1/images/graph.PNG?raw=true\">"
   ]
  },
  {
   "cell_type": "markdown",
   "id": "vulnerable-contrary",
   "metadata": {},
   "source": [
    "### Hipotesis: BatchSize = 10, Learning Rate = 0.001, epochs = 1000"
   ]
  },
  {
   "cell_type": "code",
   "execution_count": 14,
   "id": "wooden-apparatus",
   "metadata": {},
   "outputs": [
    {
     "data": {
      "text/html": [
       "\n",
       "      <iframe id=\"tensorboard-frame-34868c10b8d58c71\" width=\"100%\" height=\"800\" frameborder=\"0\">\n",
       "      </iframe>\n",
       "      <script>\n",
       "        (function() {\n",
       "          const frame = document.getElementById(\"tensorboard-frame-34868c10b8d58c71\");\n",
       "          const url = new URL(\"/\", window.location);\n",
       "          const port = 6006;\n",
       "          if (port) {\n",
       "            url.port = port;\n",
       "          }\n",
       "          frame.src = url;\n",
       "        })();\n",
       "      </script>\n",
       "    "
      ],
      "text/plain": [
       "<IPython.core.display.HTML object>"
      ]
     },
     "metadata": {},
     "output_type": "display_data"
    },
    {
     "name": "stdout",
     "output_type": "stream",
     "text": [
      "INFO:tensorflow:Graph was finalized.\n",
      "INFO:tensorflow:Running local_init_op.\n",
      "INFO:tensorflow:Done running local_init_op.\n"
     ]
    },
    {
     "data": {
      "image/png": "[encoded data removed]",
      "text/plain": [
       "<Figure size 432x288 with 1 Axes>"
      ]
     },
     "metadata": {
      "needs_background": "light"
     },
     "output_type": "display_data"
    }
   ],
   "source": [
    "%tensorboard --logdir logs\n",
    "x_train, y_train = train_x[\"OvrllQual\"], train_y[\"SalePrice\"]\n",
    "x_test, y_test = test_x[\"OvrllQual\"], test_y[\"SalePrice\"]\n",
    "plt.scatter(x_test, y_test)\n",
    "theta, predict = fit(x_train, y_train, batch_size=10, epochs=1000, lr=0.001, print_n=20)\n",
    "with tf.Session() as session:\n",
    "    y_estimates = session.run(compute_prediction(np.array(x_test).reshape(-1,1).astype('float32'), theta))\n",
    "    plt.plot(x_test, y_estimates, color='r')\n",
    "    plt.title(f\"Params: {', '.join(map(str, theta.reshape(-1,)))}\")\n",
    "    plt.show()\n"
   ]
  },
  {
   "cell_type": "markdown",
   "id": "expanded-anger",
   "metadata": {},
   "source": [
    "### Hipotesis: BatchSize = 32, Learning Rate = 0.001, epochs = 1000"
   ]
  },
  {
   "cell_type": "code",
   "execution_count": 15,
   "id": "lucky-visit",
   "metadata": {},
   "outputs": [
    {
     "data": {
      "text/plain": [
       "Reusing TensorBoard on port 6006 (pid 19600), started 0:00:45 ago. (Use '!kill 19600' to kill it.)"
      ]
     },
     "metadata": {},
     "output_type": "display_data"
    },
    {
     "data": {
      "text/html": [
       "\n",
       "      <iframe id=\"tensorboard-frame-b5a76aec12f6a2d2\" width=\"100%\" height=\"800\" frameborder=\"0\">\n",
       "      </iframe>\n",
       "      <script>\n",
       "        (function() {\n",
       "          const frame = document.getElementById(\"tensorboard-frame-b5a76aec12f6a2d2\");\n",
       "          const url = new URL(\"/\", window.location);\n",
       "          const port = 6006;\n",
       "          if (port) {\n",
       "            url.port = port;\n",
       "          }\n",
       "          frame.src = url;\n",
       "        })();\n",
       "      </script>\n",
       "    "
      ],
      "text/plain": [
       "<IPython.core.display.HTML object>"
      ]
     },
     "metadata": {},
     "output_type": "display_data"
    },
    {
     "name": "stdout",
     "output_type": "stream",
     "text": [
      "INFO:tensorflow:Graph was finalized.\n",
      "INFO:tensorflow:Running local_init_op.\n",
      "INFO:tensorflow:Done running local_init_op.\n"
     ]
    },
    {
     "data": {
      "image/png": "[encoded data removed]",
      "text/plain": [
       "<Figure size 432x288 with 1 Axes>"
      ]
     },
     "metadata": {
      "needs_background": "light"
     },
     "output_type": "display_data"
    }
   ],
   "source": [
    "%tensorboard --logdir logs\n",
    "x_train, y_train = train_x[\"OvrllQual\"], train_y[\"SalePrice\"]\n",
    "x_test, y_test = test_x[\"OvrllQual\"], test_y[\"SalePrice\"]\n",
    "plt.scatter(x_test, y_test)\n",
    "theta, predict = fit(x_train, y_train, batch_size=16, epochs=1000, lr=0.002, print_n=20)\n",
    "with tf.Session() as session:\n",
    "    y_estimates = session.run(compute_prediction(np.array(x_test).reshape(-1,1).astype('float32'), theta))\n",
    "    plt.plot(x_test, y_estimates, color='r')\n",
    "    plt.title(f\"Params: {', '.join(map(str, theta.reshape(-1,)))}\")\n",
    "    plt.show()"
   ]
  },
  {
   "cell_type": "markdown",
   "id": "documentary-customs",
   "metadata": {},
   "source": [
    "### Conclusion\n",
    "\n",
    "Segun los resultados vistos en Tensorflow con un Batch Size de 32 podriamos reducir el MSE del modelo con los datos de entrenamiento. Y con un batch_size mas pequeño, esto significaria un mayor numero de iteraciones sobre el dataset de entrenamiento. Podemos ver que el modelo no mejora drasticamente agregando mas de 4000 epochs.\n",
    "\n",
    "<img src=\"https://github.com/mazg-95/statistical-learning/blob/main/Tarea1/images/Scalars.png?raw=true\">"
   ]
  }
 ],
 "metadata": {
  "kernelspec": {
   "display_name": "Python 3",
   "language": "python",
   "name": "python3"
  },
  "language_info": {
   "codemirror_mode": {
    "name": "ipython",
    "version": 3
   },
   "file_extension": ".py",
   "mimetype": "text/x-python",
   "name": "python",
   "nbconvert_exporter": "python",
   "pygments_lexer": "ipython3",
   "version": "3.8.5"
  }
 },
 "nbformat": 4,
 "nbformat_minor": 5
}
